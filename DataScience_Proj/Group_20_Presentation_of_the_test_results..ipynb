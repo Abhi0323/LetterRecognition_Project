{
 "cells": [
  {
   "cell_type": "markdown",
   "metadata": {
    "id": "44659fLiA2Cn"
   },
   "source": [
    "presentation_of_the_test_results.ipynb\n",
    "\n",
    "Compare all your results (all models without variable selection, and the best model with the two variable selection methods).\n"
   ]
  },
  {
   "cell_type": "markdown",
   "metadata": {
    "id": "uX35DzgjHxO9"
   },
   "source": [
    "# Load data"
   ]
  },
  {
   "cell_type": "code",
   "execution_count": 1,
   "metadata": {
    "id": "iteyhtSu9pyj"
   },
   "outputs": [],
   "source": [
    "import pandas as pd\n",
    "import numpy as np\n",
    "import warnings\n",
    "warnings.simplefilter(\"ignore\")\n",
    "\n",
    "df = pd.read_csv('Group_20_data_cleaned.csv')\n",
    "df.drop('Unnamed: 0', axis = 1 , inplace = True)\n",
    "df[\"Letter\"] = pd.factorize(df['Letter'])[0]"
   ]
  },
  {
   "cell_type": "code",
   "execution_count": 2,
   "metadata": {
    "colab": {
     "base_uri": "https://localhost:8080/"
    },
    "id": "cjhhHrhzAbhY",
    "outputId": "52e0238b-9f42-4ebf-983c-85e9d9c3b4a0"
   },
   "outputs": [
    {
     "name": "stdout",
     "output_type": "stream",
     "text": [
      "(12800, 16) (4000, 16) (3200, 16)\n",
      "(12800,) (4000,) (3200,)\n"
     ]
    }
   ],
   "source": [
    "import numpy as np\n",
    "from sklearn.model_selection import train_test_split\n",
    "\n",
    "X, y = df.iloc[:,1:].to_numpy(), df.Letter.to_numpy()\n",
    "\n",
    "X_train, X_test, y_train, y_test = train_test_split(X, y, test_size=0.20, random_state=42)\n",
    "X_train, X_val, y_train, y_val = train_test_split(X_train, y_train, test_size=0.20, random_state=42)\n",
    "\n",
    "print(X_train.shape, X_test.shape, X_val.shape)\n",
    "print(y_train.shape, y_test.shape, y_val.shape)"
   ]
  },
  {
   "cell_type": "markdown",
   "metadata": {
    "id": "o2MspEF3H0hq"
   },
   "source": [
    "# Models"
   ]
  },
  {
   "cell_type": "markdown",
   "metadata": {
    "id": "hsZumFIBChi9"
   },
   "source": [
    "## Dummy classifier"
   ]
  },
  {
   "cell_type": "code",
   "execution_count": 3,
   "metadata": {
    "colab": {
     "base_uri": "https://localhost:8080/"
    },
    "id": "x2nu5qLRChVb",
    "outputId": "fbefb407-d932-4db0-ac91-eba8fe7dccbd"
   },
   "outputs": [
    {
     "name": "stdout",
     "output_type": "stream",
     "text": [
      "Accuracy : 3.38%\n"
     ]
    }
   ],
   "source": [
    "from sklearn.dummy import DummyClassifier\n",
    "\n",
    "dummy_clf = DummyClassifier(strategy=\"most_frequent\")\n",
    "dummy_clf.fit(X_train, y_train)\n",
    "\n",
    "# dummy_clf.score(X_val, y_val)\n",
    "print(\"Accuracy : {:.2f}%\".format(dummy_clf.score(X_val, y_val)*100))"
   ]
  },
  {
   "cell_type": "markdown",
   "metadata": {
    "id": "yXY5gsd5Bjwq"
   },
   "source": [
    "## linear SVM"
   ]
  },
  {
   "cell_type": "code",
   "execution_count": 4,
   "metadata": {
    "colab": {
     "base_uri": "https://localhost:8080/"
    },
    "id": "Q_y2ueXFAiQf",
    "outputId": "28eccb2a-1599-43a7-8708-60a3a86fdbaf"
   },
   "outputs": [
    {
     "name": "stdout",
     "output_type": "stream",
     "text": [
      "Accuracy : 84.50%\n"
     ]
    }
   ],
   "source": [
    "import matplotlib.pyplot as plt\n",
    "import numpy as np\n",
    "from sklearn.pipeline import make_pipeline\n",
    "from sklearn.preprocessing import StandardScaler\n",
    "from sklearn.svm import SVC\n",
    "from sklearn.metrics import classification_report, confusion_matrix\n",
    "\n",
    "linear_svm_model = make_pipeline(StandardScaler(), SVC(gamma='auto',\n",
    "                                            kernel='linear',\n",
    "                                            cache_size=200,\n",
    "                                            tol=0.001,\n",
    "                                            random_state=0))\n",
    "\n",
    "linear_svm_model.fit(X_train, y_train)\n",
    "\n",
    "# linear_svm_model.score(X_val, y_val)\n",
    "print(\"Accuracy : {:.2f}%\".format(linear_svm_model.score(X_val, y_val)*100))"
   ]
  },
  {
   "cell_type": "markdown",
   "metadata": {
    "id": "EtC4eIt07jaS"
   },
   "source": [
    "## Decision Tree"
   ]
  },
  {
   "cell_type": "code",
   "execution_count": 5,
   "metadata": {
    "colab": {
     "base_uri": "https://localhost:8080/"
    },
    "id": "FgRVYG4I7jJE",
    "outputId": "65768ff9-6480-4fef-a2f3-2a57315050b0"
   },
   "outputs": [
    {
     "name": "stdout",
     "output_type": "stream",
     "text": [
      "Accuracy : 81.97%\n"
     ]
    }
   ],
   "source": [
    "from sklearn.tree import DecisionTreeClassifier\n",
    "dc_model = DecisionTreeClassifier(criterion= 'gini',\n",
    "                                    max_depth = 20 ,\n",
    "                                    max_leaf_nodes= 500, \n",
    "                                    min_samples_leaf= 1, \n",
    "                                    min_samples_split = 2)\n",
    "\n",
    "dc_model.fit(X_train,y_train)\n",
    "print(\"Accuracy : {:.2f}%\".format(dc_model.score(X_val, y_val)*100))\n"
   ]
  },
  {
   "cell_type": "markdown",
   "metadata": {
    "id": "rxBW4VSqBrZN"
   },
   "source": [
    "## Random Forest"
   ]
  },
  {
   "cell_type": "code",
   "execution_count": 6,
   "metadata": {
    "colab": {
     "base_uri": "https://localhost:8080/"
    },
    "id": "vGlZHG-lBrHi",
    "outputId": "ac5b65da-d8d5-4693-db86-ba343c033f45"
   },
   "outputs": [
    {
     "name": "stdout",
     "output_type": "stream",
     "text": [
      "Accuracy : 93.00%\n"
     ]
    }
   ],
   "source": [
    "import matplotlib.pyplot as plt\n",
    "import numpy as np\n",
    "from sklearn.ensemble import RandomForestClassifier\n",
    "from sklearn.metrics import classification_report, confusion_matrix\n",
    "\n",
    "rf_model = RandomForestClassifier(max_depth=15,\n",
    "                               n_estimators=20,\n",
    "                               random_state=0,)\n",
    "\n",
    "rf_model.fit(X_train, y_train)\n",
    "print(\"Accuracy : {:.2f}%\".format(rf_model.score(X_val, y_val)*100))"
   ]
  },
  {
   "cell_type": "markdown",
   "metadata": {
    "id": "C0V6CNnCCKRn"
   },
   "source": [
    "## KNN"
   ]
  },
  {
   "cell_type": "code",
   "execution_count": 7,
   "metadata": {
    "colab": {
     "base_uri": "https://localhost:8080/"
    },
    "id": "i1cqscXeCJxK",
    "outputId": "0dfc2ae1-8c25-4544-ceb9-cb5248fe4f39"
   },
   "outputs": [
    {
     "name": "stdout",
     "output_type": "stream",
     "text": [
      "Accuracy : 94.38%\n"
     ]
    }
   ],
   "source": [
    "from sklearn.neighbors import KNeighborsClassifier\n",
    "\n",
    "knn_model = KNeighborsClassifier(n_neighbors=10,\n",
    "                             weights=\"distance\",\n",
    "                             algorithm=\"auto\")\n",
    "\n",
    "knn_model.fit(X_train, y_train)\n",
    "print(\"Accuracy : {:.2f}%\".format(knn_model.score(X_val, y_val)*100))"
   ]
  },
  {
   "cell_type": "markdown",
   "metadata": {
    "id": "Eqmc0zJSCQF9"
   },
   "source": [
    "## Linear model (Ridge classifier)"
   ]
  },
  {
   "cell_type": "code",
   "execution_count": 8,
   "metadata": {
    "colab": {
     "base_uri": "https://localhost:8080/"
    },
    "id": "4vdobsMoCP6x",
    "outputId": "eb7d29ef-0fdb-4737-e7bc-009722ab4634"
   },
   "outputs": [
    {
     "name": "stdout",
     "output_type": "stream",
     "text": [
      "Accuracy : 54.72%\n"
     ]
    }
   ],
   "source": [
    "import matplotlib.pyplot as plt\n",
    "import numpy as np\n",
    "from sklearn.linear_model import RidgeClassifier\n",
    "from sklearn.metrics import classification_report, confusion_matrix\n",
    "\n",
    "linear_model = RidgeClassifier(alpha=1,\n",
    "                        fit_intercept=True,\n",
    "                        max_iter=3,\n",
    "                        solver='auto')\n",
    "\n",
    "linear_model.fit(X_train, y_train)\n",
    "print(\"Accuracy : {:.2f}%\".format(linear_model.score(X_val, y_val)*100))"
   ]
  },
  {
   "cell_type": "markdown",
   "metadata": {
    "id": "rOuT-h-XCYht"
   },
   "source": [
    "## non-linear SVM"
   ]
  },
  {
   "cell_type": "code",
   "execution_count": 9,
   "metadata": {
    "colab": {
     "base_uri": "https://localhost:8080/"
    },
    "id": "SpSwSNXdCXR4",
    "outputId": "9dbaf484-aef0-47b9-b31a-b4f1676a88ba"
   },
   "outputs": [
    {
     "name": "stdout",
     "output_type": "stream",
     "text": [
      "Accuracy : 93.66%\n"
     ]
    }
   ],
   "source": [
    "import matplotlib.pyplot as plt\n",
    "import numpy as np\n",
    "from sklearn.pipeline import make_pipeline\n",
    "from sklearn.preprocessing import StandardScaler\n",
    "from sklearn.svm import SVC\n",
    "from sklearn.metrics import classification_report, confusion_matrix\n",
    "\n",
    "nonlinear_svm_model = make_pipeline(StandardScaler(), SVC(gamma='auto',\n",
    "                                            kernel='rbf',\n",
    "                                            cache_size=200,\n",
    "                                            tol=0.001,\n",
    "                                            random_state=0))\n",
    "\n",
    "nonlinear_svm_model.fit(X_train, y_train)\n",
    "print(\"Accuracy : {:.2f}%\".format(nonlinear_svm_model.score(X_val, y_val)*100))"
   ]
  },
  {
   "cell_type": "markdown",
   "metadata": {
    "id": "i_9CgYWADv2J"
   },
   "source": [
    "# Results Comparison"
   ]
  },
  {
   "cell_type": "code",
   "execution_count": 10,
   "metadata": {
    "colab": {
     "base_uri": "https://localhost:8080/",
     "height": 584
    },
    "id": "7KF1h0dnDlxd",
    "outputId": "99207fd9-71e2-4b74-def1-9c87ad20e1e0"
   },
   "outputs": [
    {
     "data": {
      "image/png": "[encoded data removed]",
      "text/plain": [
       "<Figure size 800x800 with 1 Axes>"
      ]
     },
     "metadata": {},
     "output_type": "display_data"
    }
   ],
   "source": [
    "import numpy as np\n",
    "import pandas as pd\n",
    "import seaborn as sns\n",
    "import matplotlib.pyplot as plt\n",
    "from sklearn.metrics import accuracy_score\n",
    "\n",
    "accuracy_results = {\"Model Names\" : [\"Dummy Classifier\",\n",
    "                                      \"Linear Model\",\n",
    "                                      \"Linear SVM Model\",\n",
    "                                      \"Decision Tree\",\n",
    "                                      \"RandomForest\",\n",
    "                                      \"KNN Model\",\n",
    "                                      \"Non Linear SVM Model\",],\n",
    "        \"Accuracy\": [dummy_clf.score(X_val, y_val)*100,\n",
    "                    linear_model.score(X_val, y_val)*100,\n",
    "                    linear_svm_model.score(X_val, y_val)*100,\n",
    "                    dc_model.score(X_val, y_val)*100,\n",
    "                    rf_model.score(X_val, y_val)*100,\n",
    "                    knn_model.score(X_val, y_val)*100,\n",
    "                    nonlinear_svm_model.score(X_val, y_val)*100, ]}\n",
    "\n",
    "accuracy_results = pd.DataFrame(accuracy_results, columns=['Model Names', 'Accuracy'])\n",
    "\n",
    "plt.figure(figsize=(8, 8))\n",
    "\n",
    "plots = sns.barplot(x=\"Model Names\", y=\"Accuracy\", data=accuracy_results)\n",
    " \n",
    "for bar in plots.patches:\n",
    "  plots.annotate(format(bar.get_height(), '.2f'),\n",
    "                   (bar.get_x() + bar.get_width() / 2,\n",
    "                    bar.get_height()), ha='center', va='center',\n",
    "                   size=12, xytext=(0, 8),\n",
    "                   textcoords='offset points')\n",
    "\n",
    "plt.xlabel(\"Models\", size=14)\n",
    "plt.xticks(rotation = 35)\n",
    "plt.ylabel(\"% of Accuracy\", size=14)\n",
    "plt.title(\"Single Models Comparison\", size=20)\n",
    "plt.show()\n"
   ]
  },
  {
   "cell_type": "markdown",
   "metadata": {
    "id": "qYjS5FDjO9Sd"
   },
   "source": [
    "# Variable Selection"
   ]
  },
  {
   "cell_type": "markdown",
   "metadata": {
    "id": "-8HJ2DZ9PBEU"
   },
   "source": [
    "## Lasso"
   ]
  },
  {
   "cell_type": "code",
   "execution_count": 11,
   "metadata": {
    "id": "Hi60a9nCE0M8"
   },
   "outputs": [],
   "source": [
    "import numpy as np\n",
    "from sklearn.preprocessing import StandardScaler\n",
    "from sklearn.pipeline import Pipeline\n",
    "from sklearn.model_selection import train_test_split, GridSearchCV\n",
    "from sklearn.linear_model import Lasso"
   ]
  },
  {
   "cell_type": "code",
   "execution_count": 12,
   "metadata": {
    "id": "u0lARb5YPFDp"
   },
   "outputs": [],
   "source": [
    "# X_train, X_test, y_train, y_test = train_test_split(X, y, test_size=0.2, random_state=42)\n",
    "# X_train, X_val, y_train, y_val = train_test_split(X_train, y_train, test_size=0.2, random_state=42)"
   ]
  },
  {
   "cell_type": "code",
   "execution_count": 13,
   "metadata": {
    "id": "I2Ho16DnPGcM"
   },
   "outputs": [],
   "source": [
    "pipeline = Pipeline([\n",
    "                     ('scaler',StandardScaler()),\n",
    "                     ('model',Lasso())\n",
    "])"
   ]
  },
  {
   "cell_type": "code",
   "execution_count": 14,
   "metadata": {
    "id": "P0EIJr_lPHo7"
   },
   "outputs": [],
   "source": [
    "search = GridSearchCV(pipeline,\n",
    "                      {'model__alpha':np.arange(0.1,10,0.1)},\n",
    "                      cv = 5, scoring=\"neg_mean_squared_error\",verbose=1\n",
    "                      )"
   ]
  },
  {
   "cell_type": "code",
   "execution_count": 15,
   "metadata": {
    "colab": {
     "base_uri": "https://localhost:8080/"
    },
    "id": "Wlhjsx0hPI8B",
    "outputId": "a6258978-95bb-4b9e-abe2-c22f0b8a63ee"
   },
   "outputs": [
    {
     "name": "stdout",
     "output_type": "stream",
     "text": [
      "Fitting 5 folds for each of 99 candidates, totalling 495 fits\n"
     ]
    },
    {
     "data": {
      "text/plain": [
       "GridSearchCV(cv=5,\n",
       "             estimator=Pipeline(steps=[('scaler', StandardScaler()),\n",
       "                                       ('model', Lasso())]),\n",
       "             param_grid={'model__alpha': array([0.1, 0.2, 0.3, 0.4, 0.5, 0.6, 0.7, 0.8, 0.9, 1. , 1.1, 1.2, 1.3,\n",
       "       1.4, 1.5, 1.6, 1.7, 1.8, 1.9, 2. , 2.1, 2.2, 2.3, 2.4, 2.5, 2.6,\n",
       "       2.7, 2.8, 2.9, 3. , 3.1, 3.2, 3.3, 3.4, 3.5, 3.6, 3.7, 3.8, 3.9,\n",
       "       4. , 4.1, 4.2, 4.3, 4.4, 4.5, 4.6, 4.7, 4.8, 4.9, 5. , 5.1, 5.2,\n",
       "       5.3, 5.4, 5.5, 5.6, 5.7, 5.8, 5.9, 6. , 6.1, 6.2, 6.3, 6.4, 6.5,\n",
       "       6.6, 6.7, 6.8, 6.9, 7. , 7.1, 7.2, 7.3, 7.4, 7.5, 7.6, 7.7, 7.8,\n",
       "       7.9, 8. , 8.1, 8.2, 8.3, 8.4, 8.5, 8.6, 8.7, 8.8, 8.9, 9. , 9.1,\n",
       "       9.2, 9.3, 9.4, 9.5, 9.6, 9.7, 9.8, 9.9])},\n",
       "             scoring='neg_mean_squared_error', verbose=1)"
      ]
     },
     "execution_count": 15,
     "metadata": {},
     "output_type": "execute_result"
    }
   ],
   "source": [
    "search.fit(X_train,y_train)"
   ]
  },
  {
   "cell_type": "code",
   "execution_count": 16,
   "metadata": {
    "colab": {
     "base_uri": "https://localhost:8080/"
    },
    "id": "WxsYCS-tPQzP",
    "outputId": "8e558787-3882-4399-be33-8735ebc627db"
   },
   "outputs": [
    {
     "data": {
      "text/plain": [
       "{'model__alpha': 0.1}"
      ]
     },
     "execution_count": 16,
     "metadata": {},
     "output_type": "execute_result"
    }
   ],
   "source": [
    "search.best_params_# {'model__alpha': 1.2000000000000002}"
   ]
  },
  {
   "cell_type": "code",
   "execution_count": 17,
   "metadata": {
    "id": "AdibcwhUPSFm"
   },
   "outputs": [],
   "source": [
    "coefficients = search.best_estimator_.named_steps['model'].coef_"
   ]
  },
  {
   "cell_type": "code",
   "execution_count": 18,
   "metadata": {
    "colab": {
     "base_uri": "https://localhost:8080/"
    },
    "id": "26CsOjJwPTJp",
    "outputId": "01c9e0ba-83c5-4585-b4d5-be65b196373d"
   },
   "outputs": [
    {
     "data": {
      "text/plain": [
       "array([0.        , 0.78052422, 1.16699009, 0.        , 0.        ,\n",
       "       1.39466378, 1.1885915 , 0.04116385, 0.06091815, 0.03006987,\n",
       "       1.47392285, 0.79201976, 0.19477409, 1.12355841, 0.68355774,\n",
       "       0.60195449])"
      ]
     },
     "execution_count": 18,
     "metadata": {},
     "output_type": "execute_result"
    }
   ],
   "source": [
    "importance = np.abs(coefficients)\n",
    "importance"
   ]
  },
  {
   "cell_type": "code",
   "execution_count": 19,
   "metadata": {
    "colab": {
     "base_uri": "https://localhost:8080/"
    },
    "id": "aLQsd68OPUna",
    "outputId": "56bf30bb-86e8-486d-dee3-c6eb9338c735"
   },
   "outputs": [
    {
     "data": {
      "text/plain": [
       "array(['y-box', 'width', 'x-bar', 'y-bar', 'x2bar', 'y2bar', 'xybar',\n",
       "       'x2ybr', 'xy2br', 'x-ege', 'xegvy', 'y_ege', 'yegvx'], dtype='<U5')"
      ]
     },
     "execution_count": 19,
     "metadata": {},
     "output_type": "execute_result"
    }
   ],
   "source": [
    "lasso_features = list(df.columns[1:])\n",
    "lasso_features = np.array(lasso_features)[importance > 0]\n",
    "lasso_features"
   ]
  },
  {
   "cell_type": "code",
   "execution_count": 20,
   "metadata": {
    "id": "btfvGB3OPZcU"
   },
   "outputs": [],
   "source": [
    "\n",
    "# X, y = df.iloc[:,2:].to_numpy(), df.target.replace(-1, 0).to_numpy()\n",
    "\n",
    "lasso_X, y = df.loc[:, lasso_features], df.Letter.to_numpy()\n",
    "\n",
    "lasso_X_train, lasso_X_test, y_train, y_test = train_test_split(lasso_X, y, test_size=0.20, random_state=42)\n",
    "lasso_X_train, lasso_X_val, y_train, y_val = train_test_split(lasso_X_train, y_train, test_size=0.20, random_state=42)"
   ]
  },
  {
   "cell_type": "markdown",
   "metadata": {
    "id": "R9HkaOVTQEQn"
   },
   "source": [
    "### KNN with features selected by Lasso "
   ]
  },
  {
   "cell_type": "code",
   "execution_count": 21,
   "metadata": {
    "colab": {
     "base_uri": "https://localhost:8080/"
    },
    "id": "-_AIcavsPbTU",
    "outputId": "e77a154d-5688-40ed-a077-d54eaea312df"
   },
   "outputs": [
    {
     "name": "stdout",
     "output_type": "stream",
     "text": [
      "Accuracy : 94.03%\n"
     ]
    }
   ],
   "source": [
    "from sklearn.neighbors import KNeighborsClassifier\n",
    "\n",
    "lasso_knn_model = KNeighborsClassifier(n_neighbors=10,\n",
    "                             weights=\"distance\",\n",
    "                             algorithm=\"auto\")\n",
    "\n",
    "lasso_knn_model.fit(lasso_X_train, y_train)\n",
    "print(\"Accuracy : {:.2f}%\".format(lasso_knn_model.score(lasso_X_val, y_val)*100))"
   ]
  },
  {
   "cell_type": "markdown",
   "metadata": {
    "id": "kX-dgkCYQMQ7"
   },
   "source": [
    "### KNN with all data features"
   ]
  },
  {
   "cell_type": "code",
   "execution_count": 22,
   "metadata": {
    "colab": {
     "base_uri": "https://localhost:8080/"
    },
    "id": "h855AmsTPeWX",
    "outputId": "deb03370-c89a-4166-d857-0d3572c7b9d4"
   },
   "outputs": [
    {
     "name": "stdout",
     "output_type": "stream",
     "text": [
      "Accuracy : 94.38%\n"
     ]
    }
   ],
   "source": [
    "from sklearn.neighbors import KNeighborsClassifier\n",
    "\n",
    "simple_knn_model = KNeighborsClassifier(n_neighbors=10,\n",
    "                             weights=\"distance\",\n",
    "                             algorithm=\"auto\")\n",
    "\n",
    "simple_knn_model.fit(X_train, y_train)\n",
    "print(\"Accuracy : {:.2f}%\".format(simple_knn_model.score(X_val, y_val)*100))"
   ]
  },
  {
   "cell_type": "markdown",
   "metadata": {
    "id": "cbGrAq3vSTCe"
   },
   "source": [
    "## Bi-directional elemination"
   ]
  },
  {
   "cell_type": "code",
   "execution_count": 23,
   "metadata": {
    "id": "ht2XAWLlSYoh"
   },
   "outputs": [],
   "source": [
    "import joblib\n",
    "import sys\n",
    "\n",
    "sys.modules['sklearn.externals.joblib'] = joblib"
   ]
  },
  {
   "cell_type": "code",
   "execution_count": 24,
   "metadata": {
    "id": "Sz-rX2ZaRi3n"
   },
   "outputs": [],
   "source": [
    "from mlxtend.feature_selection import SequentialFeatureSelector as SFS\n",
    "import statsmodels.api as sm\n",
    "from sklearn.linear_model import LinearRegression\n",
    "\n",
    "import pandas as pd"
   ]
  },
  {
   "cell_type": "code",
   "execution_count": 25,
   "metadata": {
    "id": "85x_SGckSaX6"
   },
   "outputs": [],
   "source": [
    "def stepwise_selection(data, target, SL_in=0.05, SL_out = 0.05):\n",
    "    initial_features = data.columns.tolist()\n",
    "    best_features = []\n",
    "\n",
    "    while (len(initial_features)>0):\n",
    "        remaining_features = list(set(initial_features)-set(best_features))\n",
    "        new_pval = pd.Series(index=remaining_features)\n",
    "\n",
    "        for new_column in remaining_features:\n",
    "            model = sm.OLS(target, sm.add_constant(data[best_features+[new_column]])).fit()\n",
    "            new_pval[new_column] = model.pvalues[new_column]\n",
    "        min_p_value = new_pval.min()\n",
    "\n",
    "        if(min_p_value<SL_in):\n",
    "            best_features.append(new_pval.idxmin())\n",
    "\n",
    "            while(len(best_features)>0):\n",
    "                best_features_with_constant = sm.add_constant(data[best_features])\n",
    "                p_values = sm.OLS(target, best_features_with_constant).fit().pvalues[1:]\n",
    "                max_p_value = p_values.max()\n",
    "\n",
    "                if(max_p_value >= SL_out):\n",
    "                    excluded_feature = p_values.idxmax()\n",
    "                    best_features.remove(excluded_feature)\n",
    "\n",
    "                else:\n",
    "                    break \n",
    "\n",
    "        else:\n",
    "            break\n",
    "\n",
    "    return best_features"
   ]
  },
  {
   "cell_type": "code",
   "execution_count": 26,
   "metadata": {
    "id": "zG0oNRoNSf4B"
   },
   "outputs": [],
   "source": [
    "import pandas as pd\n",
    "\n",
    "X, y = df.iloc[:,1:], df.Letter"
   ]
  },
  {
   "cell_type": "code",
   "execution_count": 27,
   "metadata": {
    "colab": {
     "base_uri": "https://localhost:8080/"
    },
    "id": "nu-EkbUFSj44",
    "outputId": "eebec6f2-853a-48ea-db87-7c6bf1cb8ee1"
   },
   "outputs": [
    {
     "name": "stdout",
     "output_type": "stream",
     "text": [
      "['x2ybr', 'xy2br', 'x-bar', 'xegvy', 'y-bar', 'y_ege', 'yegvx', 'width', 'y-box', 'x-ege', 'y2bar', 'onpix', 'high', 'x2bar']\n"
     ]
    }
   ],
   "source": [
    "import warnings\n",
    "warnings.simplefilter(action='ignore', category=FutureWarning)\n",
    "warnings.filterwarnings(\"ignore\", category=DeprecationWarning) \n",
    "\n",
    "bde_features = stepwise_selection(X,y)\n",
    "print(bde_features)"
   ]
  },
  {
   "cell_type": "code",
   "execution_count": 28,
   "metadata": {
    "colab": {
     "base_uri": "https://localhost:8080/"
    },
    "id": "T1BXes5faaVl",
    "outputId": "ee0cfb11-d661-466b-ebf4-936d38f620c6"
   },
   "outputs": [
    {
     "data": {
      "text/plain": [
       "14"
      ]
     },
     "execution_count": 28,
     "metadata": {},
     "output_type": "execute_result"
    }
   ],
   "source": [
    "len(bde_features)"
   ]
  },
  {
   "cell_type": "code",
   "execution_count": 29,
   "metadata": {
    "id": "b1kmpkoySynq"
   },
   "outputs": [],
   "source": [
    "from sklearn.model_selection import train_test_split\n",
    "\n",
    "X, y = df.iloc[:,1:].to_numpy(), df.Letter.to_numpy()\n",
    "bde_X, y = df.loc[:, bde_features].to_numpy(), df.Letter.to_numpy()\n",
    "\n",
    "X_train, X_test, y_train, y_test = train_test_split(X, y, test_size=0.2, random_state=42)\n",
    "X_train, X_val, y_train, y_val = train_test_split(X_train, y_train, test_size=0.2, random_state=42)\n",
    "\n",
    "bde_X_train, bde_X_test, y_train, y_test = train_test_split(bde_X, y, test_size=0.20, random_state=42)\n",
    "bde_X_train, bde_X_val, y_train, y_val = train_test_split(bde_X_train, y_train, test_size=0.20, random_state=42)"
   ]
  },
  {
   "cell_type": "markdown",
   "metadata": {
    "id": "xYFgI4jGQU_h"
   },
   "source": [
    "### KNN with features selected by Bi-directional elemination"
   ]
  },
  {
   "cell_type": "code",
   "execution_count": 30,
   "metadata": {
    "colab": {
     "base_uri": "https://localhost:8080/"
    },
    "id": "m3sBX8iiS3JP",
    "outputId": "a87c0aaa-3ca2-4774-d9c7-3615535eee19"
   },
   "outputs": [
    {
     "name": "stdout",
     "output_type": "stream",
     "text": [
      "Accuracy : 93.47%\n"
     ]
    }
   ],
   "source": [
    "from sklearn.neighbors import KNeighborsClassifier\n",
    "\n",
    "bde_knn_model = KNeighborsClassifier(n_neighbors=10,\n",
    "                             weights=\"distance\",\n",
    "                             algorithm=\"auto\")\n",
    "\n",
    "bde_knn_model.fit(bde_X_train, y_train)\n",
    "print(\"Accuracy : {:.2f}%\".format(bde_knn_model.score(bde_X_val, y_val)*100))"
   ]
  },
  {
   "cell_type": "markdown",
   "metadata": {
    "id": "lTAcxjwlafkM"
   },
   "source": [
    "# Results Comparison"
   ]
  },
  {
   "cell_type": "code",
   "execution_count": 31,
   "metadata": {
    "colab": {
     "base_uri": "https://localhost:8080/",
     "height": 623
    },
    "id": "IldNMciWaALr",
    "outputId": "faea74ba-43a8-4f80-dddb-b3788ec0d134"
   },
   "outputs": [
    {
     "data": {
      "image/png": "[encoded data removed]",
      "text/plain": [
       "<Figure size 800x800 with 1 Axes>"
      ]
     },
     "metadata": {},
     "output_type": "display_data"
    }
   ],
   "source": [
    "# Importing libraries for dataframe creation\n",
    "# and graph plotting\n",
    "import numpy as np\n",
    "import pandas as pd\n",
    "import seaborn as sns\n",
    "import matplotlib.pyplot as plt\n",
    "from sklearn.metrics import accuracy_score\n",
    "\n",
    "\n",
    "# Creating our own dataframe\n",
    "accuracy_results = {\"Model Names\" : [\"KNN Base Model\",\n",
    "                                      \"KNN after Lasso\",\n",
    "                                      \"KNN after Bi-directional Elemination\",],\n",
    "        \"Accuracy\": [simple_knn_model.score(X_val, y_val)*100,\n",
    "                    lasso_knn_model.score(lasso_X_val, y_val)*100,\n",
    "                    bde_knn_model.score(bde_X_val, y_val)*100,]}\n",
    "\n",
    "accuracy_results = pd.DataFrame(accuracy_results, columns=['Model Names', 'Accuracy'])\n",
    "\n",
    "plt.figure(figsize=(8, 8))\n",
    "plots = sns.barplot(x=\"Model Names\", y=\"Accuracy\", data=accuracy_results)\n",
    " \n",
    "for bar in plots.patches:\n",
    "  plots.annotate(format(bar.get_height(), '.2f'),\n",
    "                   (bar.get_x() + bar.get_width() / 2,\n",
    "                    bar.get_height()), ha='center', va='center',\n",
    "                   size=12, xytext=(0, 8),\n",
    "                   textcoords='offset points')\n",
    "\n",
    "\n",
    "plt.title(\"Best Model before and after variable selection\", size=20)\n",
    "plt.xlabel(\"Models\", size=14, )\n",
    "plt.xticks(rotation = 35) \n",
    "plt.ylabel(\"Performance of the Model\", size=14)\n",
    "\n",
    "\n",
    "plt.show()\n"
   ]
  },
  {
   "cell_type": "code",
   "execution_count": 32,
   "metadata": {
    "colab": {
     "base_uri": "https://localhost:8080/",
     "height": 585
    },
    "id": "6uHp7-cDrIVO",
    "outputId": "76dbe2f1-9b89-48a3-cfcf-40264c18ae86"
   },
   "outputs": [
    {
     "data": {
      "image/png": "[encoded data removed]",
      "text/plain": [
       "<Figure size 800x800 with 1 Axes>"
      ]
     },
     "metadata": {},
     "output_type": "display_data"
    }
   ],
   "source": [
    "# Importing libraries for dataframe creation\n",
    "# and graph plotting\n",
    "import numpy as np\n",
    "import pandas as pd\n",
    "import seaborn as sns\n",
    "import matplotlib.pyplot as plt\n",
    "from sklearn.metrics import accuracy_score\n",
    "\n",
    "\n",
    "# Creating our own dataframe\n",
    "accuracy_results = {\"Model Names\" : [\"simple_svm_model\",\n",
    "                                      \"lasso_svm_model\",\n",
    "                                      \"bde_svm_model\",],\n",
    "                    \"No of Features\": [X_val.shape[1],\n",
    "                                        lasso_X_val.shape[1],\n",
    "                                        bde_X_val.shape[1] ]}\n",
    "\n",
    "accuracy_results = pd.DataFrame(accuracy_results, columns=['Model Names', 'No of Features'])\n",
    "\n",
    "plt.figure(figsize=(8, 8))\n",
    "\n",
    "plots = sns.barplot(x=\"Model Names\", y=\"No of Features\", data=accuracy_results)\n",
    " \n",
    "for bar in plots.patches:\n",
    "  plots.annotate(format(bar.get_height(), '.2f'),\n",
    "                   (bar.get_x() + bar.get_width() / 2,\n",
    "                    bar.get_height()), ha='center', va='center',\n",
    "                   size=12, xytext=(0, 8),\n",
    "                   textcoords='offset points')\n",
    "\n",
    "plt.xlabel(\"Models\", size=18, )\n",
    "plt.xticks(rotation = 45)\n",
    " \n",
    "plt.ylabel(\"Performance of the Model\", size=14)\n",
    "\n",
    "plt.title(\"Model performance comparison\")\n",
    "\n",
    "plt.show()\n"
   ]
  },
  {
   "cell_type": "code",
   "execution_count": null,
   "metadata": {
    "id": "h9rh2d9krjvg"
   },
   "outputs": [],
   "source": []
  }
 ],
 "metadata": {
  "colab": {
   "provenance": [],
   "toc_visible": true
  },
  "kernelspec": {
   "display_name": "Python 3 (ipykernel)",
   "language": "python",
   "name": "python3"
  },
  "language_info": {
   "codemirror_mode": {
    "name": "ipython",
    "version": 3
   },
   "file_extension": ".py",
   "mimetype": "text/x-python",
   "name": "python",
   "nbconvert_exporter": "python",
   "pygments_lexer": "ipython3",
   "version": "3.9.13"
  }
 },
 "nbformat": 4,
 "nbformat_minor": 1
}
