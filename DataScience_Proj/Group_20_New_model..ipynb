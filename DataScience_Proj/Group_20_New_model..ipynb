{
 "cells": [
  {
   "cell_type": "markdown",
   "metadata": {
    "id": "poXk3IDalO82"
   },
   "source": [
    "## Load Data"
   ]
  },
  {
   "cell_type": "code",
   "execution_count": 1,
   "metadata": {
    "id": "UgcPv-BbcJQ7"
   },
   "outputs": [],
   "source": [
    "import pandas as pd\n",
    "import numpy as np\n",
    "import warnings\n",
    "warnings.simplefilter(\"ignore\")\n",
    "\n",
    "df = pd.read_csv('Group_20_data_cleaned.csv')\n",
    "df.drop('Unnamed: 0', axis = 1 , inplace = True)\n",
    "df[\"Letter\"] = pd.factorize(df['Letter'])[0]"
   ]
  },
  {
   "cell_type": "code",
   "execution_count": 2,
   "metadata": {
    "colab": {
     "base_uri": "https://localhost:8080/",
     "height": 424
    },
    "id": "Fi1m2H-yQfGD",
    "outputId": "6b01fb93-c291-45f9-cf32-67d33c42369a"
   },
   "outputs": [
    {
     "data": {
      "text/html": [
       "<div>\n",
       "<style scoped>\n",
       "    .dataframe tbody tr th:only-of-type {\n",
       "        vertical-align: middle;\n",
       "    }\n",
       "\n",
       "    .dataframe tbody tr th {\n",
       "        vertical-align: top;\n",
       "    }\n",
       "\n",
       "    .dataframe thead th {\n",
       "        text-align: right;\n",
       "    }\n",
       "</style>\n",
       "<table border=\"1\" class=\"dataframe\">\n",
       "  <thead>\n",
       "    <tr style=\"text-align: right;\">\n",
       "      <th></th>\n",
       "      <th>Letter</th>\n",
       "      <th>x-box</th>\n",
       "      <th>y-box</th>\n",
       "      <th>width</th>\n",
       "      <th>high</th>\n",
       "      <th>onpix</th>\n",
       "      <th>x-bar</th>\n",
       "      <th>y-bar</th>\n",
       "      <th>x2bar</th>\n",
       "      <th>y2bar</th>\n",
       "      <th>xybar</th>\n",
       "      <th>x2ybr</th>\n",
       "      <th>xy2br</th>\n",
       "      <th>x-ege</th>\n",
       "      <th>xegvy</th>\n",
       "      <th>y_ege</th>\n",
       "      <th>yegvx</th>\n",
       "    </tr>\n",
       "  </thead>\n",
       "  <tbody>\n",
       "    <tr>\n",
       "      <th>0</th>\n",
       "      <td>0</td>\n",
       "      <td>2</td>\n",
       "      <td>8</td>\n",
       "      <td>3</td>\n",
       "      <td>5</td>\n",
       "      <td>1</td>\n",
       "      <td>8.1</td>\n",
       "      <td>13</td>\n",
       "      <td>0</td>\n",
       "      <td>6</td>\n",
       "      <td>6.1</td>\n",
       "      <td>10</td>\n",
       "      <td>8.2</td>\n",
       "      <td>0.1</td>\n",
       "      <td>8.3</td>\n",
       "      <td>0.2</td>\n",
       "      <td>8.4</td>\n",
       "    </tr>\n",
       "    <tr>\n",
       "      <th>1</th>\n",
       "      <td>1</td>\n",
       "      <td>5</td>\n",
       "      <td>12</td>\n",
       "      <td>3</td>\n",
       "      <td>7</td>\n",
       "      <td>2</td>\n",
       "      <td>10.0</td>\n",
       "      <td>5</td>\n",
       "      <td>5</td>\n",
       "      <td>4</td>\n",
       "      <td>13.0</td>\n",
       "      <td>3</td>\n",
       "      <td>9.0</td>\n",
       "      <td>2.0</td>\n",
       "      <td>8.0</td>\n",
       "      <td>4.0</td>\n",
       "      <td>10.0</td>\n",
       "    </tr>\n",
       "    <tr>\n",
       "      <th>2</th>\n",
       "      <td>2</td>\n",
       "      <td>4</td>\n",
       "      <td>11</td>\n",
       "      <td>6</td>\n",
       "      <td>8</td>\n",
       "      <td>6</td>\n",
       "      <td>10.0</td>\n",
       "      <td>6</td>\n",
       "      <td>2</td>\n",
       "      <td>6</td>\n",
       "      <td>10.0</td>\n",
       "      <td>3</td>\n",
       "      <td>7.0</td>\n",
       "      <td>3.0</td>\n",
       "      <td>7.0</td>\n",
       "      <td>3.0</td>\n",
       "      <td>9.0</td>\n",
       "    </tr>\n",
       "    <tr>\n",
       "      <th>3</th>\n",
       "      <td>3</td>\n",
       "      <td>7</td>\n",
       "      <td>11</td>\n",
       "      <td>6</td>\n",
       "      <td>6</td>\n",
       "      <td>3</td>\n",
       "      <td>5.0</td>\n",
       "      <td>9</td>\n",
       "      <td>4</td>\n",
       "      <td>6</td>\n",
       "      <td>4.0</td>\n",
       "      <td>4</td>\n",
       "      <td>10.0</td>\n",
       "      <td>6.0</td>\n",
       "      <td>10.0</td>\n",
       "      <td>2.0</td>\n",
       "      <td>8.0</td>\n",
       "    </tr>\n",
       "    <tr>\n",
       "      <th>4</th>\n",
       "      <td>4</td>\n",
       "      <td>2</td>\n",
       "      <td>1</td>\n",
       "      <td>3</td>\n",
       "      <td>1</td>\n",
       "      <td>1</td>\n",
       "      <td>8.0</td>\n",
       "      <td>6</td>\n",
       "      <td>6</td>\n",
       "      <td>6</td>\n",
       "      <td>6.0</td>\n",
       "      <td>5</td>\n",
       "      <td>9.0</td>\n",
       "      <td>1.0</td>\n",
       "      <td>7.0</td>\n",
       "      <td>5.0</td>\n",
       "      <td>10.0</td>\n",
       "    </tr>\n",
       "    <tr>\n",
       "      <th>...</th>\n",
       "      <td>...</td>\n",
       "      <td>...</td>\n",
       "      <td>...</td>\n",
       "      <td>...</td>\n",
       "      <td>...</td>\n",
       "      <td>...</td>\n",
       "      <td>...</td>\n",
       "      <td>...</td>\n",
       "      <td>...</td>\n",
       "      <td>...</td>\n",
       "      <td>...</td>\n",
       "      <td>...</td>\n",
       "      <td>...</td>\n",
       "      <td>...</td>\n",
       "      <td>...</td>\n",
       "      <td>...</td>\n",
       "      <td>...</td>\n",
       "    </tr>\n",
       "    <tr>\n",
       "      <th>19995</th>\n",
       "      <td>2</td>\n",
       "      <td>2</td>\n",
       "      <td>2</td>\n",
       "      <td>3</td>\n",
       "      <td>3</td>\n",
       "      <td>2</td>\n",
       "      <td>7.0</td>\n",
       "      <td>7</td>\n",
       "      <td>7</td>\n",
       "      <td>6</td>\n",
       "      <td>6.0</td>\n",
       "      <td>6</td>\n",
       "      <td>4.0</td>\n",
       "      <td>2.0</td>\n",
       "      <td>8.0</td>\n",
       "      <td>3.0</td>\n",
       "      <td>7.0</td>\n",
       "    </tr>\n",
       "    <tr>\n",
       "      <th>19996</th>\n",
       "      <td>14</td>\n",
       "      <td>7</td>\n",
       "      <td>10</td>\n",
       "      <td>8</td>\n",
       "      <td>8</td>\n",
       "      <td>4</td>\n",
       "      <td>4.0</td>\n",
       "      <td>8</td>\n",
       "      <td>6</td>\n",
       "      <td>9</td>\n",
       "      <td>12.0</td>\n",
       "      <td>9</td>\n",
       "      <td>13.0</td>\n",
       "      <td>2.0</td>\n",
       "      <td>9.0</td>\n",
       "      <td>3.0</td>\n",
       "      <td>7.0</td>\n",
       "    </tr>\n",
       "    <tr>\n",
       "      <th>19997</th>\n",
       "      <td>0</td>\n",
       "      <td>6</td>\n",
       "      <td>9</td>\n",
       "      <td>6</td>\n",
       "      <td>7</td>\n",
       "      <td>5</td>\n",
       "      <td>6.0</td>\n",
       "      <td>11</td>\n",
       "      <td>3</td>\n",
       "      <td>7</td>\n",
       "      <td>11.0</td>\n",
       "      <td>9</td>\n",
       "      <td>5.0</td>\n",
       "      <td>2.0</td>\n",
       "      <td>12.0</td>\n",
       "      <td>2.0</td>\n",
       "      <td>4.0</td>\n",
       "    </tr>\n",
       "    <tr>\n",
       "      <th>19998</th>\n",
       "      <td>5</td>\n",
       "      <td>2</td>\n",
       "      <td>3</td>\n",
       "      <td>4</td>\n",
       "      <td>2</td>\n",
       "      <td>1</td>\n",
       "      <td>8.0</td>\n",
       "      <td>7</td>\n",
       "      <td>2</td>\n",
       "      <td>6</td>\n",
       "      <td>10.0</td>\n",
       "      <td>6</td>\n",
       "      <td>8.0</td>\n",
       "      <td>1.0</td>\n",
       "      <td>9.0</td>\n",
       "      <td>5.0</td>\n",
       "      <td>8.0</td>\n",
       "    </tr>\n",
       "    <tr>\n",
       "      <th>19999</th>\n",
       "      <td>7</td>\n",
       "      <td>4</td>\n",
       "      <td>9</td>\n",
       "      <td>6</td>\n",
       "      <td>6</td>\n",
       "      <td>2</td>\n",
       "      <td>9.0</td>\n",
       "      <td>5</td>\n",
       "      <td>3</td>\n",
       "      <td>1</td>\n",
       "      <td>8.0</td>\n",
       "      <td>1</td>\n",
       "      <td>8.0</td>\n",
       "      <td>2.0</td>\n",
       "      <td>7.0</td>\n",
       "      <td>2.0</td>\n",
       "      <td>8.0</td>\n",
       "    </tr>\n",
       "  </tbody>\n",
       "</table>\n",
       "<p>20000 rows × 17 columns</p>\n",
       "</div>"
      ],
      "text/plain": [
       "       Letter  x-box  y-box  width  high  onpix  x-bar  y-bar  x2bar  y2bar  \\\n",
       "0           0      2      8      3     5      1    8.1     13      0      6   \n",
       "1           1      5     12      3     7      2   10.0      5      5      4   \n",
       "2           2      4     11      6     8      6   10.0      6      2      6   \n",
       "3           3      7     11      6     6      3    5.0      9      4      6   \n",
       "4           4      2      1      3     1      1    8.0      6      6      6   \n",
       "...       ...    ...    ...    ...   ...    ...    ...    ...    ...    ...   \n",
       "19995       2      2      2      3     3      2    7.0      7      7      6   \n",
       "19996      14      7     10      8     8      4    4.0      8      6      9   \n",
       "19997       0      6      9      6     7      5    6.0     11      3      7   \n",
       "19998       5      2      3      4     2      1    8.0      7      2      6   \n",
       "19999       7      4      9      6     6      2    9.0      5      3      1   \n",
       "\n",
       "       xybar  x2ybr  xy2br  x-ege  xegvy  y_ege  yegvx  \n",
       "0        6.1     10    8.2    0.1    8.3    0.2    8.4  \n",
       "1       13.0      3    9.0    2.0    8.0    4.0   10.0  \n",
       "2       10.0      3    7.0    3.0    7.0    3.0    9.0  \n",
       "3        4.0      4   10.0    6.0   10.0    2.0    8.0  \n",
       "4        6.0      5    9.0    1.0    7.0    5.0   10.0  \n",
       "...      ...    ...    ...    ...    ...    ...    ...  \n",
       "19995    6.0      6    4.0    2.0    8.0    3.0    7.0  \n",
       "19996   12.0      9   13.0    2.0    9.0    3.0    7.0  \n",
       "19997   11.0      9    5.0    2.0   12.0    2.0    4.0  \n",
       "19998   10.0      6    8.0    1.0    9.0    5.0    8.0  \n",
       "19999    8.0      1    8.0    2.0    7.0    2.0    8.0  \n",
       "\n",
       "[20000 rows x 17 columns]"
      ]
     },
     "execution_count": 2,
     "metadata": {},
     "output_type": "execute_result"
    }
   ],
   "source": [
    "df"
   ]
  },
  {
   "cell_type": "markdown",
   "metadata": {
    "id": "ZX_fbqvieKJh"
   },
   "source": [
    "# ELM custom implementation"
   ]
  },
  {
   "cell_type": "code",
   "execution_count": 3,
   "metadata": {
    "id": "zukrsltAd4Ym"
   },
   "outputs": [],
   "source": [
    "# # https://towardsdatascience.com/build-an-extreme-learning-machine-in-python-91d1e8958599\n",
    "# # https://elm.readthedocs.io/en/latest/usage.html\n",
    "\n",
    "\n",
    "# import numpy as np\n",
    "# import pandas as pd\n",
    "# from sklearn.model_selection import train_test_split\n",
    "# from sklearn.preprocessing import OneHotEncoder\n",
    "# from sklearn.preprocessing import MinMaxScaler\n",
    "# from scipy.linalg import pinv"
   ]
  },
  {
   "cell_type": "code",
   "execution_count": 4,
   "metadata": {
    "id": "EJtoDvDncNm6"
   },
   "outputs": [],
   "source": [
    "# import numpy as np\n",
    "# from sklearn.model_selection import train_test_split\n",
    "\n",
    "# X, y = df.iloc[:,2:].to_numpy(), df.target.to_numpy()\n",
    "\n",
    "# X_train, X_test, y_train, y_test = train_test_split(X, y, test_size=0.20, random_state=42)\n",
    "# X_train, X_val, y_train, y_val = train_test_split(X_train, y_train, test_size=0.20, random_state=42)\n",
    "\n",
    "\n",
    "# onehotencoder = OneHotEncoder(categories='auto')\n",
    "# scaler = MinMaxScaler()\n",
    "\n",
    "# X_train = scaler.fit_transform(X_train)\n",
    "# y_train = onehotencoder.fit_transform(y_train.reshape(-1, 1))\n",
    "# X_test = scaler.fit_transform(X_test)\n",
    "# y_test = onehotencoder.fit_transform(y_test.reshape(-1, 1))\n",
    "# X_val = scaler.fit_transform(X_val)\n",
    "# y_val = onehotencoder.fit_transform(y_val.reshape(-1, 1))\n",
    "\n",
    "# print(X_train.shape, X_test.shape, X_val.shape)\n",
    "# print(y_train.shape, y_test.shape, y_val.shape)\n"
   ]
  },
  {
   "cell_type": "code",
   "execution_count": 5,
   "metadata": {
    "id": "XgQwRv_2eUcZ"
   },
   "outputs": [],
   "source": [
    "# input_size = X_train.shape[1]\n",
    "# hidden_size = 1000\n",
    "\n",
    "# input_weights = np.random.normal(size=[input_size,hidden_size])\n",
    "# biases = np.random.normal(size=[hidden_size])"
   ]
  },
  {
   "cell_type": "code",
   "execution_count": 6,
   "metadata": {
    "id": "hTqcWUhZebIs"
   },
   "outputs": [],
   "source": [
    "# def relu(x):\n",
    "#    return np.maximum(x, 0, x)\n",
    "\n",
    "# def hidden_nodes(X):\n",
    "#     G = np.dot(X, input_weights)\n",
    "#     G = G + biases\n",
    "#     H = relu(G)\n",
    "#     return H\n",
    "\n",
    "# def predict(X):\n",
    "#     out = hidden_nodes(X)\n",
    "#     out = np.dot(out, output_weights)\n",
    "#     return out\n"
   ]
  },
  {
   "cell_type": "code",
   "execution_count": 7,
   "metadata": {
    "id": "jNlZR9irkRzO"
   },
   "outputs": [],
   "source": [
    "# output_weights = np.dot(pinv(hidden_nodes(X_train)), y_train)"
   ]
  },
  {
   "cell_type": "code",
   "execution_count": 8,
   "metadata": {
    "id": "jMQBelI0elKx"
   },
   "outputs": [],
   "source": [
    "# prediction = predict(X_val)\n",
    "# correct = 0\n",
    "# total = X_val.shape[0]\n",
    "\n",
    "# for i in range(total):\n",
    "#     predicted = np.argmax(prediction[i])\n",
    "#     actual = np.argmax(y_val[i])\n",
    "#     correct += 1 if predicted == actual else 0\n",
    "\n",
    "# accuracy = correct/total\n",
    "# print('Accuracy for ', hidden_size, ' hidden nodes: ', accuracy)"
   ]
  },
  {
   "cell_type": "markdown",
   "metadata": {
    "id": "64QLW6tglSTe"
   },
   "source": [
    "## SVM - linear kernel"
   ]
  },
  {
   "cell_type": "code",
   "execution_count": 9,
   "metadata": {
    "colab": {
     "base_uri": "https://localhost:8080/"
    },
    "id": "EWH7qFEQlTtx",
    "outputId": "bd767bd8-b6d9-4921-c335-89934020210e"
   },
   "outputs": [
    {
     "name": "stdout",
     "output_type": "stream",
     "text": [
      "(12800, 16) (4000, 16) (3200, 16)\n",
      "(12800,) (4000,) (3200,)\n"
     ]
    }
   ],
   "source": [
    "import numpy as np\n",
    "from sklearn.model_selection import train_test_split\n",
    "\n",
    "X, y = df.iloc[:,1:].to_numpy(), df.Letter.to_numpy()\n",
    "\n",
    "X_train, X_test, y_train, y_test = train_test_split(X, y, test_size=0.20, random_state=42)\n",
    "X_train, X_val, y_train, y_val = train_test_split(X_train, y_train, test_size=0.20, random_state=42)\n",
    "\n",
    "print(X_train.shape, X_test.shape, X_val.shape)\n",
    "print(y_train.shape, y_test.shape, y_val.shape)"
   ]
  },
  {
   "cell_type": "code",
   "execution_count": 10,
   "metadata": {
    "colab": {
     "base_uri": "https://localhost:8080/"
    },
    "id": "f1IrxD9Nlhe1",
    "outputId": "58226114-a4a6-4e2e-b8b6-9ed6c0780eb5"
   },
   "outputs": [
    {
     "data": {
      "text/plain": [
       "Pipeline(steps=[('standardscaler', StandardScaler()),\n",
       "                ('svc', SVC(gamma='auto', kernel='linear', random_state=0))])"
      ]
     },
     "execution_count": 10,
     "metadata": {},
     "output_type": "execute_result"
    }
   ],
   "source": [
    "import matplotlib.pyplot as plt\n",
    "import numpy as np\n",
    "from sklearn.pipeline import make_pipeline\n",
    "from sklearn.preprocessing import StandardScaler\n",
    "from sklearn.svm import SVC\n",
    "from sklearn.metrics import classification_report, confusion_matrix\n",
    "\n",
    "linear_svm_model = make_pipeline(StandardScaler(), SVC(gamma='auto',\n",
    "                                            kernel='linear',\n",
    "                                            cache_size=200,\n",
    "                                            tol=0.001,\n",
    "                                            random_state=0))\n",
    "\n",
    "linear_svm_model.fit(X_train, y_train)"
   ]
  },
  {
   "cell_type": "code",
   "execution_count": 11,
   "metadata": {
    "colab": {
     "base_uri": "https://localhost:8080/"
    },
    "id": "OpvC-QSMl-JR",
    "outputId": "ffa7cfcf-de49-463c-fff4-f3b790eb9bdd"
   },
   "outputs": [
    {
     "name": "stdout",
     "output_type": "stream",
     "text": [
      "Accuracy : 84.50%\n"
     ]
    }
   ],
   "source": [
    "print(\"Accuracy : {:.2f}%\".format(linear_svm_model.score(X_val, y_val)*100))"
   ]
  },
  {
   "cell_type": "code",
   "execution_count": 12,
   "metadata": {
    "colab": {
     "base_uri": "https://localhost:8080/"
    },
    "id": "DYc9x5y_mBPU",
    "outputId": "450cb7a2-d3be-4a8e-89be-68932cef38bc"
   },
   "outputs": [
    {
     "data": {
      "text/plain": [
       "array([[109,   0,   0,   0,   1,   2,   0,   0,   0,   0,   1,   0,   0,\n",
       "          0,   0,   0,   0,   0,   0,   1,   0,   1,   0,   0,   1,   3],\n",
       "       [  0, 121,   2,   0,   0,   4,   1,   0,   0,   0,   2,   0,   0,\n",
       "          3,   1,   0,   0,   1,   0,   1,   0,   0,   0,   0,   0,   0],\n",
       "       [  1,   0, 129,   3,   1,   0,   3,   0,   0,   0,   0,   2,   1,\n",
       "          0,   0,   2,   0,   0,   1,   0,   0,   0,   1,   4,   0,   0],\n",
       "       [  0,   0,   4, 101,   0,   0,   1,   0,   0,   1,   0,   1,   1,\n",
       "          0,   0,   3,   0,   0,   0,   0,   2,   0,   0,   0,   0,   0],\n",
       "       [  0,   0,   4,   0, 102,  10,   0,   0,   0,   2,   0,   1,   2,\n",
       "          0,   7,   0,   2,   1,   0,   0,   2,   0,   2,   0,   2,   0],\n",
       "       [  0,   4,   0,   0,   0,  89,   4,   0,   0,   0,   1,   0,   1,\n",
       "          6,   1,   0,   0,   0,   0,   5,   0,   0,   2,   0,   0,   2],\n",
       "       [  0,   1,   3,   0,   5,   1, 108,   0,   0,   0,   1,   0,   6,\n",
       "          0,   0,   0,   0,   0,   0,   1,   0,   0,   1,   0,   1,   0],\n",
       "       [  0,   0,   0,   0,   1,   0,   0, 125,   1,   1,   0,   0,   0,\n",
       "          0,   0,   0,   0,   0,   0,   0,   1,   0,   0,   0,   2,   0],\n",
       "       [  0,   7,   2,   1,   0,   1,   0,   0,  82,   0,   2,   1,   0,\n",
       "          0,   0,   1,   0,   0,   0,   0,   0,   0,   0,   0,   0,   1],\n",
       "       [  0,   0,   0,   2,   0,   0,   1,   0,   0, 132,   0,   0,   0,\n",
       "          0,   0,   1,   4,   0,   0,   0,   0,   0,   0,   2,   0,   0],\n",
       "       [  1,   5,   1,   0,   0,   1,   0,   0,   2,   0, 105,   1,   1,\n",
       "          1,   0,   0,   0,   3,   0,   2,   0,   0,   1,   0,   2,   0],\n",
       "       [  0,   0,   4,   1,   1,   0,   0,   1,   1,   0,   0, 106,   1,\n",
       "          0,   4,   8,   6,   0,   1,   0,   0,   0,   2,   0,   0,   0],\n",
       "       [  1,   0,   2,   3,   0,   0,   3,   2,   0,   0,   0,   1, 105,\n",
       "          0,   0,   1,   0,   0,   0,   0,   0,   0,   1,   0,   4,   0],\n",
       "       [  3,   1,   0,   1,   4,   5,   0,   0,   0,   0,   0,   0,   0,\n",
       "        113,   0,   0,   0,   0,   3,   0,   0,   1,   0,   0,   0,   0],\n",
       "       [  0,   0,   0,   0,   1,   0,   0,   0,   0,   0,   0,   2,   0,\n",
       "          0, 101,   0,   0,   0,   0,   2,   0,   0,   0,   1,   5,   0],\n",
       "       [  2,   0,   3,   1,   2,   0,   6,   0,   3,   0,   3,  10,   7,\n",
       "          1,   5,  72,   0,   0,   2,   0,   0,   0,   0,   0,   2,   0],\n",
       "       [  0,   0,   0,   4,   0,   0,   0,   1,   0,   7,   0,   0,   0,\n",
       "          0,   0,   0, 117,   0,   0,   0,   2,   0,   0,   1,   0,   0],\n",
       "       [  2,   0,   0,   0,   3,   1,   0,   0,   0,   0,   2,   0,   1,\n",
       "          0,   2,   0,   0,  89,   0,   2,   0,   0,   1,   0,   1,   0],\n",
       "       [  0,   0,   1,   0,   6,   1,   0,   0,   0,   0,   0,   5,   1,\n",
       "         10,   0,   0,   1,   0, 107,   0,   0,   2,   0,   0,   1,   0],\n",
       "       [  2,   0,   0,   0,   6,   3,   1,   0,   0,   0,   3,   0,   1,\n",
       "          0,   2,   0,   0,   1,   0, 100,   0,   0,   1,   0,   1,   1],\n",
       "       [  1,   0,   0,   0,   0,   0,   0,   0,   0,   0,   0,   0,   0,\n",
       "          0,   0,   3,   2,   0,   0,   0, 102,   3,   0,   0,   0,   0],\n",
       "       [  4,   0,   0,   0,   0,   0,   0,   1,   0,   0,   2,   0,   0,\n",
       "          3,   0,   1,   0,   0,   0,   0,   5, 109,   2,   0,   0,   0],\n",
       "       [  0,   0,   1,   0,   8,  10,   1,   1,   0,   0,   0,   0,   0,\n",
       "          1,   0,   0,   0,   1,   0,   1,   0,   1, 103,   0,   0,   1],\n",
       "       [  0,   0,   0,   1,   0,   0,   0,   3,   0,   1,   0,   3,   0,\n",
       "          0,   1,   1,   0,   0,   0,   0,   0,   0,   0,  98,   0,   0],\n",
       "       [  0,   0,   1,   0,   0,   1,   1,   0,   0,   1,   2,   0,   8,\n",
       "          0,   3,   2,   0,   1,   0,   1,   0,   0,   1,   0,  83,   0],\n",
       "       [  0,   0,   0,   0,   0,   9,   0,   0,   5,   0,   1,   0,   0,\n",
       "          0,   0,   0,   0,   0,   0,   1,   0,   0,   0,   0,   0,  96]])"
      ]
     },
     "execution_count": 12,
     "metadata": {},
     "output_type": "execute_result"
    }
   ],
   "source": [
    "confusion_matrix(y_val, linear_svm_model.predict(X_val))"
   ]
  },
  {
   "cell_type": "code",
   "execution_count": 13,
   "metadata": {
    "colab": {
     "base_uri": "https://localhost:8080/",
     "height": 265
    },
    "id": "l7CP0_fQKFNy",
    "outputId": "93955e01-60ef-49d2-b3fb-a2fd24946bdc"
   },
   "outputs": [
    {
     "data": {
      "image/png": "[encoded data removed]",
      "text/plain": [
       "<Figure size 640x480 with 1 Axes>"
      ]
     },
     "metadata": {},
     "output_type": "display_data"
    }
   ],
   "source": [
    "import matplotlib.pyplot as plt\n",
    "import numpy as np\n",
    "\n",
    "a = confusion_matrix(y_val, linear_svm_model.predict(X_val))\n",
    "plt.imshow(a, cmap='hot', interpolation='nearest')\n",
    "plt.show()"
   ]
  },
  {
   "cell_type": "code",
   "execution_count": 14,
   "metadata": {
    "colab": {
     "base_uri": "https://localhost:8080/"
    },
    "id": "eDymmItOmKNw",
    "outputId": "5c0a3ca5-7684-4aeb-d9a9-a4c18c42dac6"
   },
   "outputs": [
    {
     "name": "stdout",
     "output_type": "stream",
     "text": [
      "              precision    recall  f1-score   support\n",
      "\n",
      "           0       0.87      0.92      0.89       119\n",
      "           1       0.87      0.89      0.88       136\n",
      "           2       0.82      0.87      0.85       148\n",
      "           3       0.86      0.89      0.87       114\n",
      "           4       0.72      0.74      0.73       137\n",
      "           5       0.64      0.77      0.70       115\n",
      "           6       0.83      0.84      0.84       128\n",
      "           7       0.93      0.95      0.94       131\n",
      "           8       0.87      0.84      0.85        98\n",
      "           9       0.91      0.93      0.92       142\n",
      "          10       0.84      0.83      0.84       126\n",
      "          11       0.80      0.78      0.79       136\n",
      "          12       0.77      0.85      0.81       123\n",
      "          13       0.82      0.86      0.84       131\n",
      "          14       0.80      0.90      0.85       112\n",
      "          15       0.76      0.61      0.67       119\n",
      "          16       0.89      0.89      0.89       132\n",
      "          17       0.92      0.86      0.89       104\n",
      "          18       0.94      0.79      0.86       135\n",
      "          19       0.85      0.82      0.84       122\n",
      "          20       0.89      0.92      0.91       111\n",
      "          21       0.93      0.86      0.89       127\n",
      "          22       0.87      0.80      0.83       129\n",
      "          23       0.92      0.91      0.92       108\n",
      "          24       0.79      0.79      0.79       105\n",
      "          25       0.92      0.86      0.89       112\n",
      "\n",
      "    accuracy                           0.84      3200\n",
      "   macro avg       0.85      0.84      0.84      3200\n",
      "weighted avg       0.85      0.84      0.85      3200\n",
      "\n"
     ]
    }
   ],
   "source": [
    "print(classification_report(y_val, linear_svm_model.predict(X_val)))"
   ]
  },
  {
   "cell_type": "markdown",
   "metadata": {
    "id": "2_WvTtpgKoyr"
   },
   "source": [
    "## SVM - Non-Linear Kernel"
   ]
  },
  {
   "cell_type": "code",
   "execution_count": 15,
   "metadata": {
    "colab": {
     "base_uri": "https://localhost:8080/",
     "height": 312
    },
    "id": "tyonePlaO-_8",
    "outputId": "d79c11be-fd2c-4d3d-8fda-de38243735eb"
   },
   "outputs": [
    {
     "name": "stderr",
     "output_type": "stream",
     "text": [
      "100%|█████████████████████████████████████████████| 3/3 [00:41<00:00, 13.91s/it]\n"
     ]
    },
    {
     "data": {
      "image/png": "[encoded data removed]",
      "text/plain": [
       "<Figure size 640x480 with 1 Axes>"
      ]
     },
     "metadata": {},
     "output_type": "display_data"
    }
   ],
   "source": [
    "import matplotlib.pyplot as plt\n",
    "import numpy as np\n",
    "from sklearn.pipeline import make_pipeline\n",
    "from sklearn.preprocessing import StandardScaler\n",
    "from sklearn.svm import SVC\n",
    "from sklearn.metrics import classification_report, confusion_matrix\n",
    "from tqdm import tqdm\n",
    "\n",
    "train_acc, test_acc = [],[]\n",
    "kernels = ['poly', 'rbf', 'sigmoid']\n",
    "for k in tqdm(kernels):\n",
    "  non_linear_svm_model = make_pipeline(StandardScaler(), SVC(gamma='auto',\n",
    "                                              kernel=k,\n",
    "                                              cache_size=200,\n",
    "                                              tol=0.001,\n",
    "                                              random_state=0))\n",
    "  \n",
    "  non_linear_svm_model.fit(X_train, y_train)\n",
    "  train_acc.append(non_linear_svm_model.score(X_train, y_train))\n",
    "  test_acc.append(non_linear_svm_model.score(X_val, y_val))\n",
    "\n",
    "plt.title('SVM - non-linear kernel: Varying kernels')\n",
    "plt.plot(kernels,test_acc, label = 'Testing Accuracy')\n",
    "plt.plot(kernels,train_acc, label = 'Training Accuracy')\n",
    "plt.legend()\n",
    "plt.xlabel('Kernels')\n",
    "plt.ylabel('Accuracy')\n",
    "plt.show()"
   ]
  },
  {
   "cell_type": "code",
   "execution_count": 16,
   "metadata": {
    "colab": {
     "base_uri": "https://localhost:8080/"
    },
    "id": "fXmAiC_VKvki",
    "outputId": "cc13fb39-3831-40f6-d777-8ef35528b447"
   },
   "outputs": [
    {
     "data": {
      "text/plain": [
       "Pipeline(steps=[('standardscaler', StandardScaler()),\n",
       "                ('svc', SVC(gamma='auto', random_state=0))])"
      ]
     },
     "execution_count": 16,
     "metadata": {},
     "output_type": "execute_result"
    }
   ],
   "source": [
    "import matplotlib.pyplot as plt\n",
    "import numpy as np\n",
    "from sklearn.pipeline import make_pipeline\n",
    "from sklearn.preprocessing import StandardScaler\n",
    "from sklearn.svm import SVC\n",
    "from sklearn.metrics import classification_report, confusion_matrix\n",
    "\n",
    "non_linear_svm_model = make_pipeline(StandardScaler(), SVC(gamma='auto',\n",
    "                                            kernel='rbf',\n",
    "                                            cache_size=200,\n",
    "                                            tol=0.001,\n",
    "                                            random_state=0))\n",
    "\n",
    "non_linear_svm_model.fit(X_train, y_train)"
   ]
  },
  {
   "cell_type": "code",
   "execution_count": 17,
   "metadata": {
    "colab": {
     "base_uri": "https://localhost:8080/"
    },
    "id": "ZMAKXOT2Kyci",
    "outputId": "d3a17870-ae2e-49d3-94a1-4759cd6192ec"
   },
   "outputs": [
    {
     "name": "stdout",
     "output_type": "stream",
     "text": [
      "Accuracy: 93.66%\n"
     ]
    }
   ],
   "source": [
    "print(\"Accuracy: {:.2f}%\".format(non_linear_svm_model.score(X_val, y_val)*100))"
   ]
  },
  {
   "cell_type": "code",
   "execution_count": 18,
   "metadata": {
    "colab": {
     "base_uri": "https://localhost:8080/",
     "height": 1000
    },
    "id": "qo5Q_1g5KyX9",
    "outputId": "2fbc7ecd-114d-4e0e-daef-c20963a44213"
   },
   "outputs": [
    {
     "name": "stdout",
     "output_type": "stream",
     "text": [
      "[[115   0   0   0   1   0   0   0   0   0   1   0   0   2   0   0   0   0\n",
      "    0   0   0   0   0   0   0   0]\n",
      " [  0 126   0   0   0   1   1   0   3   0   2   0   0   1   1   0   0   0\n",
      "    1   0   0   0   0   0   0   0]\n",
      " [  0   0 139   5   0   0   1   0   0   0   0   1   0   0   0   1   0   0\n",
      "    0   0   0   0   0   1   0   0]\n",
      " [  0   0   0 103   0   0   1   0   0   1   0   7   2   0   0   0   0   0\n",
      "    0   0   0   0   0   0   0   0]\n",
      " [  0   0   1   0 129   0   0   0   0   0   0   3   1   0   0   1   1   0\n",
      "    0   0   0   0   1   0   0   0]\n",
      " [  0   0   0   0   0 108   0   0   0   0   1   0   1   3   0   0   0   0\n",
      "    0   2   0   0   0   0   0   0]\n",
      " [  0   0   2   0   2   5 114   0   0   0   1   0   3   0   0   1   0   0\n",
      "    0   0   0   0   0   0   0   0]\n",
      " [  0   0   0   0   0   0   0 130   0   1   0   0   0   0   0   0   0   0\n",
      "    0   0   0   0   0   0   0   0]\n",
      " [  0   4   1   1   0   1   0   1  88   0   0   1   0   1   0   0   0   0\n",
      "    0   0   0   0   0   0   0   0]\n",
      " [  0   0   0   3   1   0   1   1   0 134   0   1   0   0   0   0   1   0\n",
      "    0   0   0   0   0   0   0   0]\n",
      " [  0   0   1   0   0   0   1   0   0   0 118   0   1   2   0   0   0   0\n",
      "    0   1   0   0   1   0   1   0]\n",
      " [  0   0   0   0   1   0   0   0   0   0   0 130   2   0   0   0   1   0\n",
      "    0   0   0   0   2   0   0   0]\n",
      " [  0   0   1   1   1   0   3   0   0   0   0   0 115   0   0   1   0   0\n",
      "    0   0   0   0   1   0   0   0]\n",
      " [  1   1   0   0   0   1   0   0   0   0   0   0   0 127   0   0   0   0\n",
      "    0   1   0   0   0   0   0   0]\n",
      " [  0   0   0   0   2   0   0   0   0   0   0   2   0   0 105   0   0   0\n",
      "    0   2   0   0   0   1   0   0]\n",
      " [  0   0   1   0   3   0   5   0   0   0   0   2   5   0   0 102   0   0\n",
      "    0   0   0   0   0   1   0   0]\n",
      " [  0   0   0   1   0   0   0   1   0   5   0   0   0   0   0   0 123   0\n",
      "    0   0   0   0   0   2   0   0]\n",
      " [  0   0   0   0   4   0   0   0   0   0   1   0   1   0   1   0   0  96\n",
      "    0   1   0   0   0   0   0   0]\n",
      " [  0   0   1   0   2   0   1   0   0   0   0   3   1   7   0   1   0   0\n",
      "  117   2   0   0   0   0   0   0]\n",
      " [  0   0   0   0   5   1   1   0   0   0   0   0   1   0   0   0   0   0\n",
      "    0 113   0   0   0   0   0   1]\n",
      " [  1   0   0   0   0   0   1   0   0   0   0   0   0   0   0   0   1   0\n",
      "    0   0 107   1   0   0   0   0]\n",
      " [  1   0   0   0   0   0   0   1   0   0   0   0   0   1   0   0   0   0\n",
      "    0   0   0 124   0   0   0   0]\n",
      " [  0   0   0   0   2   0   0   0   0   0   0   0   0   0   0   0   0   0\n",
      "    0   0   0   0 127   0   0   0]\n",
      " [  0   0   0   0   0   0   0   0   0   1   0   0   0   0   0   1   0   0\n",
      "    0   0   0   0   0 106   0   0]\n",
      " [  0   0   1   0   0   0   0   0   0   0   1   0   6   0   2   2   0   0\n",
      "    0   0   0   0   0   0  93   0]\n",
      " [  0   0   0   0   0   0   0   0   0   0   0   0   0   1   0   0   0   1\n",
      "    0   1   0   0   1   0   0 108]]\n"
     ]
    },
    {
     "data": {
      "image/png": "[encoded data removed]",
      "text/plain": [
       "<Figure size 640x480 with 1 Axes>"
      ]
     },
     "metadata": {},
     "output_type": "display_data"
    }
   ],
   "source": [
    "print(confusion_matrix(y_val, non_linear_svm_model.predict(X_val)))\n",
    "import matplotlib.pyplot as plt\n",
    "import numpy as np\n",
    "\n",
    "a = confusion_matrix(y_val, non_linear_svm_model.predict(X_val))\n",
    "plt.imshow(a, cmap='hot', interpolation='nearest')\n",
    "plt.show()"
   ]
  },
  {
   "cell_type": "code",
   "execution_count": 19,
   "metadata": {
    "colab": {
     "base_uri": "https://localhost:8080/"
    },
    "id": "m9nD2VUuKySa",
    "outputId": "e1da7f9f-47dd-4a45-ca72-b11a8adbefe1"
   },
   "outputs": [
    {
     "name": "stdout",
     "output_type": "stream",
     "text": [
      "Classification Report:                precision    recall  f1-score   support\n",
      "\n",
      "           0       0.97      0.97      0.97       119\n",
      "           1       0.96      0.93      0.94       136\n",
      "           2       0.94      0.94      0.94       148\n",
      "           3       0.90      0.90      0.90       114\n",
      "           4       0.84      0.94      0.89       137\n",
      "           5       0.92      0.94      0.93       115\n",
      "           6       0.88      0.89      0.88       128\n",
      "           7       0.97      0.99      0.98       131\n",
      "           8       0.97      0.90      0.93        98\n",
      "           9       0.94      0.94      0.94       142\n",
      "          10       0.94      0.94      0.94       126\n",
      "          11       0.87      0.96      0.91       136\n",
      "          12       0.83      0.93      0.88       123\n",
      "          13       0.88      0.97      0.92       131\n",
      "          14       0.96      0.94      0.95       112\n",
      "          15       0.93      0.86      0.89       119\n",
      "          16       0.97      0.93      0.95       132\n",
      "          17       0.99      0.92      0.96       104\n",
      "          18       0.99      0.87      0.92       135\n",
      "          19       0.92      0.93      0.92       122\n",
      "          20       1.00      0.96      0.98       111\n",
      "          21       0.99      0.98      0.98       127\n",
      "          22       0.95      0.98      0.97       129\n",
      "          23       0.95      0.98      0.97       108\n",
      "          24       0.99      0.89      0.93       105\n",
      "          25       0.99      0.96      0.98       112\n",
      "\n",
      "    accuracy                           0.94      3200\n",
      "   macro avg       0.94      0.94      0.94      3200\n",
      "weighted avg       0.94      0.94      0.94      3200\n",
      "\n"
     ]
    }
   ],
   "source": [
    "print(\"Classification Report: \",classification_report(y_val, non_linear_svm_model.predict(X_val)))"
   ]
  },
  {
   "cell_type": "markdown",
   "metadata": {
    "id": "jYWendbYwaLQ"
   },
   "source": [
    "## Results comparison using Validation data"
   ]
  },
  {
   "cell_type": "code",
   "execution_count": 20,
   "metadata": {
    "colab": {
     "base_uri": "https://localhost:8080/",
     "height": 521
    },
    "id": "DGQ8iof1vtfG",
    "outputId": "777b769e-b55c-4fdb-f70b-d0d7851dd4ee"
   },
   "outputs": [
    {
     "data": {
      "image/png": "[encoded data removed]",
      "text/plain": [
       "<Figure size 800x800 with 1 Axes>"
      ]
     },
     "metadata": {},
     "output_type": "display_data"
    }
   ],
   "source": [
    "# Importing libraries for dataframe creation\n",
    "# and graph plotting\n",
    "import numpy as np\n",
    "import pandas as pd\n",
    "import seaborn as sns\n",
    "import matplotlib.pyplot as plt\n",
    "\n",
    "# Creating our own dataframe\n",
    "accuracy_results = {\"Model Names\" : ['SVM - linear kernel', 'SVM - non-linear kernel',],\n",
    "        \"Accuracy\": [linear_svm_model.score(X_val, y_val)*100, \n",
    "                     non_linear_svm_model.score(X_val, y_val)*100,]}\n",
    "# Now convert this dictionary type data into a pandas dataframe\n",
    "# specifying what are the column names\n",
    "accuracy_results = pd.DataFrame(accuracy_results, columns=['Model Names', 'Accuracy'])\n",
    "\n",
    "# Defining the plot size\n",
    "plt.figure(figsize=(8, 8))\n",
    " \n",
    "# Defining the values for x-axis, y-axis\n",
    "# and from which dataframe the values are to be picked\n",
    "plots = sns.barplot(x=\"Model Names\", y=\"Accuracy\", data=accuracy_results)\n",
    " \n",
    "# Iterrating over the bars one-by-one\n",
    "for bar in plots.patches:\n",
    "   \n",
    "  # Using Matplotlib's annotate function and\n",
    "  # passing the coordinates where the annotation shall be done\n",
    "  # x-coordinate: bar.get_x() + bar.get_width() / 2\n",
    "  # y-coordinate: bar.get_height()\n",
    "  # free space to be left to make graph pleasing: (0, 8)\n",
    "  # ha and va stand for the horizontal and vertical alignment\n",
    "  plots.annotate(format(bar.get_height(), '.2f'),\n",
    "                   (bar.get_x() + bar.get_width() / 2,\n",
    "                    bar.get_height()), ha='center', va='center',\n",
    "                   size=12, xytext=(0, 8),\n",
    "                   textcoords='offset points')\n",
    "\n",
    "# Setting the label for x-axis\n",
    "plt.xlabel(\"Models\", size=18)\n",
    " \n",
    "# Setting the label for y-axis\n",
    "plt.ylabel(\"Performance of the Model\", size=14)\n",
    "\n",
    "# Setting the title for the graph\n",
    "plt.title(\"Model performance comparison\")\n",
    "\n",
    "# Finally showing the plot\n",
    "plt.show()"
   ]
  },
  {
   "cell_type": "markdown",
   "metadata": {
    "id": "zVAzA230y2LF"
   },
   "source": [
    "# Test results on best model"
   ]
  },
  {
   "cell_type": "code",
   "execution_count": 21,
   "metadata": {
    "colab": {
     "base_uri": "https://localhost:8080/",
     "height": 995
    },
    "id": "xTbLhTr7z8rT",
    "outputId": "4c35c82a-3323-4c9b-df4e-57b9db6b9f27"
   },
   "outputs": [
    {
     "name": "stdout",
     "output_type": "stream",
     "text": [
      "              precision    recall  f1-score   support\n",
      "\n",
      "           0       0.97      0.96      0.97       163\n",
      "           1       0.99      0.93      0.96       146\n",
      "           2       0.87      0.96      0.91       156\n",
      "           3       0.95      0.93      0.94       151\n",
      "           4       0.89      0.96      0.92       160\n",
      "           5       0.97      0.98      0.97       171\n",
      "           6       0.84      0.92      0.88       153\n",
      "           7       0.97      0.98      0.97       149\n",
      "           8       0.94      0.97      0.95       149\n",
      "           9       0.98      0.98      0.98       168\n",
      "          10       0.96      0.97      0.96       154\n",
      "          11       0.90      0.94      0.92       145\n",
      "          12       0.81      0.93      0.87       160\n",
      "          13       0.89      0.94      0.91       140\n",
      "          14       0.98      0.91      0.94       137\n",
      "          15       0.95      0.78      0.86       144\n",
      "          16       0.96      0.97      0.97       148\n",
      "          17       0.99      0.93      0.96       155\n",
      "          18       0.99      0.87      0.92       173\n",
      "          19       0.92      0.95      0.94       141\n",
      "          20       0.98      0.95      0.96       158\n",
      "          21       0.98      0.98      0.98       168\n",
      "          22       0.99      0.96      0.98       166\n",
      "          23       0.96      0.95      0.95       183\n",
      "          24       0.92      0.88      0.90       130\n",
      "          25       0.98      0.95      0.97       132\n",
      "\n",
      "    accuracy                           0.94      4000\n",
      "   macro avg       0.94      0.94      0.94      4000\n",
      "weighted avg       0.94      0.94      0.94      4000\n",
      "\n"
     ]
    },
    {
     "ename": "ValueError",
     "evalue": "The number of FixedLocator locations (26), usually from a call to set_ticks, does not match the number of ticklabels (2).",
     "output_type": "error",
     "traceback": [
      "\u001b[0;31m---------------------------------------------------------------------------\u001b[0m",
      "\u001b[0;31mValueError\u001b[0m                                Traceback (most recent call last)",
      "\u001b[0;32m/var/folders/35/tv_zs1z90wd7czbltrf7h6h80000gn/T/ipykernel_81390/2032564335.py\u001b[0m in \u001b[0;36m<module>\u001b[0;34m\u001b[0m\n\u001b[1;32m      6\u001b[0m \u001b[0mprint\u001b[0m\u001b[0;34m(\u001b[0m\u001b[0mclassification_report\u001b[0m\u001b[0;34m(\u001b[0m\u001b[0my_test\u001b[0m\u001b[0;34m,\u001b[0m \u001b[0mbest_model_predictions\u001b[0m\u001b[0;34m)\u001b[0m\u001b[0;34m)\u001b[0m\u001b[0;34m\u001b[0m\u001b[0;34m\u001b[0m\u001b[0m\n\u001b[1;32m      7\u001b[0m \u001b[0;34m\u001b[0m\u001b[0m\n\u001b[0;32m----> 8\u001b[0;31m \u001b[0mplot_confusion_matrix\u001b[0m\u001b[0;34m(\u001b[0m\u001b[0mnon_linear_svm_model\u001b[0m\u001b[0;34m,\u001b[0m \u001b[0mX_test\u001b[0m\u001b[0;34m,\u001b[0m \u001b[0my_test\u001b[0m\u001b[0;34m,\u001b[0m \u001b[0mdisplay_labels\u001b[0m\u001b[0;34m=\u001b[0m\u001b[0;34m[\u001b[0m\u001b[0;34m'non-commercial'\u001b[0m\u001b[0;34m,\u001b[0m\u001b[0;34m'commercial'\u001b[0m\u001b[0;34m]\u001b[0m\u001b[0;34m)\u001b[0m\u001b[0;34m\u001b[0m\u001b[0;34m\u001b[0m\u001b[0m\n\u001b[0m\u001b[1;32m      9\u001b[0m \u001b[0;34m\u001b[0m\u001b[0m\n\u001b[1;32m     10\u001b[0m \u001b[0mprint\u001b[0m\u001b[0;34m(\u001b[0m\u001b[0;34m\"Accuracy : {:.2f} % \\n\\n\\n\"\u001b[0m\u001b[0;34m.\u001b[0m\u001b[0mformat\u001b[0m\u001b[0;34m(\u001b[0m\u001b[0mnon_linear_svm_model\u001b[0m\u001b[0;34m.\u001b[0m\u001b[0mscore\u001b[0m\u001b[0;34m(\u001b[0m\u001b[0mX_test\u001b[0m\u001b[0;34m,\u001b[0m \u001b[0my_test\u001b[0m\u001b[0;34m)\u001b[0m\u001b[0;34m*\u001b[0m\u001b[0;36m100\u001b[0m\u001b[0;34m)\u001b[0m\u001b[0;34m)\u001b[0m\u001b[0;34m\u001b[0m\u001b[0;34m\u001b[0m\u001b[0m\n",
      "\u001b[0;32m~/opt/anaconda3/lib/python3.9/site-packages/sklearn/utils/deprecation.py\u001b[0m in \u001b[0;36mwrapped\u001b[0;34m(*args, **kwargs)\u001b[0m\n\u001b[1;32m     86\u001b[0m         \u001b[0;32mdef\u001b[0m \u001b[0mwrapped\u001b[0m\u001b[0;34m(\u001b[0m\u001b[0;34m*\u001b[0m\u001b[0margs\u001b[0m\u001b[0;34m,\u001b[0m \u001b[0;34m**\u001b[0m\u001b[0mkwargs\u001b[0m\u001b[0;34m)\u001b[0m\u001b[0;34m:\u001b[0m\u001b[0;34m\u001b[0m\u001b[0;34m\u001b[0m\u001b[0m\n\u001b[1;32m     87\u001b[0m             \u001b[0mwarnings\u001b[0m\u001b[0;34m.\u001b[0m\u001b[0mwarn\u001b[0m\u001b[0;34m(\u001b[0m\u001b[0mmsg\u001b[0m\u001b[0;34m,\u001b[0m \u001b[0mcategory\u001b[0m\u001b[0;34m=\u001b[0m\u001b[0mFutureWarning\u001b[0m\u001b[0;34m)\u001b[0m\u001b[0;34m\u001b[0m\u001b[0;34m\u001b[0m\u001b[0m\n\u001b[0;32m---> 88\u001b[0;31m             \u001b[0;32mreturn\u001b[0m \u001b[0mfun\u001b[0m\u001b[0;34m(\u001b[0m\u001b[0;34m*\u001b[0m\u001b[0margs\u001b[0m\u001b[0;34m,\u001b[0m \u001b[0;34m**\u001b[0m\u001b[0mkwargs\u001b[0m\u001b[0;34m)\u001b[0m\u001b[0;34m\u001b[0m\u001b[0;34m\u001b[0m\u001b[0m\n\u001b[0m\u001b[1;32m     89\u001b[0m \u001b[0;34m\u001b[0m\u001b[0m\n\u001b[1;32m     90\u001b[0m         \u001b[0mwrapped\u001b[0m\u001b[0;34m.\u001b[0m\u001b[0m__doc__\u001b[0m \u001b[0;34m=\u001b[0m \u001b[0mself\u001b[0m\u001b[0;34m.\u001b[0m\u001b[0m_update_doc\u001b[0m\u001b[0;34m(\u001b[0m\u001b[0mwrapped\u001b[0m\u001b[0;34m.\u001b[0m\u001b[0m__doc__\u001b[0m\u001b[0;34m)\u001b[0m\u001b[0;34m\u001b[0m\u001b[0;34m\u001b[0m\u001b[0m\n",
      "\u001b[0;32m~/opt/anaconda3/lib/python3.9/site-packages/sklearn/metrics/_plot/confusion_matrix.py\u001b[0m in \u001b[0;36mplot_confusion_matrix\u001b[0;34m(estimator, X, y_true, labels, sample_weight, normalize, display_labels, include_values, xticks_rotation, values_format, cmap, ax, colorbar)\u001b[0m\n\u001b[1;32m    575\u001b[0m \u001b[0;34m\u001b[0m\u001b[0m\n\u001b[1;32m    576\u001b[0m     \u001b[0mdisp\u001b[0m \u001b[0;34m=\u001b[0m \u001b[0mConfusionMatrixDisplay\u001b[0m\u001b[0;34m(\u001b[0m\u001b[0mconfusion_matrix\u001b[0m\u001b[0;34m=\u001b[0m\u001b[0mcm\u001b[0m\u001b[0;34m,\u001b[0m \u001b[0mdisplay_labels\u001b[0m\u001b[0;34m=\u001b[0m\u001b[0mdisplay_labels\u001b[0m\u001b[0;34m)\u001b[0m\u001b[0;34m\u001b[0m\u001b[0;34m\u001b[0m\u001b[0m\n\u001b[0;32m--> 577\u001b[0;31m     return disp.plot(\n\u001b[0m\u001b[1;32m    578\u001b[0m         \u001b[0minclude_values\u001b[0m\u001b[0;34m=\u001b[0m\u001b[0minclude_values\u001b[0m\u001b[0;34m,\u001b[0m\u001b[0;34m\u001b[0m\u001b[0;34m\u001b[0m\u001b[0m\n\u001b[1;32m    579\u001b[0m         \u001b[0mcmap\u001b[0m\u001b[0;34m=\u001b[0m\u001b[0mcmap\u001b[0m\u001b[0;34m,\u001b[0m\u001b[0;34m\u001b[0m\u001b[0;34m\u001b[0m\u001b[0m\n",
      "\u001b[0;32m~/opt/anaconda3/lib/python3.9/site-packages/sklearn/metrics/_plot/confusion_matrix.py\u001b[0m in \u001b[0;36mplot\u001b[0;34m(self, include_values, cmap, xticks_rotation, values_format, ax, colorbar)\u001b[0m\n\u001b[1;32m    161\u001b[0m         \u001b[0;32mif\u001b[0m \u001b[0mcolorbar\u001b[0m\u001b[0;34m:\u001b[0m\u001b[0;34m\u001b[0m\u001b[0;34m\u001b[0m\u001b[0m\n\u001b[1;32m    162\u001b[0m             \u001b[0mfig\u001b[0m\u001b[0;34m.\u001b[0m\u001b[0mcolorbar\u001b[0m\u001b[0;34m(\u001b[0m\u001b[0mself\u001b[0m\u001b[0;34m.\u001b[0m\u001b[0mim_\u001b[0m\u001b[0;34m,\u001b[0m \u001b[0max\u001b[0m\u001b[0;34m=\u001b[0m\u001b[0max\u001b[0m\u001b[0;34m)\u001b[0m\u001b[0;34m\u001b[0m\u001b[0;34m\u001b[0m\u001b[0m\n\u001b[0;32m--> 163\u001b[0;31m         ax.set(\n\u001b[0m\u001b[1;32m    164\u001b[0m             \u001b[0mxticks\u001b[0m\u001b[0;34m=\u001b[0m\u001b[0mnp\u001b[0m\u001b[0;34m.\u001b[0m\u001b[0marange\u001b[0m\u001b[0;34m(\u001b[0m\u001b[0mn_classes\u001b[0m\u001b[0;34m)\u001b[0m\u001b[0;34m,\u001b[0m\u001b[0;34m\u001b[0m\u001b[0;34m\u001b[0m\u001b[0m\n\u001b[1;32m    165\u001b[0m             \u001b[0myticks\u001b[0m\u001b[0;34m=\u001b[0m\u001b[0mnp\u001b[0m\u001b[0;34m.\u001b[0m\u001b[0marange\u001b[0m\u001b[0;34m(\u001b[0m\u001b[0mn_classes\u001b[0m\u001b[0;34m)\u001b[0m\u001b[0;34m,\u001b[0m\u001b[0;34m\u001b[0m\u001b[0;34m\u001b[0m\u001b[0m\n",
      "\u001b[0;32m~/opt/anaconda3/lib/python3.9/site-packages/matplotlib/artist.py\u001b[0m in \u001b[0;36m<lambda>\u001b[0;34m(self, **kwargs)\u001b[0m\n\u001b[1;32m    114\u001b[0m             \u001b[0;32mreturn\u001b[0m\u001b[0;34m\u001b[0m\u001b[0;34m\u001b[0m\u001b[0m\n\u001b[1;32m    115\u001b[0m \u001b[0;34m\u001b[0m\u001b[0m\n\u001b[0;32m--> 116\u001b[0;31m         \u001b[0mcls\u001b[0m\u001b[0;34m.\u001b[0m\u001b[0mset\u001b[0m \u001b[0;34m=\u001b[0m \u001b[0;32mlambda\u001b[0m \u001b[0mself\u001b[0m\u001b[0;34m,\u001b[0m \u001b[0;34m**\u001b[0m\u001b[0mkwargs\u001b[0m\u001b[0;34m:\u001b[0m \u001b[0mArtist\u001b[0m\u001b[0;34m.\u001b[0m\u001b[0mset\u001b[0m\u001b[0;34m(\u001b[0m\u001b[0mself\u001b[0m\u001b[0;34m,\u001b[0m \u001b[0;34m**\u001b[0m\u001b[0mkwargs\u001b[0m\u001b[0;34m)\u001b[0m\u001b[0;34m\u001b[0m\u001b[0;34m\u001b[0m\u001b[0m\n\u001b[0m\u001b[1;32m    117\u001b[0m         \u001b[0mcls\u001b[0m\u001b[0;34m.\u001b[0m\u001b[0mset\u001b[0m\u001b[0;34m.\u001b[0m\u001b[0m__name__\u001b[0m \u001b[0;34m=\u001b[0m \u001b[0;34m\"set\"\u001b[0m\u001b[0;34m\u001b[0m\u001b[0;34m\u001b[0m\u001b[0m\n\u001b[1;32m    118\u001b[0m         \u001b[0mcls\u001b[0m\u001b[0;34m.\u001b[0m\u001b[0mset\u001b[0m\u001b[0;34m.\u001b[0m\u001b[0m__qualname__\u001b[0m \u001b[0;34m=\u001b[0m \u001b[0;34mf\"{cls.__qualname__}.set\"\u001b[0m\u001b[0;34m\u001b[0m\u001b[0;34m\u001b[0m\u001b[0m\n",
      "\u001b[0;32m~/opt/anaconda3/lib/python3.9/site-packages/matplotlib/artist.py\u001b[0m in \u001b[0;36mset\u001b[0;34m(self, **kwargs)\u001b[0m\n\u001b[1;32m   1162\u001b[0m         \u001b[0;31m# module.\u001b[0m\u001b[0;34m\u001b[0m\u001b[0;34m\u001b[0m\u001b[0m\n\u001b[1;32m   1163\u001b[0m         \u001b[0mkwargs\u001b[0m \u001b[0;34m=\u001b[0m \u001b[0mcbook\u001b[0m\u001b[0;34m.\u001b[0m\u001b[0mnormalize_kwargs\u001b[0m\u001b[0;34m(\u001b[0m\u001b[0mkwargs\u001b[0m\u001b[0;34m,\u001b[0m \u001b[0mself\u001b[0m\u001b[0;34m)\u001b[0m\u001b[0;34m\u001b[0m\u001b[0;34m\u001b[0m\u001b[0m\n\u001b[0;32m-> 1164\u001b[0;31m         \u001b[0;32mreturn\u001b[0m \u001b[0mself\u001b[0m\u001b[0;34m.\u001b[0m\u001b[0mupdate\u001b[0m\u001b[0;34m(\u001b[0m\u001b[0mkwargs\u001b[0m\u001b[0;34m)\u001b[0m\u001b[0;34m\u001b[0m\u001b[0;34m\u001b[0m\u001b[0m\n\u001b[0m\u001b[1;32m   1165\u001b[0m \u001b[0;34m\u001b[0m\u001b[0m\n\u001b[1;32m   1166\u001b[0m     \u001b[0;34m@\u001b[0m\u001b[0mcontextlib\u001b[0m\u001b[0;34m.\u001b[0m\u001b[0mcontextmanager\u001b[0m\u001b[0;34m\u001b[0m\u001b[0;34m\u001b[0m\u001b[0m\n",
      "\u001b[0;32m~/opt/anaconda3/lib/python3.9/site-packages/matplotlib/artist.py\u001b[0m in \u001b[0;36mupdate\u001b[0;34m(self, props)\u001b[0m\n\u001b[1;32m   1064\u001b[0m                         raise AttributeError(f\"{type(self).__name__!r} object \"\n\u001b[1;32m   1065\u001b[0m                                              f\"has no property {k!r}\")\n\u001b[0;32m-> 1066\u001b[0;31m                     \u001b[0mret\u001b[0m\u001b[0;34m.\u001b[0m\u001b[0mappend\u001b[0m\u001b[0;34m(\u001b[0m\u001b[0mfunc\u001b[0m\u001b[0;34m(\u001b[0m\u001b[0mv\u001b[0m\u001b[0;34m)\u001b[0m\u001b[0;34m)\u001b[0m\u001b[0;34m\u001b[0m\u001b[0;34m\u001b[0m\u001b[0m\n\u001b[0m\u001b[1;32m   1067\u001b[0m         \u001b[0;32mif\u001b[0m \u001b[0mret\u001b[0m\u001b[0;34m:\u001b[0m\u001b[0;34m\u001b[0m\u001b[0;34m\u001b[0m\u001b[0m\n\u001b[1;32m   1068\u001b[0m             \u001b[0mself\u001b[0m\u001b[0;34m.\u001b[0m\u001b[0mpchanged\u001b[0m\u001b[0;34m(\u001b[0m\u001b[0;34m)\u001b[0m\u001b[0;34m\u001b[0m\u001b[0;34m\u001b[0m\u001b[0m\n",
      "\u001b[0;32m~/opt/anaconda3/lib/python3.9/site-packages/matplotlib/axes/_base.py\u001b[0m in \u001b[0;36mwrapper\u001b[0;34m(self, *args, **kwargs)\u001b[0m\n\u001b[1;32m     73\u001b[0m \u001b[0;34m\u001b[0m\u001b[0m\n\u001b[1;32m     74\u001b[0m         \u001b[0;32mdef\u001b[0m \u001b[0mwrapper\u001b[0m\u001b[0;34m(\u001b[0m\u001b[0mself\u001b[0m\u001b[0;34m,\u001b[0m \u001b[0;34m*\u001b[0m\u001b[0margs\u001b[0m\u001b[0;34m,\u001b[0m \u001b[0;34m**\u001b[0m\u001b[0mkwargs\u001b[0m\u001b[0;34m)\u001b[0m\u001b[0;34m:\u001b[0m\u001b[0;34m\u001b[0m\u001b[0;34m\u001b[0m\u001b[0m\n\u001b[0;32m---> 75\u001b[0;31m             \u001b[0;32mreturn\u001b[0m \u001b[0mget_method\u001b[0m\u001b[0;34m(\u001b[0m\u001b[0mself\u001b[0m\u001b[0;34m)\u001b[0m\u001b[0;34m(\u001b[0m\u001b[0;34m*\u001b[0m\u001b[0margs\u001b[0m\u001b[0;34m,\u001b[0m \u001b[0;34m**\u001b[0m\u001b[0mkwargs\u001b[0m\u001b[0;34m)\u001b[0m\u001b[0;34m\u001b[0m\u001b[0;34m\u001b[0m\u001b[0m\n\u001b[0m\u001b[1;32m     76\u001b[0m \u001b[0;34m\u001b[0m\u001b[0m\n\u001b[1;32m     77\u001b[0m         \u001b[0mwrapper\u001b[0m\u001b[0;34m.\u001b[0m\u001b[0m__module__\u001b[0m \u001b[0;34m=\u001b[0m \u001b[0mowner\u001b[0m\u001b[0;34m.\u001b[0m\u001b[0m__module__\u001b[0m\u001b[0;34m\u001b[0m\u001b[0;34m\u001b[0m\u001b[0m\n",
      "\u001b[0;32m~/opt/anaconda3/lib/python3.9/site-packages/matplotlib/axis.py\u001b[0m in \u001b[0;36m_set_ticklabels\u001b[0;34m(self, labels, fontdict, minor, **kwargs)\u001b[0m\n\u001b[1;32m   1796\u001b[0m         \u001b[0;32mif\u001b[0m \u001b[0mfontdict\u001b[0m \u001b[0;32mis\u001b[0m \u001b[0;32mnot\u001b[0m \u001b[0;32mNone\u001b[0m\u001b[0;34m:\u001b[0m\u001b[0;34m\u001b[0m\u001b[0;34m\u001b[0m\u001b[0m\n\u001b[1;32m   1797\u001b[0m             \u001b[0mkwargs\u001b[0m\u001b[0;34m.\u001b[0m\u001b[0mupdate\u001b[0m\u001b[0;34m(\u001b[0m\u001b[0mfontdict\u001b[0m\u001b[0;34m)\u001b[0m\u001b[0;34m\u001b[0m\u001b[0;34m\u001b[0m\u001b[0m\n\u001b[0;32m-> 1798\u001b[0;31m         \u001b[0;32mreturn\u001b[0m \u001b[0mself\u001b[0m\u001b[0;34m.\u001b[0m\u001b[0mset_ticklabels\u001b[0m\u001b[0;34m(\u001b[0m\u001b[0mlabels\u001b[0m\u001b[0;34m,\u001b[0m \u001b[0mminor\u001b[0m\u001b[0;34m=\u001b[0m\u001b[0mminor\u001b[0m\u001b[0;34m,\u001b[0m \u001b[0;34m**\u001b[0m\u001b[0mkwargs\u001b[0m\u001b[0;34m)\u001b[0m\u001b[0;34m\u001b[0m\u001b[0;34m\u001b[0m\u001b[0m\n\u001b[0m\u001b[1;32m   1799\u001b[0m \u001b[0;34m\u001b[0m\u001b[0m\n\u001b[1;32m   1800\u001b[0m     \u001b[0;32mdef\u001b[0m \u001b[0m_set_tick_locations\u001b[0m\u001b[0;34m(\u001b[0m\u001b[0mself\u001b[0m\u001b[0;34m,\u001b[0m \u001b[0mticks\u001b[0m\u001b[0;34m,\u001b[0m \u001b[0;34m*\u001b[0m\u001b[0;34m,\u001b[0m \u001b[0mminor\u001b[0m\u001b[0;34m=\u001b[0m\u001b[0;32mFalse\u001b[0m\u001b[0;34m)\u001b[0m\u001b[0;34m:\u001b[0m\u001b[0;34m\u001b[0m\u001b[0;34m\u001b[0m\u001b[0m\n",
      "\u001b[0;32m~/opt/anaconda3/lib/python3.9/site-packages/matplotlib/axis.py\u001b[0m in \u001b[0;36mset_ticklabels\u001b[0;34m(self, ticklabels, minor, **kwargs)\u001b[0m\n\u001b[1;32m   1718\u001b[0m             \u001b[0;31m# remove all tick labels, so only error for > 0 ticklabels\u001b[0m\u001b[0;34m\u001b[0m\u001b[0;34m\u001b[0m\u001b[0m\n\u001b[1;32m   1719\u001b[0m             \u001b[0;32mif\u001b[0m \u001b[0mlen\u001b[0m\u001b[0;34m(\u001b[0m\u001b[0mlocator\u001b[0m\u001b[0;34m.\u001b[0m\u001b[0mlocs\u001b[0m\u001b[0;34m)\u001b[0m \u001b[0;34m!=\u001b[0m \u001b[0mlen\u001b[0m\u001b[0;34m(\u001b[0m\u001b[0mticklabels\u001b[0m\u001b[0;34m)\u001b[0m \u001b[0;32mand\u001b[0m \u001b[0mlen\u001b[0m\u001b[0;34m(\u001b[0m\u001b[0mticklabels\u001b[0m\u001b[0;34m)\u001b[0m \u001b[0;34m!=\u001b[0m \u001b[0;36m0\u001b[0m\u001b[0;34m:\u001b[0m\u001b[0;34m\u001b[0m\u001b[0;34m\u001b[0m\u001b[0m\n\u001b[0;32m-> 1720\u001b[0;31m                 raise ValueError(\n\u001b[0m\u001b[1;32m   1721\u001b[0m                     \u001b[0;34m\"The number of FixedLocator locations\"\u001b[0m\u001b[0;34m\u001b[0m\u001b[0;34m\u001b[0m\u001b[0m\n\u001b[1;32m   1722\u001b[0m                     \u001b[0;34mf\" ({len(locator.locs)}), usually from a call to\"\u001b[0m\u001b[0;34m\u001b[0m\u001b[0;34m\u001b[0m\u001b[0m\n",
      "\u001b[0;31mValueError\u001b[0m: The number of FixedLocator locations (26), usually from a call to set_ticks, does not match the number of ticklabels (2)."
     ]
    },
    {
     "data": {
      "image/png": "[encoded data removed]",
      "text/plain": [
       "<Figure size 640x480 with 2 Axes>"
      ]
     },
     "metadata": {},
     "output_type": "display_data"
    }
   ],
   "source": [
    "from sklearn.metrics import plot_confusion_matrix, accuracy_score\n",
    "\n",
    "best_model_predictions = non_linear_svm_model.predict(X_test)\n",
    "\n",
    "\n",
    "print(classification_report(y_test, best_model_predictions))\n",
    "\n",
    "plot_confusion_matrix(non_linear_svm_model, X_test, y_test, display_labels=['non-commercial','commercial'])\n",
    "\n",
    "print(\"Accuracy : {:.2f} % \\n\\n\\n\".format(non_linear_svm_model.score(X_test, y_test)*100))"
   ]
  },
  {
   "cell_type": "code",
   "execution_count": null,
   "metadata": {
    "id": "SstgSS1eMuo-"
   },
   "outputs": [],
   "source": []
  }
 ],
 "metadata": {
  "colab": {
   "provenance": []
  },
  "kernelspec": {
   "display_name": "Python 3 (ipykernel)",
   "language": "python",
   "name": "python3"
  },
  "language_info": {
   "codemirror_mode": {
    "name": "ipython",
    "version": 3
   },
   "file_extension": ".py",
   "mimetype": "text/x-python",
   "name": "python",
   "nbconvert_exporter": "python",
   "pygments_lexer": "ipython3",
   "version": "3.9.13"
  }
 },
 "nbformat": 4,
 "nbformat_minor": 1
}
