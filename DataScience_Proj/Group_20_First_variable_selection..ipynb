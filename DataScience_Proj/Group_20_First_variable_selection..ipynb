{
 "cells": [
  {
   "cell_type": "markdown",
   "metadata": {
    "id": "C90po21B0z-_"
   },
   "source": [
    "# Variable Selection"
   ]
  },
  {
   "cell_type": "code",
   "execution_count": 1,
   "metadata": {
    "id": "lbnXIl9B06dE"
   },
   "outputs": [],
   "source": [
    "import pandas as pd\n",
    "import numpy as np\n",
    "import warnings\n",
    "import matplotlib.pyplot as plt\n",
    "warnings.simplefilter(\"ignore\")\n",
    "import seaborn as sns\n",
    "\n",
    "df = pd.read_csv('Group_20_data_cleaned.csv')\n",
    "df.drop('Unnamed: 0', axis = 1 , inplace = True)\n",
    "df[\"Letter\"] = pd.factorize(df['Letter'])[0]"
   ]
  },
  {
   "cell_type": "code",
   "execution_count": 2,
   "metadata": {
    "colab": {
     "base_uri": "https://localhost:8080/",
     "height": 647
    },
    "id": "9mmwy-Ak04Vx",
    "outputId": "b6d65787-c027-45eb-c8d0-8c353838c97a"
   },
   "outputs": [
    {
     "data": {
      "text/html": [
       "<div>\n",
       "<style scoped>\n",
       "    .dataframe tbody tr th:only-of-type {\n",
       "        vertical-align: middle;\n",
       "    }\n",
       "\n",
       "    .dataframe tbody tr th {\n",
       "        vertical-align: top;\n",
       "    }\n",
       "\n",
       "    .dataframe thead th {\n",
       "        text-align: right;\n",
       "    }\n",
       "</style>\n",
       "<table border=\"1\" class=\"dataframe\">\n",
       "  <thead>\n",
       "    <tr style=\"text-align: right;\">\n",
       "      <th></th>\n",
       "      <th>Letter</th>\n",
       "      <th>x-box</th>\n",
       "      <th>y-box</th>\n",
       "      <th>width</th>\n",
       "      <th>high</th>\n",
       "      <th>onpix</th>\n",
       "      <th>x-bar</th>\n",
       "      <th>y-bar</th>\n",
       "      <th>x2bar</th>\n",
       "      <th>y2bar</th>\n",
       "      <th>xybar</th>\n",
       "      <th>x2ybr</th>\n",
       "      <th>xy2br</th>\n",
       "      <th>x-ege</th>\n",
       "      <th>xegvy</th>\n",
       "      <th>y_ege</th>\n",
       "      <th>yegvx</th>\n",
       "    </tr>\n",
       "  </thead>\n",
       "  <tbody>\n",
       "    <tr>\n",
       "      <th>Letter</th>\n",
       "      <td>1.000000</td>\n",
       "      <td>0.087140</td>\n",
       "      <td>-0.016518</td>\n",
       "      <td>0.090905</td>\n",
       "      <td>0.048359</td>\n",
       "      <td>0.039432</td>\n",
       "      <td>-0.214873</td>\n",
       "      <td>0.056951</td>\n",
       "      <td>0.018858</td>\n",
       "      <td>0.024105</td>\n",
       "      <td>-0.062418</td>\n",
       "      <td>0.227930</td>\n",
       "      <td>0.165688</td>\n",
       "      <td>0.020607</td>\n",
       "      <td>0.199590</td>\n",
       "      <td>0.063940</td>\n",
       "      <td>0.030157</td>\n",
       "    </tr>\n",
       "    <tr>\n",
       "      <th>x-box</th>\n",
       "      <td>0.087140</td>\n",
       "      <td>1.000000</td>\n",
       "      <td>0.757793</td>\n",
       "      <td>0.851514</td>\n",
       "      <td>0.672764</td>\n",
       "      <td>0.619097</td>\n",
       "      <td>-0.032597</td>\n",
       "      <td>0.045545</td>\n",
       "      <td>0.014306</td>\n",
       "      <td>0.052086</td>\n",
       "      <td>0.148054</td>\n",
       "      <td>0.035464</td>\n",
       "      <td>-0.046338</td>\n",
       "      <td>0.489154</td>\n",
       "      <td>0.098170</td>\n",
       "      <td>0.273502</td>\n",
       "      <td>-0.105160</td>\n",
       "    </tr>\n",
       "    <tr>\n",
       "      <th>y-box</th>\n",
       "      <td>-0.016518</td>\n",
       "      <td>0.757793</td>\n",
       "      <td>1.000000</td>\n",
       "      <td>0.671912</td>\n",
       "      <td>0.823207</td>\n",
       "      <td>0.555067</td>\n",
       "      <td>0.045691</td>\n",
       "      <td>-0.040925</td>\n",
       "      <td>-0.025019</td>\n",
       "      <td>0.096478</td>\n",
       "      <td>0.159955</td>\n",
       "      <td>-0.054648</td>\n",
       "      <td>-0.007566</td>\n",
       "      <td>0.274433</td>\n",
       "      <td>-0.001333</td>\n",
       "      <td>0.230886</td>\n",
       "      <td>-0.042738</td>\n",
       "    </tr>\n",
       "    <tr>\n",
       "      <th>width</th>\n",
       "      <td>0.090905</td>\n",
       "      <td>0.851514</td>\n",
       "      <td>0.671912</td>\n",
       "      <td>1.000000</td>\n",
       "      <td>0.660215</td>\n",
       "      <td>0.765716</td>\n",
       "      <td>0.061956</td>\n",
       "      <td>0.024832</td>\n",
       "      <td>-0.098611</td>\n",
       "      <td>0.057074</td>\n",
       "      <td>0.115016</td>\n",
       "      <td>0.011694</td>\n",
       "      <td>-0.045014</td>\n",
       "      <td>0.557250</td>\n",
       "      <td>0.045647</td>\n",
       "      <td>0.260282</td>\n",
       "      <td>-0.118286</td>\n",
       "    </tr>\n",
       "    <tr>\n",
       "      <th>high</th>\n",
       "      <td>0.048359</td>\n",
       "      <td>0.672764</td>\n",
       "      <td>0.823207</td>\n",
       "      <td>0.660215</td>\n",
       "      <td>1.000000</td>\n",
       "      <td>0.644366</td>\n",
       "      <td>0.042844</td>\n",
       "      <td>-0.020072</td>\n",
       "      <td>0.082383</td>\n",
       "      <td>0.059032</td>\n",
       "      <td>0.012457</td>\n",
       "      <td>-0.011991</td>\n",
       "      <td>0.026386</td>\n",
       "      <td>0.265243</td>\n",
       "      <td>0.025358</td>\n",
       "      <td>0.297546</td>\n",
       "      <td>-0.018855</td>\n",
       "    </tr>\n",
       "    <tr>\n",
       "      <th>onpix</th>\n",
       "      <td>0.039432</td>\n",
       "      <td>0.619097</td>\n",
       "      <td>0.555067</td>\n",
       "      <td>0.765716</td>\n",
       "      <td>0.644366</td>\n",
       "      <td>1.000000</td>\n",
       "      <td>0.139156</td>\n",
       "      <td>-0.028822</td>\n",
       "      <td>-0.011985</td>\n",
       "      <td>-0.065557</td>\n",
       "      <td>-0.069779</td>\n",
       "      <td>-0.072941</td>\n",
       "      <td>-0.038863</td>\n",
       "      <td>0.627506</td>\n",
       "      <td>0.017638</td>\n",
       "      <td>0.492651</td>\n",
       "      <td>-0.062983</td>\n",
       "    </tr>\n",
       "    <tr>\n",
       "      <th>x-bar</th>\n",
       "      <td>-0.214873</td>\n",
       "      <td>-0.032597</td>\n",
       "      <td>0.045691</td>\n",
       "      <td>0.061956</td>\n",
       "      <td>0.042844</td>\n",
       "      <td>0.139156</td>\n",
       "      <td>1.000000</td>\n",
       "      <td>-0.356574</td>\n",
       "      <td>-0.053310</td>\n",
       "      <td>-0.122850</td>\n",
       "      <td>0.085962</td>\n",
       "      <td>-0.341953</td>\n",
       "      <td>-0.032112</td>\n",
       "      <td>0.144324</td>\n",
       "      <td>-0.253334</td>\n",
       "      <td>0.127056</td>\n",
       "      <td>0.248823</td>\n",
       "    </tr>\n",
       "    <tr>\n",
       "      <th>y-bar</th>\n",
       "      <td>0.056951</td>\n",
       "      <td>0.045545</td>\n",
       "      <td>-0.040925</td>\n",
       "      <td>0.024832</td>\n",
       "      <td>-0.020072</td>\n",
       "      <td>-0.028822</td>\n",
       "      <td>-0.356574</td>\n",
       "      <td>1.000000</td>\n",
       "      <td>-0.118625</td>\n",
       "      <td>-0.049658</td>\n",
       "      <td>0.178323</td>\n",
       "      <td>0.600397</td>\n",
       "      <td>-0.271637</td>\n",
       "      <td>-0.036717</td>\n",
       "      <td>0.555084</td>\n",
       "      <td>-0.078000</td>\n",
       "      <td>-0.207870</td>\n",
       "    </tr>\n",
       "    <tr>\n",
       "      <th>x2bar</th>\n",
       "      <td>0.018858</td>\n",
       "      <td>0.014306</td>\n",
       "      <td>-0.025019</td>\n",
       "      <td>-0.098611</td>\n",
       "      <td>0.082383</td>\n",
       "      <td>-0.011985</td>\n",
       "      <td>-0.053310</td>\n",
       "      <td>-0.118625</td>\n",
       "      <td>1.000000</td>\n",
       "      <td>-0.188431</td>\n",
       "      <td>-0.317784</td>\n",
       "      <td>0.042545</td>\n",
       "      <td>0.082011</td>\n",
       "      <td>0.142129</td>\n",
       "      <td>-0.084837</td>\n",
       "      <td>0.006539</td>\n",
       "      <td>0.182881</td>\n",
       "    </tr>\n",
       "    <tr>\n",
       "      <th>y2bar</th>\n",
       "      <td>0.024105</td>\n",
       "      <td>0.052086</td>\n",
       "      <td>0.096478</td>\n",
       "      <td>0.057074</td>\n",
       "      <td>0.059032</td>\n",
       "      <td>-0.065557</td>\n",
       "      <td>-0.122850</td>\n",
       "      <td>-0.049658</td>\n",
       "      <td>-0.188431</td>\n",
       "      <td>1.000000</td>\n",
       "      <td>0.132001</td>\n",
       "      <td>-0.060116</td>\n",
       "      <td>0.119049</td>\n",
       "      <td>-0.384018</td>\n",
       "      <td>-0.052542</td>\n",
       "      <td>0.277543</td>\n",
       "      <td>-0.061331</td>\n",
       "    </tr>\n",
       "    <tr>\n",
       "      <th>xybar</th>\n",
       "      <td>-0.062418</td>\n",
       "      <td>0.148054</td>\n",
       "      <td>0.159955</td>\n",
       "      <td>0.115016</td>\n",
       "      <td>0.012457</td>\n",
       "      <td>-0.069779</td>\n",
       "      <td>0.085962</td>\n",
       "      <td>0.178323</td>\n",
       "      <td>-0.317784</td>\n",
       "      <td>0.132001</td>\n",
       "      <td>1.000000</td>\n",
       "      <td>0.057991</td>\n",
       "      <td>-0.106763</td>\n",
       "      <td>-0.175681</td>\n",
       "      <td>0.029410</td>\n",
       "      <td>-0.087026</td>\n",
       "      <td>-0.114233</td>\n",
       "    </tr>\n",
       "    <tr>\n",
       "      <th>x2ybr</th>\n",
       "      <td>0.227930</td>\n",
       "      <td>0.035464</td>\n",
       "      <td>-0.054648</td>\n",
       "      <td>0.011694</td>\n",
       "      <td>-0.011991</td>\n",
       "      <td>-0.072941</td>\n",
       "      <td>-0.341953</td>\n",
       "      <td>0.600397</td>\n",
       "      <td>0.042545</td>\n",
       "      <td>-0.060116</td>\n",
       "      <td>0.057991</td>\n",
       "      <td>1.000000</td>\n",
       "      <td>0.063221</td>\n",
       "      <td>0.053569</td>\n",
       "      <td>0.527253</td>\n",
       "      <td>-0.226247</td>\n",
       "      <td>-0.236501</td>\n",
       "    </tr>\n",
       "    <tr>\n",
       "      <th>xy2br</th>\n",
       "      <td>0.165688</td>\n",
       "      <td>-0.046338</td>\n",
       "      <td>-0.007566</td>\n",
       "      <td>-0.045014</td>\n",
       "      <td>0.026386</td>\n",
       "      <td>-0.038863</td>\n",
       "      <td>-0.032112</td>\n",
       "      <td>-0.271637</td>\n",
       "      <td>0.082011</td>\n",
       "      <td>0.119049</td>\n",
       "      <td>-0.106763</td>\n",
       "      <td>0.063221</td>\n",
       "      <td>1.000000</td>\n",
       "      <td>-0.008759</td>\n",
       "      <td>-0.184927</td>\n",
       "      <td>0.049689</td>\n",
       "      <td>0.245809</td>\n",
       "    </tr>\n",
       "    <tr>\n",
       "      <th>x-ege</th>\n",
       "      <td>0.020607</td>\n",
       "      <td>0.489154</td>\n",
       "      <td>0.274433</td>\n",
       "      <td>0.557250</td>\n",
       "      <td>0.265243</td>\n",
       "      <td>0.627506</td>\n",
       "      <td>0.144324</td>\n",
       "      <td>-0.036717</td>\n",
       "      <td>0.142129</td>\n",
       "      <td>-0.384018</td>\n",
       "      <td>-0.175681</td>\n",
       "      <td>0.053569</td>\n",
       "      <td>-0.008759</td>\n",
       "      <td>1.000000</td>\n",
       "      <td>0.002837</td>\n",
       "      <td>0.108404</td>\n",
       "      <td>-0.049804</td>\n",
       "    </tr>\n",
       "    <tr>\n",
       "      <th>xegvy</th>\n",
       "      <td>0.199590</td>\n",
       "      <td>0.098170</td>\n",
       "      <td>-0.001333</td>\n",
       "      <td>0.045647</td>\n",
       "      <td>0.025358</td>\n",
       "      <td>0.017638</td>\n",
       "      <td>-0.253334</td>\n",
       "      <td>0.555084</td>\n",
       "      <td>-0.084837</td>\n",
       "      <td>-0.052542</td>\n",
       "      <td>0.029410</td>\n",
       "      <td>0.527253</td>\n",
       "      <td>-0.184927</td>\n",
       "      <td>0.002837</td>\n",
       "      <td>1.000000</td>\n",
       "      <td>-0.064417</td>\n",
       "      <td>-0.187589</td>\n",
       "    </tr>\n",
       "    <tr>\n",
       "      <th>y_ege</th>\n",
       "      <td>0.063940</td>\n",
       "      <td>0.273502</td>\n",
       "      <td>0.230886</td>\n",
       "      <td>0.260282</td>\n",
       "      <td>0.297546</td>\n",
       "      <td>0.492651</td>\n",
       "      <td>0.127056</td>\n",
       "      <td>-0.078000</td>\n",
       "      <td>0.006539</td>\n",
       "      <td>0.277543</td>\n",
       "      <td>-0.087026</td>\n",
       "      <td>-0.226247</td>\n",
       "      <td>0.049689</td>\n",
       "      <td>0.108404</td>\n",
       "      <td>-0.064417</td>\n",
       "      <td>1.000000</td>\n",
       "      <td>0.143572</td>\n",
       "    </tr>\n",
       "    <tr>\n",
       "      <th>yegvx</th>\n",
       "      <td>0.030157</td>\n",
       "      <td>-0.105160</td>\n",
       "      <td>-0.042738</td>\n",
       "      <td>-0.118286</td>\n",
       "      <td>-0.018855</td>\n",
       "      <td>-0.062983</td>\n",
       "      <td>0.248823</td>\n",
       "      <td>-0.207870</td>\n",
       "      <td>0.182881</td>\n",
       "      <td>-0.061331</td>\n",
       "      <td>-0.114233</td>\n",
       "      <td>-0.236501</td>\n",
       "      <td>0.245809</td>\n",
       "      <td>-0.049804</td>\n",
       "      <td>-0.187589</td>\n",
       "      <td>0.143572</td>\n",
       "      <td>1.000000</td>\n",
       "    </tr>\n",
       "  </tbody>\n",
       "</table>\n",
       "</div>"
      ],
      "text/plain": [
       "          Letter     x-box     y-box     width      high     onpix     x-bar  \\\n",
       "Letter  1.000000  0.087140 -0.016518  0.090905  0.048359  0.039432 -0.214873   \n",
       "x-box   0.087140  1.000000  0.757793  0.851514  0.672764  0.619097 -0.032597   \n",
       "y-box  -0.016518  0.757793  1.000000  0.671912  0.823207  0.555067  0.045691   \n",
       "width   0.090905  0.851514  0.671912  1.000000  0.660215  0.765716  0.061956   \n",
       "high    0.048359  0.672764  0.823207  0.660215  1.000000  0.644366  0.042844   \n",
       "onpix   0.039432  0.619097  0.555067  0.765716  0.644366  1.000000  0.139156   \n",
       "x-bar  -0.214873 -0.032597  0.045691  0.061956  0.042844  0.139156  1.000000   \n",
       "y-bar   0.056951  0.045545 -0.040925  0.024832 -0.020072 -0.028822 -0.356574   \n",
       "x2bar   0.018858  0.014306 -0.025019 -0.098611  0.082383 -0.011985 -0.053310   \n",
       "y2bar   0.024105  0.052086  0.096478  0.057074  0.059032 -0.065557 -0.122850   \n",
       "xybar  -0.062418  0.148054  0.159955  0.115016  0.012457 -0.069779  0.085962   \n",
       "x2ybr   0.227930  0.035464 -0.054648  0.011694 -0.011991 -0.072941 -0.341953   \n",
       "xy2br   0.165688 -0.046338 -0.007566 -0.045014  0.026386 -0.038863 -0.032112   \n",
       "x-ege   0.020607  0.489154  0.274433  0.557250  0.265243  0.627506  0.144324   \n",
       "xegvy   0.199590  0.098170 -0.001333  0.045647  0.025358  0.017638 -0.253334   \n",
       "y_ege   0.063940  0.273502  0.230886  0.260282  0.297546  0.492651  0.127056   \n",
       "yegvx   0.030157 -0.105160 -0.042738 -0.118286 -0.018855 -0.062983  0.248823   \n",
       "\n",
       "           y-bar     x2bar     y2bar     xybar     x2ybr     xy2br     x-ege  \\\n",
       "Letter  0.056951  0.018858  0.024105 -0.062418  0.227930  0.165688  0.020607   \n",
       "x-box   0.045545  0.014306  0.052086  0.148054  0.035464 -0.046338  0.489154   \n",
       "y-box  -0.040925 -0.025019  0.096478  0.159955 -0.054648 -0.007566  0.274433   \n",
       "width   0.024832 -0.098611  0.057074  0.115016  0.011694 -0.045014  0.557250   \n",
       "high   -0.020072  0.082383  0.059032  0.012457 -0.011991  0.026386  0.265243   \n",
       "onpix  -0.028822 -0.011985 -0.065557 -0.069779 -0.072941 -0.038863  0.627506   \n",
       "x-bar  -0.356574 -0.053310 -0.122850  0.085962 -0.341953 -0.032112  0.144324   \n",
       "y-bar   1.000000 -0.118625 -0.049658  0.178323  0.600397 -0.271637 -0.036717   \n",
       "x2bar  -0.118625  1.000000 -0.188431 -0.317784  0.042545  0.082011  0.142129   \n",
       "y2bar  -0.049658 -0.188431  1.000000  0.132001 -0.060116  0.119049 -0.384018   \n",
       "xybar   0.178323 -0.317784  0.132001  1.000000  0.057991 -0.106763 -0.175681   \n",
       "x2ybr   0.600397  0.042545 -0.060116  0.057991  1.000000  0.063221  0.053569   \n",
       "xy2br  -0.271637  0.082011  0.119049 -0.106763  0.063221  1.000000 -0.008759   \n",
       "x-ege  -0.036717  0.142129 -0.384018 -0.175681  0.053569 -0.008759  1.000000   \n",
       "xegvy   0.555084 -0.084837 -0.052542  0.029410  0.527253 -0.184927  0.002837   \n",
       "y_ege  -0.078000  0.006539  0.277543 -0.087026 -0.226247  0.049689  0.108404   \n",
       "yegvx  -0.207870  0.182881 -0.061331 -0.114233 -0.236501  0.245809 -0.049804   \n",
       "\n",
       "           xegvy     y_ege     yegvx  \n",
       "Letter  0.199590  0.063940  0.030157  \n",
       "x-box   0.098170  0.273502 -0.105160  \n",
       "y-box  -0.001333  0.230886 -0.042738  \n",
       "width   0.045647  0.260282 -0.118286  \n",
       "high    0.025358  0.297546 -0.018855  \n",
       "onpix   0.017638  0.492651 -0.062983  \n",
       "x-bar  -0.253334  0.127056  0.248823  \n",
       "y-bar   0.555084 -0.078000 -0.207870  \n",
       "x2bar  -0.084837  0.006539  0.182881  \n",
       "y2bar  -0.052542  0.277543 -0.061331  \n",
       "xybar   0.029410 -0.087026 -0.114233  \n",
       "x2ybr   0.527253 -0.226247 -0.236501  \n",
       "xy2br  -0.184927  0.049689  0.245809  \n",
       "x-ege   0.002837  0.108404 -0.049804  \n",
       "xegvy   1.000000 -0.064417 -0.187589  \n",
       "y_ege  -0.064417  1.000000  0.143572  \n",
       "yegvx  -0.187589  0.143572  1.000000  "
      ]
     },
     "execution_count": 2,
     "metadata": {},
     "output_type": "execute_result"
    }
   ],
   "source": [
    "df.corr()"
   ]
  },
  {
   "cell_type": "code",
   "execution_count": 3,
   "metadata": {
    "colab": {
     "base_uri": "https://localhost:8080/",
     "height": 867
    },
    "id": "KwCjbzh52m-V",
    "outputId": "0f86e5f6-eb13-4ad7-8253-65241c562d9a"
   },
   "outputs": [
    {
     "data": {
      "image/png": "[encoded data removed]",
      "text/plain": [
       "<Figure size 1500x1500 with 2 Axes>"
      ]
     },
     "metadata": {},
     "output_type": "display_data"
    }
   ],
   "source": [
    "plt.figure(figsize=(15, 15))\n",
    "sns.heatmap(df.corr());"
   ]
  },
  {
   "cell_type": "code",
   "execution_count": 4,
   "metadata": {
    "id": "2sn5pGc70_lh"
   },
   "outputs": [],
   "source": [
    "# plt.figure(figsize=(16, 16))\n",
    "# heatmap = sns.heatmap(df.corr(), vmin=-1, vmax=1, annot=True, cmap='BrBG')\n",
    "# heatmap.set_title('Correlation Heatmap', fontdict={'fontsize':18}, pad=12);\n",
    "# # plt.savefig('heatmap.png', dpi=300, bbox_inches='tight')\n"
   ]
  },
  {
   "cell_type": "code",
   "execution_count": 5,
   "metadata": {
    "id": "l0mycwoB1hca"
   },
   "outputs": [],
   "source": [
    "# plt.figure(figsize=(16, 16))\n",
    "# heatmap = sns.heatmap(df.corr(), vmin=-1, vmax=1, annot=True)\n",
    "# heatmap.set_title('Correlation Heatmap', fontdict={'fontsize':12}, pad=12);"
   ]
  },
  {
   "cell_type": "code",
   "execution_count": 6,
   "metadata": {
    "id": "NV5Nw73o-06u"
   },
   "outputs": [],
   "source": [
    "# https://towardsdatascience.com/feature-selection-in-machine-learning-using-lasso-regression-7809c7c2771a\n",
    "\n",
    "import numpy as np\n",
    "from sklearn.preprocessing import StandardScaler\n",
    "from sklearn.pipeline import Pipeline\n",
    "from sklearn.model_selection import train_test_split, GridSearchCV\n",
    "from sklearn.linear_model import Lasso"
   ]
  },
  {
   "cell_type": "code",
   "execution_count": 7,
   "metadata": {
    "colab": {
     "base_uri": "https://localhost:8080/"
    },
    "id": "0BDrGrgrAVjJ",
    "outputId": "ace10764-7412-4b01-dbba-3b169cb186aa"
   },
   "outputs": [
    {
     "name": "stdout",
     "output_type": "stream",
     "text": [
      "(12800, 16) (4000, 16) (3200, 16)\n",
      "(12800,) (4000,) (3200,)\n"
     ]
    }
   ],
   "source": [
    "import numpy as np\n",
    "from sklearn.model_selection import train_test_split\n",
    "\n",
    "X, y = df.iloc[:,1:].to_numpy(), df.Letter.to_numpy()\n",
    "features = list(df.columns[1:])\n",
    "\n",
    "X_train, X_test, y_train, y_test = train_test_split(X, y, test_size=0.20, random_state=42)\n",
    "X_train, X_val, y_train, y_val = train_test_split(X_train, y_train, test_size=0.20, random_state=42)\n",
    "\n",
    "print(X_train.shape, X_test.shape, X_val.shape)\n",
    "print(y_train.shape, y_test.shape, y_val.shape)"
   ]
  },
  {
   "cell_type": "markdown",
   "metadata": {
    "id": "oapxKAh_jx2y"
   },
   "source": [
    "## Simple KNN"
   ]
  },
  {
   "cell_type": "code",
   "execution_count": 8,
   "metadata": {
    "colab": {
     "base_uri": "https://localhost:8080/"
    },
    "id": "hbtK3P8fFN1c",
    "outputId": "a49690b6-a94c-4ff8-f297-1c0ebd13bde4"
   },
   "outputs": [
    {
     "name": "stdout",
     "output_type": "stream",
     "text": [
      "Accuracy : 94.38%\n"
     ]
    }
   ],
   "source": [
    "from sklearn.neighbors import KNeighborsClassifier\n",
    "\n",
    "knn_model = KNeighborsClassifier(n_neighbors=10,\n",
    "                             weights=\"distance\",\n",
    "                             algorithm=\"auto\")\n",
    "\n",
    "knn_model.fit(X_train, y_train)\n",
    "print(\"Accuracy : {:.2f}%\".format(knn_model.score(X_val, y_val)*100))"
   ]
  },
  {
   "cell_type": "markdown",
   "metadata": {
    "id": "Yz1fbffY_MIo"
   },
   "source": [
    "# Lasso"
   ]
  },
  {
   "cell_type": "code",
   "execution_count": 9,
   "metadata": {
    "id": "wFJstvu-_RoA"
   },
   "outputs": [],
   "source": [
    "pipeline = Pipeline([\n",
    "                     ('scaler',StandardScaler()),\n",
    "                     ('model',Lasso())\n",
    "])"
   ]
  },
  {
   "cell_type": "code",
   "execution_count": 10,
   "metadata": {
    "id": "4LJPg90I_TRZ"
   },
   "outputs": [],
   "source": [
    "search = GridSearchCV(pipeline,\n",
    "                      {'model__alpha':np.arange(0.1,10,0.1)},\n",
    "                      cv = 5, scoring=\"neg_mean_squared_error\",verbose=1\n",
    "                      )"
   ]
  },
  {
   "cell_type": "code",
   "execution_count": 11,
   "metadata": {
    "colab": {
     "base_uri": "https://localhost:8080/"
    },
    "id": "WrXc7V07_U0s",
    "outputId": "3cff774a-cdc2-41a7-af32-1012bd6a1877"
   },
   "outputs": [
    {
     "name": "stdout",
     "output_type": "stream",
     "text": [
      "Fitting 5 folds for each of 99 candidates, totalling 495 fits\n"
     ]
    },
    {
     "data": {
      "text/plain": [
       "GridSearchCV(cv=5,\n",
       "             estimator=Pipeline(steps=[('scaler', StandardScaler()),\n",
       "                                       ('model', Lasso())]),\n",
       "             param_grid={'model__alpha': array([0.1, 0.2, 0.3, 0.4, 0.5, 0.6, 0.7, 0.8, 0.9, 1. , 1.1, 1.2, 1.3,\n",
       "       1.4, 1.5, 1.6, 1.7, 1.8, 1.9, 2. , 2.1, 2.2, 2.3, 2.4, 2.5, 2.6,\n",
       "       2.7, 2.8, 2.9, 3. , 3.1, 3.2, 3.3, 3.4, 3.5, 3.6, 3.7, 3.8, 3.9,\n",
       "       4. , 4.1, 4.2, 4.3, 4.4, 4.5, 4.6, 4.7, 4.8, 4.9, 5. , 5.1, 5.2,\n",
       "       5.3, 5.4, 5.5, 5.6, 5.7, 5.8, 5.9, 6. , 6.1, 6.2, 6.3, 6.4, 6.5,\n",
       "       6.6, 6.7, 6.8, 6.9, 7. , 7.1, 7.2, 7.3, 7.4, 7.5, 7.6, 7.7, 7.8,\n",
       "       7.9, 8. , 8.1, 8.2, 8.3, 8.4, 8.5, 8.6, 8.7, 8.8, 8.9, 9. , 9.1,\n",
       "       9.2, 9.3, 9.4, 9.5, 9.6, 9.7, 9.8, 9.9])},\n",
       "             scoring='neg_mean_squared_error', verbose=1)"
      ]
     },
     "execution_count": 11,
     "metadata": {},
     "output_type": "execute_result"
    }
   ],
   "source": [
    "search.fit(X_train,y_train)"
   ]
  },
  {
   "cell_type": "code",
   "execution_count": 12,
   "metadata": {
    "colab": {
     "base_uri": "https://localhost:8080/"
    },
    "id": "Nsy6j_pf_WW9",
    "outputId": "12c3b5c3-bd55-4744-ee23-721d348757fe"
   },
   "outputs": [
    {
     "data": {
      "text/plain": [
       "{'model__alpha': 0.1}"
      ]
     },
     "execution_count": 12,
     "metadata": {},
     "output_type": "execute_result"
    }
   ],
   "source": [
    "search.best_params_# {'model__alpha': 1.2000000000000002}"
   ]
  },
  {
   "cell_type": "code",
   "execution_count": 13,
   "metadata": {
    "id": "4bzIqYKn_YDj"
   },
   "outputs": [],
   "source": [
    "coefficients = search.best_estimator_.named_steps['model'].coef_"
   ]
  },
  {
   "cell_type": "code",
   "execution_count": 14,
   "metadata": {
    "colab": {
     "base_uri": "https://localhost:8080/"
    },
    "id": "dne9wAoY_Zkz",
    "outputId": "e73dac4c-fabb-4472-d0f2-f2cc19da0911"
   },
   "outputs": [
    {
     "data": {
      "text/plain": [
       "array([0.        , 0.78052422, 1.16699009, 0.        , 0.        ,\n",
       "       1.39466378, 1.1885915 , 0.04116385, 0.06091815, 0.03006987,\n",
       "       1.47392285, 0.79201976, 0.19477409, 1.12355841, 0.68355774,\n",
       "       0.60195449])"
      ]
     },
     "execution_count": 14,
     "metadata": {},
     "output_type": "execute_result"
    }
   ],
   "source": [
    "importance = np.abs(coefficients)\n",
    "importance"
   ]
  },
  {
   "cell_type": "code",
   "execution_count": 15,
   "metadata": {
    "colab": {
     "base_uri": "https://localhost:8080/"
    },
    "id": "61voxRLskcb3",
    "outputId": "9b061bfe-dddc-4094-9bd9-172c8d32385a"
   },
   "outputs": [
    {
     "data": {
      "text/plain": [
       "['x-box',\n",
       " 'y-box',\n",
       " 'width',\n",
       " 'high',\n",
       " 'onpix',\n",
       " 'x-bar',\n",
       " 'y-bar',\n",
       " 'x2bar',\n",
       " 'y2bar',\n",
       " 'xybar',\n",
       " 'x2ybr',\n",
       " 'xy2br',\n",
       " 'x-ege',\n",
       " 'xegvy',\n",
       " 'y_ege',\n",
       " 'yegvx']"
      ]
     },
     "execution_count": 15,
     "metadata": {},
     "output_type": "execute_result"
    }
   ],
   "source": [
    "features"
   ]
  },
  {
   "cell_type": "code",
   "execution_count": 16,
   "metadata": {
    "colab": {
     "base_uri": "https://localhost:8080/"
    },
    "id": "VSGo08TK_ive",
    "outputId": "eeac88a5-f9bc-4eb7-8593-888263a91c52"
   },
   "outputs": [
    {
     "data": {
      "text/plain": [
       "['y-box',\n",
       " 'width',\n",
       " 'x-bar',\n",
       " 'y-bar',\n",
       " 'x2bar',\n",
       " 'y2bar',\n",
       " 'xybar',\n",
       " 'x2ybr',\n",
       " 'xy2br',\n",
       " 'x-ege',\n",
       " 'xegvy',\n",
       " 'y_ege',\n",
       " 'yegvx']"
      ]
     },
     "execution_count": 16,
     "metadata": {},
     "output_type": "execute_result"
    }
   ],
   "source": [
    "lasso_features = np.array(features)[importance > 0]\n",
    "list(lasso_features)"
   ]
  },
  {
   "cell_type": "markdown",
   "metadata": {
    "id": "pxsaZX2IByIo"
   },
   "source": [
    "## Feature Selection"
   ]
  },
  {
   "cell_type": "code",
   "execution_count": 17,
   "metadata": {
    "id": "Nffd2i17Bdus"
   },
   "outputs": [],
   "source": [
    "lasso_X, y = df.loc[:, lasso_features], df.Letter.replace(-1, 0).to_numpy()\n",
    "\n",
    "lasso_X_train, lasso_X_test, y_train, y_test = train_test_split(lasso_X, y, test_size=0.20, random_state=42)\n",
    "lasso_X_train, lasso_X_val, y_train, y_val = train_test_split(lasso_X_train, y_train, test_size=0.20, random_state=42)"
   ]
  },
  {
   "cell_type": "markdown",
   "metadata": {
    "id": "pwgraPRkkBu_"
   },
   "source": [
    "## KNN with Feature selection"
   ]
  },
  {
   "cell_type": "code",
   "execution_count": 18,
   "metadata": {
    "colab": {
     "base_uri": "https://localhost:8080/"
    },
    "id": "fWgo4gtFCa9e",
    "outputId": "2e5ea58c-26c3-44a0-c8f2-69e6d79b23ac"
   },
   "outputs": [
    {
     "name": "stdout",
     "output_type": "stream",
     "text": [
      "Accuracy : 94.03%\n"
     ]
    }
   ],
   "source": [
    "import matplotlib.pyplot as plt\n",
    "import numpy as np\n",
    "from sklearn.neighbors import KNeighborsClassifier\n",
    "from sklearn.metrics import classification_report, confusion_matrix\n",
    "\n",
    "lasso_knn_model = KNeighborsClassifier(n_neighbors=10,\n",
    "                             weights=\"distance\",\n",
    "                             algorithm=\"auto\")\n",
    "\n",
    "lasso_knn_model.fit(lasso_X_train, y_train)\n",
    "print(\"Accuracy : {:.2f}%\".format(lasso_knn_model.score(lasso_X_val, y_val)*100))"
   ]
  },
  {
   "cell_type": "markdown",
   "metadata": {
    "id": "xcFVB6NjkE_Z"
   },
   "source": [
    "## Results Comparison"
   ]
  },
  {
   "cell_type": "code",
   "execution_count": 19,
   "metadata": {
    "colab": {
     "base_uri": "https://localhost:8080/",
     "height": 521
    },
    "id": "H93k5jjhFoRo",
    "outputId": "a3c8dca8-9daf-4a96-f9f5-9fa6510670f3"
   },
   "outputs": [
    {
     "data": {
      "image/png": "[encoded data removed]",
      "text/plain": [
       "<Figure size 800x800 with 1 Axes>"
      ]
     },
     "metadata": {},
     "output_type": "display_data"
    }
   ],
   "source": [
    "# Importing libraries for dataframe creation\n",
    "# and graph plotting\n",
    "import numpy as np\n",
    "import pandas as pd\n",
    "import seaborn as sns\n",
    "import matplotlib.pyplot as plt\n",
    "\n",
    "accuracy_results = {\"Model Names\" : ['Base KNN', 'KNN after Lasso'],\n",
    "        \"Accuracy\": [knn_model.score(X_val, y_val)*100, \n",
    "                     lasso_knn_model.score(lasso_X_val, y_val)*100, ]}\n",
    "accuracy_results = pd.DataFrame(accuracy_results, columns=['Model Names', 'Accuracy'])\n",
    "plt.figure(figsize=(8, 8))\n",
    "plots = sns.barplot(x=\"Model Names\", y=\"Accuracy\", data=accuracy_results)\n",
    " \n",
    "for bar in plots.patches:\n",
    "     plots.annotate(format(bar.get_height(), '.2f'),\n",
    "                   (bar.get_x() + bar.get_width() / 2,\n",
    "                    bar.get_height()), ha='center', va='center',\n",
    "                   size=12, xytext=(0, 8),\n",
    "                   textcoords='offset points')\n",
    "\n",
    "plt.xlabel(\"Models\", size=14)\n",
    "plt.ylabel(\"Performance of the Model\", size=14)\n",
    "plt.title(\"Model Performance\", size=18)\n",
    "plt.show()\n"
   ]
  },
  {
   "cell_type": "code",
   "execution_count": 20,
   "metadata": {
    "colab": {
     "base_uri": "https://localhost:8080/",
     "height": 521
    },
    "id": "Z_F8B1OgK451",
    "outputId": "8062cd6c-2166-4e35-b4ec-d4de71d3b25c"
   },
   "outputs": [
    {
     "data": {
      "image/png": "[encoded data removed]",
      "text/plain": [
       "<Figure size 800x800 with 1 Axes>"
      ]
     },
     "metadata": {},
     "output_type": "display_data"
    }
   ],
   "source": [
    "# Importing libraries for dataframe creation\n",
    "# and graph plotting\n",
    "import numpy as np\n",
    "import pandas as pd\n",
    "import seaborn as sns\n",
    "import matplotlib.pyplot as plt\n",
    "\n",
    "accuracy_results = {\"Model Names\" : ['All Features', 'Lasso Features'],\n",
    "        \"Accuracy\": [len(features), \n",
    "                     len(lasso_features)]}\n",
    "accuracy_results = pd.DataFrame(accuracy_results, columns=['Model Names', 'Accuracy'])\n",
    "plt.figure(figsize=(8, 8))\n",
    "plots = sns.barplot(x=\"Model Names\", y=\"Accuracy\", data=accuracy_results)\n",
    " \n",
    "for bar in plots.patches:\n",
    "     plots.annotate(format(bar.get_height(), '.2f'),\n",
    "                   (bar.get_x() + bar.get_width() / 2,\n",
    "                    bar.get_height()), ha='center', va='center',\n",
    "                   size=12, xytext=(0, 8),\n",
    "                   textcoords='offset points')\n",
    "\n",
    "plt.xlabel(\"Feature Selection Methods\", size=14)\n",
    "plt.ylabel(\"No. of features\", size=14)\n",
    "plt.title(\"Lasso Feature\", size=18)\n",
    "plt.show()\n"
   ]
  },
  {
   "cell_type": "code",
   "execution_count": 21,
   "metadata": {
    "colab": {
     "base_uri": "https://localhost:8080/"
    },
    "id": "bX68KyJ4lnuU",
    "outputId": "aba4c847-d730-4410-959c-9fa565977d6d"
   },
   "outputs": [
    {
     "name": "stdout",
     "output_type": "stream",
     "text": [
      "['x-box', 'y-box', 'width', 'high', 'onpix', 'x-bar', 'y-bar', 'x2bar', 'y2bar', 'xybar', 'x2ybr', 'xy2br', 'x-ege', 'xegvy', 'y_ege', 'yegvx']\n",
      "['y-box' 'width' 'x-bar' 'y-bar' 'x2bar' 'y2bar' 'xybar' 'x2ybr' 'xy2br'\n",
      " 'x-ege' 'xegvy' 'y_ege' 'yegvx']\n"
     ]
    }
   ],
   "source": [
    "print(features)\n",
    "print(lasso_features)"
   ]
  },
  {
   "cell_type": "code",
   "execution_count": 22,
   "metadata": {
    "colab": {
     "base_uri": "https://localhost:8080/"
    },
    "id": "89GlT5lEqkAi",
    "outputId": "db2a610e-05b8-4633-a31b-9d92ae8ac458"
   },
   "outputs": [
    {
     "data": {
      "text/plain": [
       "{'high', 'onpix', 'x-box'}"
      ]
     },
     "execution_count": 22,
     "metadata": {},
     "output_type": "execute_result"
    }
   ],
   "source": [
    "set(features)-set(lasso_features)"
   ]
  }
 ],
 "metadata": {
  "colab": {
   "provenance": [],
   "toc_visible": true
  },
  "kernelspec": {
   "display_name": "Python 3 (ipykernel)",
   "language": "python",
   "name": "python3"
  },
  "language_info": {
   "codemirror_mode": {
    "name": "ipython",
    "version": 3
   },
   "file_extension": ".py",
   "mimetype": "text/x-python",
   "name": "python",
   "nbconvert_exporter": "python",
   "pygments_lexer": "ipython3",
   "version": "3.9.13"
  }
 },
 "nbformat": 4,
 "nbformat_minor": 1
}
