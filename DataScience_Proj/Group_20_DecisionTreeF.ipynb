{
 "cells": [
  {
   "cell_type": "code",
   "execution_count": 4,
   "id": "c8f1dd70",
   "metadata": {},
   "outputs": [],
   "source": [
    "import numpy as np\n",
    "import pandas as  pd\n",
    "import matplotlib.pyplot as plt\n",
    "import seaborn as sns\n",
    "import sys\n",
    "import warnings\n",
    "warnings.simplefilter(\"ignore\")"
   ]
  },
  {
   "cell_type": "code",
   "execution_count": 5,
   "id": "0000a990",
   "metadata": {},
   "outputs": [],
   "source": [
    "df = pd.read_csv('Group_20_data_cleaned.csv')"
   ]
  },
  {
   "cell_type": "code",
   "execution_count": 6,
   "id": "dbdfb3d3",
   "metadata": {},
   "outputs": [],
   "source": [
    "df.drop('Unnamed: 0', axis = 1 , inplace = True)"
   ]
  },
  {
   "cell_type": "code",
   "execution_count": 7,
   "id": "cab3818d",
   "metadata": {},
   "outputs": [
    {
     "name": "stdout",
     "output_type": "stream",
     "text": [
      "<class 'pandas.core.frame.DataFrame'>\n",
      "RangeIndex: 20000 entries, 0 to 19999\n",
      "Data columns (total 17 columns):\n",
      " #   Column  Non-Null Count  Dtype  \n",
      "---  ------  --------------  -----  \n",
      " 0   Letter  20000 non-null  object \n",
      " 1   x-box   20000 non-null  int64  \n",
      " 2   y-box   20000 non-null  int64  \n",
      " 3   width   20000 non-null  int64  \n",
      " 4   high    20000 non-null  int64  \n",
      " 5   onpix   20000 non-null  int64  \n",
      " 6   x-bar   20000 non-null  float64\n",
      " 7   y-bar   20000 non-null  int64  \n",
      " 8   x2bar   20000 non-null  int64  \n",
      " 9   y2bar   20000 non-null  int64  \n",
      " 10  xybar   20000 non-null  float64\n",
      " 11  x2ybr   20000 non-null  int64  \n",
      " 12  xy2br   20000 non-null  float64\n",
      " 13  x-ege   20000 non-null  float64\n",
      " 14  xegvy   20000 non-null  float64\n",
      " 15  y_ege   20000 non-null  float64\n",
      " 16  yegvx   20000 non-null  float64\n",
      "dtypes: float64(7), int64(9), object(1)\n",
      "memory usage: 2.6+ MB\n"
     ]
    }
   ],
   "source": [
    "df.info()"
   ]
  },
  {
   "cell_type": "code",
   "execution_count": 8,
   "id": "3685dfb2",
   "metadata": {},
   "outputs": [
    {
     "data": {
      "text/html": [
       "<div>\n",
       "<style scoped>\n",
       "    .dataframe tbody tr th:only-of-type {\n",
       "        vertical-align: middle;\n",
       "    }\n",
       "\n",
       "    .dataframe tbody tr th {\n",
       "        vertical-align: top;\n",
       "    }\n",
       "\n",
       "    .dataframe thead th {\n",
       "        text-align: right;\n",
       "    }\n",
       "</style>\n",
       "<table border=\"1\" class=\"dataframe\">\n",
       "  <thead>\n",
       "    <tr style=\"text-align: right;\">\n",
       "      <th></th>\n",
       "      <th>Letter</th>\n",
       "      <th>x-box</th>\n",
       "      <th>y-box</th>\n",
       "      <th>width</th>\n",
       "      <th>high</th>\n",
       "      <th>onpix</th>\n",
       "      <th>x-bar</th>\n",
       "      <th>y-bar</th>\n",
       "      <th>x2bar</th>\n",
       "      <th>y2bar</th>\n",
       "      <th>xybar</th>\n",
       "      <th>x2ybr</th>\n",
       "      <th>xy2br</th>\n",
       "      <th>x-ege</th>\n",
       "      <th>xegvy</th>\n",
       "      <th>y_ege</th>\n",
       "      <th>yegvx</th>\n",
       "    </tr>\n",
       "  </thead>\n",
       "  <tbody>\n",
       "    <tr>\n",
       "      <th>0</th>\n",
       "      <td>T</td>\n",
       "      <td>2</td>\n",
       "      <td>8</td>\n",
       "      <td>3</td>\n",
       "      <td>5</td>\n",
       "      <td>1</td>\n",
       "      <td>8.1</td>\n",
       "      <td>13</td>\n",
       "      <td>0</td>\n",
       "      <td>6</td>\n",
       "      <td>6.1</td>\n",
       "      <td>10</td>\n",
       "      <td>8.2</td>\n",
       "      <td>0.1</td>\n",
       "      <td>8.3</td>\n",
       "      <td>0.2</td>\n",
       "      <td>8.4</td>\n",
       "    </tr>\n",
       "    <tr>\n",
       "      <th>1</th>\n",
       "      <td>I</td>\n",
       "      <td>5</td>\n",
       "      <td>12</td>\n",
       "      <td>3</td>\n",
       "      <td>7</td>\n",
       "      <td>2</td>\n",
       "      <td>10.0</td>\n",
       "      <td>5</td>\n",
       "      <td>5</td>\n",
       "      <td>4</td>\n",
       "      <td>13.0</td>\n",
       "      <td>3</td>\n",
       "      <td>9.0</td>\n",
       "      <td>2.0</td>\n",
       "      <td>8.0</td>\n",
       "      <td>4.0</td>\n",
       "      <td>10.0</td>\n",
       "    </tr>\n",
       "    <tr>\n",
       "      <th>2</th>\n",
       "      <td>D</td>\n",
       "      <td>4</td>\n",
       "      <td>11</td>\n",
       "      <td>6</td>\n",
       "      <td>8</td>\n",
       "      <td>6</td>\n",
       "      <td>10.0</td>\n",
       "      <td>6</td>\n",
       "      <td>2</td>\n",
       "      <td>6</td>\n",
       "      <td>10.0</td>\n",
       "      <td>3</td>\n",
       "      <td>7.0</td>\n",
       "      <td>3.0</td>\n",
       "      <td>7.0</td>\n",
       "      <td>3.0</td>\n",
       "      <td>9.0</td>\n",
       "    </tr>\n",
       "    <tr>\n",
       "      <th>3</th>\n",
       "      <td>N</td>\n",
       "      <td>7</td>\n",
       "      <td>11</td>\n",
       "      <td>6</td>\n",
       "      <td>6</td>\n",
       "      <td>3</td>\n",
       "      <td>5.0</td>\n",
       "      <td>9</td>\n",
       "      <td>4</td>\n",
       "      <td>6</td>\n",
       "      <td>4.0</td>\n",
       "      <td>4</td>\n",
       "      <td>10.0</td>\n",
       "      <td>6.0</td>\n",
       "      <td>10.0</td>\n",
       "      <td>2.0</td>\n",
       "      <td>8.0</td>\n",
       "    </tr>\n",
       "    <tr>\n",
       "      <th>4</th>\n",
       "      <td>G</td>\n",
       "      <td>2</td>\n",
       "      <td>1</td>\n",
       "      <td>3</td>\n",
       "      <td>1</td>\n",
       "      <td>1</td>\n",
       "      <td>8.0</td>\n",
       "      <td>6</td>\n",
       "      <td>6</td>\n",
       "      <td>6</td>\n",
       "      <td>6.0</td>\n",
       "      <td>5</td>\n",
       "      <td>9.0</td>\n",
       "      <td>1.0</td>\n",
       "      <td>7.0</td>\n",
       "      <td>5.0</td>\n",
       "      <td>10.0</td>\n",
       "    </tr>\n",
       "  </tbody>\n",
       "</table>\n",
       "</div>"
      ],
      "text/plain": [
       "  Letter  x-box  y-box  width  high  onpix  x-bar  y-bar  x2bar  y2bar  xybar  \\\n",
       "0      T      2      8      3     5      1    8.1     13      0      6    6.1   \n",
       "1      I      5     12      3     7      2   10.0      5      5      4   13.0   \n",
       "2      D      4     11      6     8      6   10.0      6      2      6   10.0   \n",
       "3      N      7     11      6     6      3    5.0      9      4      6    4.0   \n",
       "4      G      2      1      3     1      1    8.0      6      6      6    6.0   \n",
       "\n",
       "   x2ybr  xy2br  x-ege  xegvy  y_ege  yegvx  \n",
       "0     10    8.2    0.1    8.3    0.2    8.4  \n",
       "1      3    9.0    2.0    8.0    4.0   10.0  \n",
       "2      3    7.0    3.0    7.0    3.0    9.0  \n",
       "3      4   10.0    6.0   10.0    2.0    8.0  \n",
       "4      5    9.0    1.0    7.0    5.0   10.0  "
      ]
     },
     "execution_count": 8,
     "metadata": {},
     "output_type": "execute_result"
    }
   ],
   "source": [
    "df.head()"
   ]
  },
  {
   "cell_type": "code",
   "execution_count": 9,
   "id": "2134cc7f",
   "metadata": {},
   "outputs": [
    {
     "data": {
      "text/html": [
       "<div>\n",
       "<style scoped>\n",
       "    .dataframe tbody tr th:only-of-type {\n",
       "        vertical-align: middle;\n",
       "    }\n",
       "\n",
       "    .dataframe tbody tr th {\n",
       "        vertical-align: top;\n",
       "    }\n",
       "\n",
       "    .dataframe thead th {\n",
       "        text-align: right;\n",
       "    }\n",
       "</style>\n",
       "<table border=\"1\" class=\"dataframe\">\n",
       "  <thead>\n",
       "    <tr style=\"text-align: right;\">\n",
       "      <th></th>\n",
       "      <th>x-box</th>\n",
       "      <th>y-box</th>\n",
       "      <th>width</th>\n",
       "      <th>high</th>\n",
       "      <th>onpix</th>\n",
       "      <th>x-bar</th>\n",
       "      <th>y-bar</th>\n",
       "      <th>x2bar</th>\n",
       "      <th>y2bar</th>\n",
       "      <th>xybar</th>\n",
       "      <th>x2ybr</th>\n",
       "      <th>xy2br</th>\n",
       "      <th>x-ege</th>\n",
       "      <th>xegvy</th>\n",
       "      <th>y_ege</th>\n",
       "      <th>yegvx</th>\n",
       "    </tr>\n",
       "  </thead>\n",
       "  <tbody>\n",
       "    <tr>\n",
       "      <th>count</th>\n",
       "      <td>20000.000000</td>\n",
       "      <td>20000.000000</td>\n",
       "      <td>20000.000000</td>\n",
       "      <td>20000.00000</td>\n",
       "      <td>20000.000000</td>\n",
       "      <td>20000.000000</td>\n",
       "      <td>20000.000000</td>\n",
       "      <td>20000.000000</td>\n",
       "      <td>20000.000000</td>\n",
       "      <td>20000.000000</td>\n",
       "      <td>20000.00000</td>\n",
       "      <td>20000.00000</td>\n",
       "      <td>20000.000000</td>\n",
       "      <td>20000.000000</td>\n",
       "      <td>20000.000000</td>\n",
       "      <td>20000.000000</td>\n",
       "    </tr>\n",
       "    <tr>\n",
       "      <th>mean</th>\n",
       "      <td>4.023550</td>\n",
       "      <td>7.035500</td>\n",
       "      <td>5.121850</td>\n",
       "      <td>5.37245</td>\n",
       "      <td>3.505850</td>\n",
       "      <td>6.897605</td>\n",
       "      <td>7.500450</td>\n",
       "      <td>4.628600</td>\n",
       "      <td>5.178650</td>\n",
       "      <td>8.282055</td>\n",
       "      <td>6.45400</td>\n",
       "      <td>7.92901</td>\n",
       "      <td>3.046105</td>\n",
       "      <td>8.338865</td>\n",
       "      <td>3.691760</td>\n",
       "      <td>7.801220</td>\n",
       "    </tr>\n",
       "    <tr>\n",
       "      <th>std</th>\n",
       "      <td>1.913212</td>\n",
       "      <td>3.304555</td>\n",
       "      <td>2.014573</td>\n",
       "      <td>2.26139</td>\n",
       "      <td>2.190458</td>\n",
       "      <td>2.026038</td>\n",
       "      <td>2.325354</td>\n",
       "      <td>2.699968</td>\n",
       "      <td>2.380823</td>\n",
       "      <td>2.488470</td>\n",
       "      <td>2.63107</td>\n",
       "      <td>2.08062</td>\n",
       "      <td>2.332534</td>\n",
       "      <td>1.546721</td>\n",
       "      <td>2.567059</td>\n",
       "      <td>1.617475</td>\n",
       "    </tr>\n",
       "    <tr>\n",
       "      <th>min</th>\n",
       "      <td>0.000000</td>\n",
       "      <td>0.000000</td>\n",
       "      <td>0.000000</td>\n",
       "      <td>0.00000</td>\n",
       "      <td>0.000000</td>\n",
       "      <td>0.000000</td>\n",
       "      <td>0.000000</td>\n",
       "      <td>0.000000</td>\n",
       "      <td>0.000000</td>\n",
       "      <td>0.000000</td>\n",
       "      <td>0.00000</td>\n",
       "      <td>0.00000</td>\n",
       "      <td>0.000000</td>\n",
       "      <td>0.000000</td>\n",
       "      <td>0.000000</td>\n",
       "      <td>0.000000</td>\n",
       "    </tr>\n",
       "    <tr>\n",
       "      <th>25%</th>\n",
       "      <td>3.000000</td>\n",
       "      <td>5.000000</td>\n",
       "      <td>4.000000</td>\n",
       "      <td>4.00000</td>\n",
       "      <td>2.000000</td>\n",
       "      <td>6.000000</td>\n",
       "      <td>6.000000</td>\n",
       "      <td>3.000000</td>\n",
       "      <td>4.000000</td>\n",
       "      <td>7.000000</td>\n",
       "      <td>5.00000</td>\n",
       "      <td>7.00000</td>\n",
       "      <td>1.000000</td>\n",
       "      <td>8.000000</td>\n",
       "      <td>2.000000</td>\n",
       "      <td>7.000000</td>\n",
       "    </tr>\n",
       "    <tr>\n",
       "      <th>50%</th>\n",
       "      <td>4.000000</td>\n",
       "      <td>7.000000</td>\n",
       "      <td>5.000000</td>\n",
       "      <td>6.00000</td>\n",
       "      <td>3.000000</td>\n",
       "      <td>7.000000</td>\n",
       "      <td>7.000000</td>\n",
       "      <td>4.000000</td>\n",
       "      <td>5.000000</td>\n",
       "      <td>8.000000</td>\n",
       "      <td>6.00000</td>\n",
       "      <td>8.00000</td>\n",
       "      <td>3.000000</td>\n",
       "      <td>8.000000</td>\n",
       "      <td>3.000000</td>\n",
       "      <td>8.000000</td>\n",
       "    </tr>\n",
       "    <tr>\n",
       "      <th>75%</th>\n",
       "      <td>5.000000</td>\n",
       "      <td>9.000000</td>\n",
       "      <td>6.000000</td>\n",
       "      <td>7.00000</td>\n",
       "      <td>5.000000</td>\n",
       "      <td>8.000000</td>\n",
       "      <td>9.000000</td>\n",
       "      <td>6.000000</td>\n",
       "      <td>7.000000</td>\n",
       "      <td>10.000000</td>\n",
       "      <td>8.00000</td>\n",
       "      <td>9.00000</td>\n",
       "      <td>4.000000</td>\n",
       "      <td>9.000000</td>\n",
       "      <td>5.000000</td>\n",
       "      <td>9.000000</td>\n",
       "    </tr>\n",
       "    <tr>\n",
       "      <th>max</th>\n",
       "      <td>15.000000</td>\n",
       "      <td>15.000000</td>\n",
       "      <td>15.000000</td>\n",
       "      <td>15.00000</td>\n",
       "      <td>15.000000</td>\n",
       "      <td>15.000000</td>\n",
       "      <td>15.000000</td>\n",
       "      <td>15.000000</td>\n",
       "      <td>15.000000</td>\n",
       "      <td>15.000000</td>\n",
       "      <td>15.00000</td>\n",
       "      <td>15.00000</td>\n",
       "      <td>15.000000</td>\n",
       "      <td>15.000000</td>\n",
       "      <td>15.000000</td>\n",
       "      <td>15.000000</td>\n",
       "    </tr>\n",
       "  </tbody>\n",
       "</table>\n",
       "</div>"
      ],
      "text/plain": [
       "              x-box         y-box         width         high         onpix  \\\n",
       "count  20000.000000  20000.000000  20000.000000  20000.00000  20000.000000   \n",
       "mean       4.023550      7.035500      5.121850      5.37245      3.505850   \n",
       "std        1.913212      3.304555      2.014573      2.26139      2.190458   \n",
       "min        0.000000      0.000000      0.000000      0.00000      0.000000   \n",
       "25%        3.000000      5.000000      4.000000      4.00000      2.000000   \n",
       "50%        4.000000      7.000000      5.000000      6.00000      3.000000   \n",
       "75%        5.000000      9.000000      6.000000      7.00000      5.000000   \n",
       "max       15.000000     15.000000     15.000000     15.00000     15.000000   \n",
       "\n",
       "              x-bar         y-bar         x2bar         y2bar         xybar  \\\n",
       "count  20000.000000  20000.000000  20000.000000  20000.000000  20000.000000   \n",
       "mean       6.897605      7.500450      4.628600      5.178650      8.282055   \n",
       "std        2.026038      2.325354      2.699968      2.380823      2.488470   \n",
       "min        0.000000      0.000000      0.000000      0.000000      0.000000   \n",
       "25%        6.000000      6.000000      3.000000      4.000000      7.000000   \n",
       "50%        7.000000      7.000000      4.000000      5.000000      8.000000   \n",
       "75%        8.000000      9.000000      6.000000      7.000000     10.000000   \n",
       "max       15.000000     15.000000     15.000000     15.000000     15.000000   \n",
       "\n",
       "             x2ybr        xy2br         x-ege         xegvy         y_ege  \\\n",
       "count  20000.00000  20000.00000  20000.000000  20000.000000  20000.000000   \n",
       "mean       6.45400      7.92901      3.046105      8.338865      3.691760   \n",
       "std        2.63107      2.08062      2.332534      1.546721      2.567059   \n",
       "min        0.00000      0.00000      0.000000      0.000000      0.000000   \n",
       "25%        5.00000      7.00000      1.000000      8.000000      2.000000   \n",
       "50%        6.00000      8.00000      3.000000      8.000000      3.000000   \n",
       "75%        8.00000      9.00000      4.000000      9.000000      5.000000   \n",
       "max       15.00000     15.00000     15.000000     15.000000     15.000000   \n",
       "\n",
       "              yegvx  \n",
       "count  20000.000000  \n",
       "mean       7.801220  \n",
       "std        1.617475  \n",
       "min        0.000000  \n",
       "25%        7.000000  \n",
       "50%        8.000000  \n",
       "75%        9.000000  \n",
       "max       15.000000  "
      ]
     },
     "execution_count": 9,
     "metadata": {},
     "output_type": "execute_result"
    }
   ],
   "source": [
    "df.describe()"
   ]
  },
  {
   "cell_type": "code",
   "execution_count": 10,
   "id": "f0a293e7",
   "metadata": {},
   "outputs": [
    {
     "name": "stdout",
     "output_type": "stream",
     "text": [
      "['A', 'B', 'C', 'D', 'E', 'F', 'G', 'H', 'I', 'J', 'K', 'L', 'M', 'N', 'O', 'P', 'Q', 'R', 'S', 'T', 'U', 'V', 'W', 'X', 'Y', 'Z']\n"
     ]
    }
   ],
   "source": [
    "order = list(np.sort(df['Letter'].unique()))\n",
    "print(order)"
   ]
  },
  {
   "cell_type": "code",
   "execution_count": 11,
   "id": "b655e7a2",
   "metadata": {},
   "outputs": [
    {
     "data": {
      "text/plain": [
       "<AxesSubplot:xlabel='Letter', ylabel='x-box'>"
      ]
     },
     "execution_count": 11,
     "metadata": {},
     "output_type": "execute_result"
    },
    {
     "data": {
      "image/png": "[encoded data removed]",
      "text/plain": [
       "<Figure size 1600x800 with 1 Axes>"
      ]
     },
     "metadata": {},
     "output_type": "display_data"
    }
   ],
   "source": [
    "plt.figure(figsize=(16, 8))\n",
    "sns.barplot(x='Letter', y='x-box', \n",
    "            data=df, \n",
    "            order=order)"
   ]
  },
  {
   "cell_type": "code",
   "execution_count": 12,
   "id": "bc558607",
   "metadata": {},
   "outputs": [],
   "source": [
    "x = df.drop('Letter', axis = 1)"
   ]
  },
  {
   "cell_type": "code",
   "execution_count": 13,
   "id": "32d9bf56",
   "metadata": {},
   "outputs": [],
   "source": [
    "y = df.Letter"
   ]
  },
  {
   "cell_type": "code",
   "execution_count": 14,
   "id": "bda0d5e0",
   "metadata": {},
   "outputs": [],
   "source": [
    "from sklearn.model_selection import train_test_split"
   ]
  },
  {
   "cell_type": "code",
   "execution_count": 15,
   "id": "ba018087",
   "metadata": {},
   "outputs": [],
   "source": [
    "X_train , X_test, Y_train, Y_test = train_test_split(x,y, test_size = 0.2, random_state = 1)"
   ]
  },
  {
   "cell_type": "code",
   "execution_count": 16,
   "id": "b0ed0cc0",
   "metadata": {},
   "outputs": [
    {
     "data": {
      "text/plain": [
       "(16000, 16)"
      ]
     },
     "execution_count": 16,
     "metadata": {},
     "output_type": "execute_result"
    }
   ],
   "source": [
    "X_train.shape"
   ]
  },
  {
   "cell_type": "code",
   "execution_count": 17,
   "id": "c605ffff",
   "metadata": {},
   "outputs": [
    {
     "data": {
      "text/plain": [
       "(4000, 16)"
      ]
     },
     "execution_count": 17,
     "metadata": {},
     "output_type": "execute_result"
    }
   ],
   "source": [
    "X_test.shape"
   ]
  },
  {
   "cell_type": "code",
   "execution_count": 17,
   "id": "27a3ea2c",
   "metadata": {},
   "outputs": [],
   "source": [
    "from sklearn import tree"
   ]
  },
  {
   "cell_type": "code",
   "execution_count": 18,
   "id": "ee389350",
   "metadata": {},
   "outputs": [],
   "source": [
    "model = tree.DecisionTreeClassifier()"
   ]
  },
  {
   "cell_type": "code",
   "execution_count": 19,
   "id": "5801ff3d",
   "metadata": {},
   "outputs": [
    {
     "name": "stdout",
     "output_type": "stream",
     "text": [
      "{'ccp_alpha': 0.0, 'class_weight': None, 'criterion': 'gini', 'max_depth': None, 'max_features': None, 'max_leaf_nodes': None, 'min_impurity_decrease': 0.0, 'min_samples_leaf': 1, 'min_samples_split': 2, 'min_weight_fraction_leaf': 0.0, 'random_state': None, 'splitter': 'best'}\n"
     ]
    }
   ],
   "source": [
    "print(model.get_params())"
   ]
  },
  {
   "cell_type": "code",
   "execution_count": 20,
   "id": "8c83dd4e",
   "metadata": {},
   "outputs": [
    {
     "data": {
      "text/plain": [
       "DecisionTreeClassifier()"
      ]
     },
     "execution_count": 20,
     "metadata": {},
     "output_type": "execute_result"
    }
   ],
   "source": [
    "model.fit(X_train,Y_train)"
   ]
  },
  {
   "cell_type": "code",
   "execution_count": 21,
   "id": "78d0593b",
   "metadata": {},
   "outputs": [
    {
     "data": {
      "text/plain": [
       "0.86975"
      ]
     },
     "execution_count": 21,
     "metadata": {},
     "output_type": "execute_result"
    }
   ],
   "source": [
    "model.score(X_test,Y_test)"
   ]
  },
  {
   "cell_type": "code",
   "execution_count": 22,
   "id": "4901e042",
   "metadata": {},
   "outputs": [],
   "source": [
    "from sklearn.metrics import confusion_matrix"
   ]
  },
  {
   "cell_type": "code",
   "execution_count": 23,
   "id": "850a1ac0",
   "metadata": {},
   "outputs": [],
   "source": [
    "from sklearn.metrics import classification_report"
   ]
  },
  {
   "cell_type": "code",
   "execution_count": 24,
   "id": "f8dd8b18",
   "metadata": {},
   "outputs": [],
   "source": [
    "y_pred = model.predict(X_test)"
   ]
  },
  {
   "cell_type": "code",
   "execution_count": 25,
   "id": "d6a2e680",
   "metadata": {},
   "outputs": [],
   "source": [
    "cm = confusion_matrix(Y_test, y_pred)"
   ]
  },
  {
   "cell_type": "code",
   "execution_count": 26,
   "id": "833fabe3",
   "metadata": {
    "scrolled": false
   },
   "outputs": [
    {
     "name": "stdout",
     "output_type": "stream",
     "text": [
      "              precision    recall  f1-score   support\n",
      "\n",
      "           A       0.94      0.94      0.94       162\n",
      "           B       0.80      0.82      0.81       152\n",
      "           C       0.90      0.88      0.89       144\n",
      "           D       0.77      0.87      0.81       156\n",
      "           E       0.79      0.90      0.84       139\n",
      "           F       0.79      0.83      0.81       144\n",
      "           G       0.84      0.83      0.84       154\n",
      "           H       0.74      0.76      0.75       146\n",
      "           I       0.85      0.94      0.89       138\n",
      "           J       0.88      0.87      0.88       141\n",
      "           K       0.85      0.84      0.85       137\n",
      "           L       0.91      0.91      0.91       139\n",
      "           M       0.91      0.92      0.91       145\n",
      "           N       0.90      0.80      0.84       161\n",
      "           O       0.88      0.81      0.84       173\n",
      "           P       0.90      0.83      0.86       174\n",
      "           Q       0.90      0.87      0.89       159\n",
      "           R       0.81      0.75      0.78       157\n",
      "           S       0.83      0.86      0.84       170\n",
      "           T       0.93      0.91      0.92       181\n",
      "           U       0.94      0.89      0.91       161\n",
      "           V       0.91      0.93      0.92       142\n",
      "           W       0.93      0.93      0.93       151\n",
      "           X       0.91      0.88      0.90       154\n",
      "           Y       0.92      0.93      0.92       162\n",
      "           Z       0.91      0.90      0.90       158\n",
      "\n",
      "    accuracy                           0.87      4000\n",
      "   macro avg       0.87      0.87      0.87      4000\n",
      "weighted avg       0.87      0.87      0.87      4000\n",
      "\n"
     ]
    }
   ],
   "source": [
    "clf = classification_report(Y_test, y_pred)\n",
    "print(clf)"
   ]
  },
  {
   "cell_type": "code",
   "execution_count": 27,
   "id": "da2d5e79",
   "metadata": {
    "scrolled": false
   },
   "outputs": [
    {
     "data": {
      "text/plain": [
       "Text(69.0, 0.5, 'Truth')"
      ]
     },
     "execution_count": 27,
     "metadata": {},
     "output_type": "execute_result"
    },
    {
     "data": {
      "image/png": "[encoded data removed]",
      "text/plain": [
       "<Figure size 720x504 with 2 Axes>"
      ]
     },
     "metadata": {
      "needs_background": "light"
     },
     "output_type": "display_data"
    }
   ],
   "source": [
    "%matplotlib inline\n",
    "plt.figure(figsize=(10,7))\n",
    "sns.heatmap(cm,annot = True)\n",
    "plt.xlabel('Predicted')\n",
    "plt.ylabel('Truth')"
   ]
  },
  {
   "cell_type": "code",
   "execution_count": 28,
   "id": "e882e22a",
   "metadata": {},
   "outputs": [],
   "source": [
    "from sklearn.model_selection import GridSearchCV"
   ]
  },
  {
   "cell_type": "code",
   "execution_count": 29,
   "id": "7c19f090",
   "metadata": {},
   "outputs": [],
   "source": [
    "params = {'max_leaf_nodes': list(range(100,1000,100)),\n",
    "          'max_depth' : [10,20,30]}"
   ]
  },
  {
   "cell_type": "code",
   "execution_count": 30,
   "id": "28761059",
   "metadata": {
    "scrolled": true
   },
   "outputs": [],
   "source": [
    "hyper_params = GridSearchCV(tree.DecisionTreeClassifier(random_state = 42), params , verbose = 1, cv = 3)"
   ]
  },
  {
   "cell_type": "code",
   "execution_count": 31,
   "id": "505f5759",
   "metadata": {},
   "outputs": [
    {
     "name": "stdout",
     "output_type": "stream",
     "text": [
      "Fitting 3 folds for each of 27 candidates, totalling 81 fits\n"
     ]
    },
    {
     "data": {
      "text/plain": [
       "GridSearchCV(cv=3, estimator=DecisionTreeClassifier(random_state=42),\n",
       "             param_grid={'max_depth': [10, 20, 30],\n",
       "                         'max_leaf_nodes': [100, 200, 300, 400, 500, 600, 700,\n",
       "                                            800, 900]},\n",
       "             verbose=1)"
      ]
     },
     "execution_count": 31,
     "metadata": {},
     "output_type": "execute_result"
    }
   ],
   "source": [
    "hyper_params.fit(X_train,Y_train)"
   ]
  },
  {
   "cell_type": "code",
   "execution_count": 32,
   "id": "3fe98aaf",
   "metadata": {},
   "outputs": [
    {
     "data": {
      "text/html": [
       "<div>\n",
       "<style scoped>\n",
       "    .dataframe tbody tr th:only-of-type {\n",
       "        vertical-align: middle;\n",
       "    }\n",
       "\n",
       "    .dataframe tbody tr th {\n",
       "        vertical-align: top;\n",
       "    }\n",
       "\n",
       "    .dataframe thead th {\n",
       "        text-align: right;\n",
       "    }\n",
       "</style>\n",
       "<table border=\"1\" class=\"dataframe\">\n",
       "  <thead>\n",
       "    <tr style=\"text-align: right;\">\n",
       "      <th></th>\n",
       "      <th>mean_fit_time</th>\n",
       "      <th>std_fit_time</th>\n",
       "      <th>mean_score_time</th>\n",
       "      <th>std_score_time</th>\n",
       "      <th>param_max_depth</th>\n",
       "      <th>param_max_leaf_nodes</th>\n",
       "      <th>params</th>\n",
       "      <th>split0_test_score</th>\n",
       "      <th>split1_test_score</th>\n",
       "      <th>split2_test_score</th>\n",
       "      <th>mean_test_score</th>\n",
       "      <th>std_test_score</th>\n",
       "      <th>rank_test_score</th>\n",
       "    </tr>\n",
       "  </thead>\n",
       "  <tbody>\n",
       "    <tr>\n",
       "      <th>0</th>\n",
       "      <td>0.053912</td>\n",
       "      <td>0.001052</td>\n",
       "      <td>0.007353</td>\n",
       "      <td>0.000194</td>\n",
       "      <td>10</td>\n",
       "      <td>100</td>\n",
       "      <td>{'max_depth': 10, 'max_leaf_nodes': 100}</td>\n",
       "      <td>0.659168</td>\n",
       "      <td>0.675230</td>\n",
       "      <td>0.659291</td>\n",
       "      <td>0.664563</td>\n",
       "      <td>0.007543</td>\n",
       "      <td>27</td>\n",
       "    </tr>\n",
       "    <tr>\n",
       "      <th>1</th>\n",
       "      <td>0.056331</td>\n",
       "      <td>0.000294</td>\n",
       "      <td>0.007667</td>\n",
       "      <td>0.000304</td>\n",
       "      <td>10</td>\n",
       "      <td>200</td>\n",
       "      <td>{'max_depth': 10, 'max_leaf_nodes': 200}</td>\n",
       "      <td>0.698913</td>\n",
       "      <td>0.701669</td>\n",
       "      <td>0.707107</td>\n",
       "      <td>0.702563</td>\n",
       "      <td>0.003404</td>\n",
       "      <td>24</td>\n",
       "    </tr>\n",
       "    <tr>\n",
       "      <th>2</th>\n",
       "      <td>0.056878</td>\n",
       "      <td>0.000208</td>\n",
       "      <td>0.007671</td>\n",
       "      <td>0.000134</td>\n",
       "      <td>10</td>\n",
       "      <td>300</td>\n",
       "      <td>{'max_depth': 10, 'max_leaf_nodes': 300}</td>\n",
       "      <td>0.702850</td>\n",
       "      <td>0.708232</td>\n",
       "      <td>0.711607</td>\n",
       "      <td>0.707563</td>\n",
       "      <td>0.003606</td>\n",
       "      <td>17</td>\n",
       "    </tr>\n",
       "    <tr>\n",
       "      <th>3</th>\n",
       "      <td>0.056253</td>\n",
       "      <td>0.000257</td>\n",
       "      <td>0.007308</td>\n",
       "      <td>0.000029</td>\n",
       "      <td>10</td>\n",
       "      <td>400</td>\n",
       "      <td>{'max_depth': 10, 'max_leaf_nodes': 400}</td>\n",
       "      <td>0.702850</td>\n",
       "      <td>0.708232</td>\n",
       "      <td>0.711607</td>\n",
       "      <td>0.707563</td>\n",
       "      <td>0.003606</td>\n",
       "      <td>17</td>\n",
       "    </tr>\n",
       "    <tr>\n",
       "      <th>4</th>\n",
       "      <td>0.056092</td>\n",
       "      <td>0.000327</td>\n",
       "      <td>0.007315</td>\n",
       "      <td>0.000055</td>\n",
       "      <td>10</td>\n",
       "      <td>500</td>\n",
       "      <td>{'max_depth': 10, 'max_leaf_nodes': 500}</td>\n",
       "      <td>0.702850</td>\n",
       "      <td>0.708232</td>\n",
       "      <td>0.711607</td>\n",
       "      <td>0.707563</td>\n",
       "      <td>0.003606</td>\n",
       "      <td>17</td>\n",
       "    </tr>\n",
       "    <tr>\n",
       "      <th>5</th>\n",
       "      <td>0.056112</td>\n",
       "      <td>0.000312</td>\n",
       "      <td>0.007319</td>\n",
       "      <td>0.000023</td>\n",
       "      <td>10</td>\n",
       "      <td>600</td>\n",
       "      <td>{'max_depth': 10, 'max_leaf_nodes': 600}</td>\n",
       "      <td>0.702850</td>\n",
       "      <td>0.708232</td>\n",
       "      <td>0.711607</td>\n",
       "      <td>0.707563</td>\n",
       "      <td>0.003606</td>\n",
       "      <td>17</td>\n",
       "    </tr>\n",
       "    <tr>\n",
       "      <th>6</th>\n",
       "      <td>0.056128</td>\n",
       "      <td>0.000282</td>\n",
       "      <td>0.007277</td>\n",
       "      <td>0.000028</td>\n",
       "      <td>10</td>\n",
       "      <td>700</td>\n",
       "      <td>{'max_depth': 10, 'max_leaf_nodes': 700}</td>\n",
       "      <td>0.702850</td>\n",
       "      <td>0.708232</td>\n",
       "      <td>0.711607</td>\n",
       "      <td>0.707563</td>\n",
       "      <td>0.003606</td>\n",
       "      <td>17</td>\n",
       "    </tr>\n",
       "    <tr>\n",
       "      <th>7</th>\n",
       "      <td>0.056119</td>\n",
       "      <td>0.000286</td>\n",
       "      <td>0.007309</td>\n",
       "      <td>0.000017</td>\n",
       "      <td>10</td>\n",
       "      <td>800</td>\n",
       "      <td>{'max_depth': 10, 'max_leaf_nodes': 800}</td>\n",
       "      <td>0.702850</td>\n",
       "      <td>0.708232</td>\n",
       "      <td>0.711607</td>\n",
       "      <td>0.707563</td>\n",
       "      <td>0.003606</td>\n",
       "      <td>17</td>\n",
       "    </tr>\n",
       "    <tr>\n",
       "      <th>8</th>\n",
       "      <td>0.056448</td>\n",
       "      <td>0.000214</td>\n",
       "      <td>0.007401</td>\n",
       "      <td>0.000154</td>\n",
       "      <td>10</td>\n",
       "      <td>900</td>\n",
       "      <td>{'max_depth': 10, 'max_leaf_nodes': 900}</td>\n",
       "      <td>0.702850</td>\n",
       "      <td>0.708232</td>\n",
       "      <td>0.711607</td>\n",
       "      <td>0.707563</td>\n",
       "      <td>0.003606</td>\n",
       "      <td>17</td>\n",
       "    </tr>\n",
       "    <tr>\n",
       "      <th>9</th>\n",
       "      <td>0.055242</td>\n",
       "      <td>0.000519</td>\n",
       "      <td>0.007307</td>\n",
       "      <td>0.000111</td>\n",
       "      <td>20</td>\n",
       "      <td>100</td>\n",
       "      <td>{'max_depth': 20, 'max_leaf_nodes': 100}</td>\n",
       "      <td>0.677353</td>\n",
       "      <td>0.680668</td>\n",
       "      <td>0.667542</td>\n",
       "      <td>0.675187</td>\n",
       "      <td>0.005573</td>\n",
       "      <td>25</td>\n",
       "    </tr>\n",
       "    <tr>\n",
       "      <th>10</th>\n",
       "      <td>0.062012</td>\n",
       "      <td>0.000223</td>\n",
       "      <td>0.007968</td>\n",
       "      <td>0.000357</td>\n",
       "      <td>20</td>\n",
       "      <td>200</td>\n",
       "      <td>{'max_depth': 20, 'max_leaf_nodes': 200}</td>\n",
       "      <td>0.746157</td>\n",
       "      <td>0.753610</td>\n",
       "      <td>0.742921</td>\n",
       "      <td>0.747563</td>\n",
       "      <td>0.004475</td>\n",
       "      <td>15</td>\n",
       "    </tr>\n",
       "    <tr>\n",
       "      <th>11</th>\n",
       "      <td>0.064179</td>\n",
       "      <td>0.000917</td>\n",
       "      <td>0.007409</td>\n",
       "      <td>0.000157</td>\n",
       "      <td>20</td>\n",
       "      <td>300</td>\n",
       "      <td>{'max_depth': 20, 'max_leaf_nodes': 300}</td>\n",
       "      <td>0.777465</td>\n",
       "      <td>0.794487</td>\n",
       "      <td>0.786612</td>\n",
       "      <td>0.786188</td>\n",
       "      <td>0.006956</td>\n",
       "      <td>14</td>\n",
       "    </tr>\n",
       "    <tr>\n",
       "      <th>12</th>\n",
       "      <td>0.067035</td>\n",
       "      <td>0.000474</td>\n",
       "      <td>0.007754</td>\n",
       "      <td>0.000083</td>\n",
       "      <td>20</td>\n",
       "      <td>400</td>\n",
       "      <td>{'max_depth': 20, 'max_leaf_nodes': 400}</td>\n",
       "      <td>0.807462</td>\n",
       "      <td>0.815676</td>\n",
       "      <td>0.811551</td>\n",
       "      <td>0.811563</td>\n",
       "      <td>0.003354</td>\n",
       "      <td>11</td>\n",
       "    </tr>\n",
       "    <tr>\n",
       "      <th>13</th>\n",
       "      <td>0.068557</td>\n",
       "      <td>0.000705</td>\n",
       "      <td>0.007594</td>\n",
       "      <td>0.000033</td>\n",
       "      <td>20</td>\n",
       "      <td>500</td>\n",
       "      <td>{'max_depth': 20, 'max_leaf_nodes': 500}</td>\n",
       "      <td>0.818898</td>\n",
       "      <td>0.826739</td>\n",
       "      <td>0.822614</td>\n",
       "      <td>0.822750</td>\n",
       "      <td>0.003203</td>\n",
       "      <td>10</td>\n",
       "    </tr>\n",
       "    <tr>\n",
       "      <th>14</th>\n",
       "      <td>0.069744</td>\n",
       "      <td>0.000410</td>\n",
       "      <td>0.007813</td>\n",
       "      <td>0.000050</td>\n",
       "      <td>20</td>\n",
       "      <td>600</td>\n",
       "      <td>{'max_depth': 20, 'max_leaf_nodes': 600}</td>\n",
       "      <td>0.833896</td>\n",
       "      <td>0.832177</td>\n",
       "      <td>0.829552</td>\n",
       "      <td>0.831875</td>\n",
       "      <td>0.001786</td>\n",
       "      <td>7</td>\n",
       "    </tr>\n",
       "    <tr>\n",
       "      <th>15</th>\n",
       "      <td>0.070713</td>\n",
       "      <td>0.000337</td>\n",
       "      <td>0.007663</td>\n",
       "      <td>0.000055</td>\n",
       "      <td>20</td>\n",
       "      <td>700</td>\n",
       "      <td>{'max_depth': 20, 'max_leaf_nodes': 700}</td>\n",
       "      <td>0.838208</td>\n",
       "      <td>0.834802</td>\n",
       "      <td>0.837427</td>\n",
       "      <td>0.836812</td>\n",
       "      <td>0.001457</td>\n",
       "      <td>6</td>\n",
       "    </tr>\n",
       "    <tr>\n",
       "      <th>16</th>\n",
       "      <td>0.072064</td>\n",
       "      <td>0.000866</td>\n",
       "      <td>0.007545</td>\n",
       "      <td>0.000105</td>\n",
       "      <td>20</td>\n",
       "      <td>800</td>\n",
       "      <td>{'max_depth': 20, 'max_leaf_nodes': 800}</td>\n",
       "      <td>0.842145</td>\n",
       "      <td>0.835740</td>\n",
       "      <td>0.840803</td>\n",
       "      <td>0.839562</td>\n",
       "      <td>0.002758</td>\n",
       "      <td>4</td>\n",
       "    </tr>\n",
       "    <tr>\n",
       "      <th>17</th>\n",
       "      <td>0.071687</td>\n",
       "      <td>0.000486</td>\n",
       "      <td>0.007405</td>\n",
       "      <td>0.000181</td>\n",
       "      <td>20</td>\n",
       "      <td>900</td>\n",
       "      <td>{'max_depth': 20, 'max_leaf_nodes': 900}</td>\n",
       "      <td>0.841770</td>\n",
       "      <td>0.839490</td>\n",
       "      <td>0.845490</td>\n",
       "      <td>0.842250</td>\n",
       "      <td>0.002473</td>\n",
       "      <td>2</td>\n",
       "    </tr>\n",
       "    <tr>\n",
       "      <th>18</th>\n",
       "      <td>0.056049</td>\n",
       "      <td>0.000571</td>\n",
       "      <td>0.007621</td>\n",
       "      <td>0.000036</td>\n",
       "      <td>30</td>\n",
       "      <td>100</td>\n",
       "      <td>{'max_depth': 30, 'max_leaf_nodes': 100}</td>\n",
       "      <td>0.677353</td>\n",
       "      <td>0.680668</td>\n",
       "      <td>0.667542</td>\n",
       "      <td>0.675187</td>\n",
       "      <td>0.005573</td>\n",
       "      <td>25</td>\n",
       "    </tr>\n",
       "    <tr>\n",
       "      <th>19</th>\n",
       "      <td>0.061277</td>\n",
       "      <td>0.000820</td>\n",
       "      <td>0.007597</td>\n",
       "      <td>0.000158</td>\n",
       "      <td>30</td>\n",
       "      <td>200</td>\n",
       "      <td>{'max_depth': 30, 'max_leaf_nodes': 200}</td>\n",
       "      <td>0.746157</td>\n",
       "      <td>0.753610</td>\n",
       "      <td>0.742921</td>\n",
       "      <td>0.747563</td>\n",
       "      <td>0.004475</td>\n",
       "      <td>15</td>\n",
       "    </tr>\n",
       "    <tr>\n",
       "      <th>20</th>\n",
       "      <td>0.063884</td>\n",
       "      <td>0.000641</td>\n",
       "      <td>0.007489</td>\n",
       "      <td>0.000118</td>\n",
       "      <td>30</td>\n",
       "      <td>300</td>\n",
       "      <td>{'max_depth': 30, 'max_leaf_nodes': 300}</td>\n",
       "      <td>0.778403</td>\n",
       "      <td>0.794487</td>\n",
       "      <td>0.786612</td>\n",
       "      <td>0.786501</td>\n",
       "      <td>0.006567</td>\n",
       "      <td>13</td>\n",
       "    </tr>\n",
       "    <tr>\n",
       "      <th>21</th>\n",
       "      <td>0.067034</td>\n",
       "      <td>0.000347</td>\n",
       "      <td>0.007717</td>\n",
       "      <td>0.000120</td>\n",
       "      <td>30</td>\n",
       "      <td>400</td>\n",
       "      <td>{'max_depth': 30, 'max_leaf_nodes': 400}</td>\n",
       "      <td>0.806149</td>\n",
       "      <td>0.815676</td>\n",
       "      <td>0.811551</td>\n",
       "      <td>0.811125</td>\n",
       "      <td>0.003901</td>\n",
       "      <td>12</td>\n",
       "    </tr>\n",
       "    <tr>\n",
       "      <th>22</th>\n",
       "      <td>0.068718</td>\n",
       "      <td>0.000557</td>\n",
       "      <td>0.007677</td>\n",
       "      <td>0.000013</td>\n",
       "      <td>30</td>\n",
       "      <td>500</td>\n",
       "      <td>{'max_depth': 30, 'max_leaf_nodes': 500}</td>\n",
       "      <td>0.820397</td>\n",
       "      <td>0.826927</td>\n",
       "      <td>0.822614</td>\n",
       "      <td>0.823313</td>\n",
       "      <td>0.002711</td>\n",
       "      <td>9</td>\n",
       "    </tr>\n",
       "    <tr>\n",
       "      <th>23</th>\n",
       "      <td>0.069397</td>\n",
       "      <td>0.001020</td>\n",
       "      <td>0.007508</td>\n",
       "      <td>0.000063</td>\n",
       "      <td>30</td>\n",
       "      <td>600</td>\n",
       "      <td>{'max_depth': 30, 'max_leaf_nodes': 600}</td>\n",
       "      <td>0.833521</td>\n",
       "      <td>0.832552</td>\n",
       "      <td>0.829177</td>\n",
       "      <td>0.831750</td>\n",
       "      <td>0.001862</td>\n",
       "      <td>8</td>\n",
       "    </tr>\n",
       "    <tr>\n",
       "      <th>24</th>\n",
       "      <td>0.070034</td>\n",
       "      <td>0.000465</td>\n",
       "      <td>0.007473</td>\n",
       "      <td>0.000236</td>\n",
       "      <td>30</td>\n",
       "      <td>700</td>\n",
       "      <td>{'max_depth': 30, 'max_leaf_nodes': 700}</td>\n",
       "      <td>0.840082</td>\n",
       "      <td>0.834052</td>\n",
       "      <td>0.836490</td>\n",
       "      <td>0.836875</td>\n",
       "      <td>0.002477</td>\n",
       "      <td>5</td>\n",
       "    </tr>\n",
       "    <tr>\n",
       "      <th>25</th>\n",
       "      <td>0.072534</td>\n",
       "      <td>0.000815</td>\n",
       "      <td>0.007711</td>\n",
       "      <td>0.000081</td>\n",
       "      <td>30</td>\n",
       "      <td>800</td>\n",
       "      <td>{'max_depth': 30, 'max_leaf_nodes': 800}</td>\n",
       "      <td>0.846269</td>\n",
       "      <td>0.837240</td>\n",
       "      <td>0.840615</td>\n",
       "      <td>0.841375</td>\n",
       "      <td>0.003725</td>\n",
       "      <td>3</td>\n",
       "    </tr>\n",
       "    <tr>\n",
       "      <th>26</th>\n",
       "      <td>0.072098</td>\n",
       "      <td>0.000790</td>\n",
       "      <td>0.007441</td>\n",
       "      <td>0.000129</td>\n",
       "      <td>30</td>\n",
       "      <td>900</td>\n",
       "      <td>{'max_depth': 30, 'max_leaf_nodes': 900}</td>\n",
       "      <td>0.847769</td>\n",
       "      <td>0.839865</td>\n",
       "      <td>0.845678</td>\n",
       "      <td>0.844437</td>\n",
       "      <td>0.003344</td>\n",
       "      <td>1</td>\n",
       "    </tr>\n",
       "  </tbody>\n",
       "</table>\n",
       "</div>"
      ],
      "text/plain": [
       "    mean_fit_time  std_fit_time  mean_score_time  std_score_time  \\\n",
       "0        0.053912      0.001052         0.007353        0.000194   \n",
       "1        0.056331      0.000294         0.007667        0.000304   \n",
       "2        0.056878      0.000208         0.007671        0.000134   \n",
       "3        0.056253      0.000257         0.007308        0.000029   \n",
       "4        0.056092      0.000327         0.007315        0.000055   \n",
       "5        0.056112      0.000312         0.007319        0.000023   \n",
       "6        0.056128      0.000282         0.007277        0.000028   \n",
       "7        0.056119      0.000286         0.007309        0.000017   \n",
       "8        0.056448      0.000214         0.007401        0.000154   \n",
       "9        0.055242      0.000519         0.007307        0.000111   \n",
       "10       0.062012      0.000223         0.007968        0.000357   \n",
       "11       0.064179      0.000917         0.007409        0.000157   \n",
       "12       0.067035      0.000474         0.007754        0.000083   \n",
       "13       0.068557      0.000705         0.007594        0.000033   \n",
       "14       0.069744      0.000410         0.007813        0.000050   \n",
       "15       0.070713      0.000337         0.007663        0.000055   \n",
       "16       0.072064      0.000866         0.007545        0.000105   \n",
       "17       0.071687      0.000486         0.007405        0.000181   \n",
       "18       0.056049      0.000571         0.007621        0.000036   \n",
       "19       0.061277      0.000820         0.007597        0.000158   \n",
       "20       0.063884      0.000641         0.007489        0.000118   \n",
       "21       0.067034      0.000347         0.007717        0.000120   \n",
       "22       0.068718      0.000557         0.007677        0.000013   \n",
       "23       0.069397      0.001020         0.007508        0.000063   \n",
       "24       0.070034      0.000465         0.007473        0.000236   \n",
       "25       0.072534      0.000815         0.007711        0.000081   \n",
       "26       0.072098      0.000790         0.007441        0.000129   \n",
       "\n",
       "   param_max_depth param_max_leaf_nodes  \\\n",
       "0               10                  100   \n",
       "1               10                  200   \n",
       "2               10                  300   \n",
       "3               10                  400   \n",
       "4               10                  500   \n",
       "5               10                  600   \n",
       "6               10                  700   \n",
       "7               10                  800   \n",
       "8               10                  900   \n",
       "9               20                  100   \n",
       "10              20                  200   \n",
       "11              20                  300   \n",
       "12              20                  400   \n",
       "13              20                  500   \n",
       "14              20                  600   \n",
       "15              20                  700   \n",
       "16              20                  800   \n",
       "17              20                  900   \n",
       "18              30                  100   \n",
       "19              30                  200   \n",
       "20              30                  300   \n",
       "21              30                  400   \n",
       "22              30                  500   \n",
       "23              30                  600   \n",
       "24              30                  700   \n",
       "25              30                  800   \n",
       "26              30                  900   \n",
       "\n",
       "                                      params  split0_test_score  \\\n",
       "0   {'max_depth': 10, 'max_leaf_nodes': 100}           0.659168   \n",
       "1   {'max_depth': 10, 'max_leaf_nodes': 200}           0.698913   \n",
       "2   {'max_depth': 10, 'max_leaf_nodes': 300}           0.702850   \n",
       "3   {'max_depth': 10, 'max_leaf_nodes': 400}           0.702850   \n",
       "4   {'max_depth': 10, 'max_leaf_nodes': 500}           0.702850   \n",
       "5   {'max_depth': 10, 'max_leaf_nodes': 600}           0.702850   \n",
       "6   {'max_depth': 10, 'max_leaf_nodes': 700}           0.702850   \n",
       "7   {'max_depth': 10, 'max_leaf_nodes': 800}           0.702850   \n",
       "8   {'max_depth': 10, 'max_leaf_nodes': 900}           0.702850   \n",
       "9   {'max_depth': 20, 'max_leaf_nodes': 100}           0.677353   \n",
       "10  {'max_depth': 20, 'max_leaf_nodes': 200}           0.746157   \n",
       "11  {'max_depth': 20, 'max_leaf_nodes': 300}           0.777465   \n",
       "12  {'max_depth': 20, 'max_leaf_nodes': 400}           0.807462   \n",
       "13  {'max_depth': 20, 'max_leaf_nodes': 500}           0.818898   \n",
       "14  {'max_depth': 20, 'max_leaf_nodes': 600}           0.833896   \n",
       "15  {'max_depth': 20, 'max_leaf_nodes': 700}           0.838208   \n",
       "16  {'max_depth': 20, 'max_leaf_nodes': 800}           0.842145   \n",
       "17  {'max_depth': 20, 'max_leaf_nodes': 900}           0.841770   \n",
       "18  {'max_depth': 30, 'max_leaf_nodes': 100}           0.677353   \n",
       "19  {'max_depth': 30, 'max_leaf_nodes': 200}           0.746157   \n",
       "20  {'max_depth': 30, 'max_leaf_nodes': 300}           0.778403   \n",
       "21  {'max_depth': 30, 'max_leaf_nodes': 400}           0.806149   \n",
       "22  {'max_depth': 30, 'max_leaf_nodes': 500}           0.820397   \n",
       "23  {'max_depth': 30, 'max_leaf_nodes': 600}           0.833521   \n",
       "24  {'max_depth': 30, 'max_leaf_nodes': 700}           0.840082   \n",
       "25  {'max_depth': 30, 'max_leaf_nodes': 800}           0.846269   \n",
       "26  {'max_depth': 30, 'max_leaf_nodes': 900}           0.847769   \n",
       "\n",
       "    split1_test_score  split2_test_score  mean_test_score  std_test_score  \\\n",
       "0            0.675230           0.659291         0.664563        0.007543   \n",
       "1            0.701669           0.707107         0.702563        0.003404   \n",
       "2            0.708232           0.711607         0.707563        0.003606   \n",
       "3            0.708232           0.711607         0.707563        0.003606   \n",
       "4            0.708232           0.711607         0.707563        0.003606   \n",
       "5            0.708232           0.711607         0.707563        0.003606   \n",
       "6            0.708232           0.711607         0.707563        0.003606   \n",
       "7            0.708232           0.711607         0.707563        0.003606   \n",
       "8            0.708232           0.711607         0.707563        0.003606   \n",
       "9            0.680668           0.667542         0.675187        0.005573   \n",
       "10           0.753610           0.742921         0.747563        0.004475   \n",
       "11           0.794487           0.786612         0.786188        0.006956   \n",
       "12           0.815676           0.811551         0.811563        0.003354   \n",
       "13           0.826739           0.822614         0.822750        0.003203   \n",
       "14           0.832177           0.829552         0.831875        0.001786   \n",
       "15           0.834802           0.837427         0.836812        0.001457   \n",
       "16           0.835740           0.840803         0.839562        0.002758   \n",
       "17           0.839490           0.845490         0.842250        0.002473   \n",
       "18           0.680668           0.667542         0.675187        0.005573   \n",
       "19           0.753610           0.742921         0.747563        0.004475   \n",
       "20           0.794487           0.786612         0.786501        0.006567   \n",
       "21           0.815676           0.811551         0.811125        0.003901   \n",
       "22           0.826927           0.822614         0.823313        0.002711   \n",
       "23           0.832552           0.829177         0.831750        0.001862   \n",
       "24           0.834052           0.836490         0.836875        0.002477   \n",
       "25           0.837240           0.840615         0.841375        0.003725   \n",
       "26           0.839865           0.845678         0.844437        0.003344   \n",
       "\n",
       "    rank_test_score  \n",
       "0                27  \n",
       "1                24  \n",
       "2                17  \n",
       "3                17  \n",
       "4                17  \n",
       "5                17  \n",
       "6                17  \n",
       "7                17  \n",
       "8                17  \n",
       "9                25  \n",
       "10               15  \n",
       "11               14  \n",
       "12               11  \n",
       "13               10  \n",
       "14                7  \n",
       "15                6  \n",
       "16                4  \n",
       "17                2  \n",
       "18               25  \n",
       "19               15  \n",
       "20               13  \n",
       "21               12  \n",
       "22                9  \n",
       "23                8  \n",
       "24                5  \n",
       "25                3  \n",
       "26                1  "
      ]
     },
     "execution_count": 32,
     "metadata": {},
     "output_type": "execute_result"
    }
   ],
   "source": [
    "u = pd.DataFrame(hyper_params.cv_results_)\n",
    "u"
   ]
  },
  {
   "cell_type": "code",
   "execution_count": 33,
   "id": "ddcc41f0",
   "metadata": {},
   "outputs": [
    {
     "data": {
      "text/plain": [
       "0.844437291766431"
      ]
     },
     "execution_count": 33,
     "metadata": {},
     "output_type": "execute_result"
    }
   ],
   "source": [
    "hyper_params.best_score_"
   ]
  },
  {
   "cell_type": "code",
   "execution_count": 34,
   "id": "21d2ff91",
   "metadata": {},
   "outputs": [
    {
     "data": {
      "text/plain": [
       "{'max_depth': 30, 'max_leaf_nodes': 900}"
      ]
     },
     "execution_count": 34,
     "metadata": {},
     "output_type": "execute_result"
    }
   ],
   "source": [
    "hyper_params.best_params_"
   ]
  },
  {
   "cell_type": "code",
   "execution_count": 35,
   "id": "d5f896ed",
   "metadata": {},
   "outputs": [],
   "source": [
    "modelf = tree.DecisionTreeClassifier(criterion= 'gini',max_depth = 20 ,max_leaf_nodes= 900, min_samples_leaf= 1, min_samples_split = 2)"
   ]
  },
  {
   "cell_type": "code",
   "execution_count": 36,
   "id": "95f8d601",
   "metadata": {},
   "outputs": [
    {
     "data": {
      "text/plain": [
       "DecisionTreeClassifier(max_depth=20, max_leaf_nodes=900)"
      ]
     },
     "execution_count": 36,
     "metadata": {},
     "output_type": "execute_result"
    }
   ],
   "source": [
    "modelf.fit(X_train,Y_train)"
   ]
  },
  {
   "cell_type": "code",
   "execution_count": 37,
   "id": "34d6c9b4",
   "metadata": {},
   "outputs": [
    {
     "data": {
      "text/plain": [
       "0.8445"
      ]
     },
     "execution_count": 37,
     "metadata": {},
     "output_type": "execute_result"
    }
   ],
   "source": [
    "modelf.score(X_test,Y_test)"
   ]
  },
  {
   "cell_type": "code",
   "execution_count": 38,
   "id": "88c07774",
   "metadata": {},
   "outputs": [],
   "source": [
    "n = np.arange(1,30,2)\n",
    "train_acc = np.empty(len(n))\n",
    "test_acc = np.empty(len(n))"
   ]
  },
  {
   "cell_type": "code",
   "execution_count": 39,
   "id": "91463992",
   "metadata": {},
   "outputs": [],
   "source": [
    "for i,k in enumerate(n):\n",
    "    mod = tree.DecisionTreeClassifier(max_depth=k)\n",
    "    mod.fit(X_train,Y_train)\n",
    "    train_acc[i]=mod.score(X_train,Y_train)\n",
    "    test_acc[i]=mod.score(X_test,Y_test)"
   ]
  },
  {
   "cell_type": "code",
   "execution_count": 40,
   "id": "102be753",
   "metadata": {},
   "outputs": [
    {
     "data": {
      "image/png": "[encoded data removed]",
      "text/plain": [
       "<Figure size 432x288 with 1 Axes>"
      ]
     },
     "metadata": {
      "needs_background": "light"
     },
     "output_type": "display_data"
    }
   ],
   "source": [
    "plt.title('max_depth')\n",
    "plt.plot(n,test_acc, label = 'Testing Accuracy')\n",
    "plt.plot(n,train_acc, label = 'Training Accuracy')\n",
    "plt.legend()\n",
    "plt.xlabel('Number of max_depths')\n",
    "plt.ylabel('Accuracy')\n",
    "plt.show()"
   ]
  },
  {
   "cell_type": "code",
   "execution_count": 41,
   "id": "15569290",
   "metadata": {},
   "outputs": [],
   "source": [
    "n = np.arange(100,1500,50)\n",
    "train_acc = np.empty(len(n))\n",
    "test_acc = np.empty(len(n))"
   ]
  },
  {
   "cell_type": "code",
   "execution_count": 42,
   "id": "aa241aac",
   "metadata": {},
   "outputs": [],
   "source": [
    "for i,k in enumerate(n):\n",
    "    mod = tree.DecisionTreeClassifier(max_leaf_nodes=k)\n",
    "    mod.fit(X_train,Y_train)\n",
    "    train_acc[i]=mod.score(X_train,Y_train)\n",
    "    test_acc[i]=mod.score(X_test,Y_test)"
   ]
  },
  {
   "cell_type": "code",
   "execution_count": 43,
   "id": "7fb23b1e",
   "metadata": {},
   "outputs": [
    {
     "data": {
      "image/png": "[encoded data removed]",
      "text/plain": [
       "<Figure size 432x288 with 1 Axes>"
      ]
     },
     "metadata": {
      "needs_background": "light"
     },
     "output_type": "display_data"
    }
   ],
   "source": [
    "plt.title('max_leaf_nodes')\n",
    "plt.plot(n,test_acc, label = 'Testing Accuracy')\n",
    "plt.plot(n,train_acc, label = 'Training Accuracy')\n",
    "plt.legend()\n",
    "plt.xlabel('Number of max_leaf_nodes')\n",
    "plt.ylabel('Accuracy')\n",
    "plt.show()"
   ]
  },
  {
   "cell_type": "code",
   "execution_count": 44,
   "id": "82eba430",
   "metadata": {},
   "outputs": [],
   "source": [
    "modelfinal =  tree.DecisionTreeClassifier(criterion= 'gini',max_depth = 20 ,max_leaf_nodes= 1300, min_samples_leaf= 1, min_samples_split = 2)"
   ]
  },
  {
   "cell_type": "code",
   "execution_count": 45,
   "id": "9be20edc",
   "metadata": {},
   "outputs": [
    {
     "data": {
      "text/plain": [
       "DecisionTreeClassifier(max_depth=20, max_leaf_nodes=1300)"
      ]
     },
     "execution_count": 45,
     "metadata": {},
     "output_type": "execute_result"
    }
   ],
   "source": [
    "modelfinal.fit(X_train,Y_train)"
   ]
  },
  {
   "cell_type": "code",
   "execution_count": 46,
   "id": "b00db9d7",
   "metadata": {},
   "outputs": [
    {
     "data": {
      "text/plain": [
       "85.625"
      ]
     },
     "execution_count": 46,
     "metadata": {},
     "output_type": "execute_result"
    }
   ],
   "source": [
    "modelfinal.score(X_test,Y_test)*100"
   ]
  },
  {
   "cell_type": "code",
   "execution_count": 47,
   "id": "de9225ad",
   "metadata": {},
   "outputs": [
    {
     "name": "stdout",
     "output_type": "stream",
     "text": [
      "[[154   0   0   0   0   0   0   0   2   0   0   0   2   0   0   0   0   1\n",
      "    0   1   0   0   2   0   0   0]\n",
      " [  0 126   2   2   1   1   1   1   0   3   0   0   0   0   1   0   0   7\n",
      "    4   0   0   0   0   3   0   0]\n",
      " [  0   0 130   0   5   2   2   0   0   0   1   1   0   0   0   0   1   0\n",
      "    2   0   0   0   0   0   0   0]\n",
      " [  0   5   0 139   2   2   0   1   0   1   0   1   0   1   0   0   0   1\n",
      "    1   0   0   0   0   2   0   0]\n",
      " [  0   0   3   0 124   3   4   0   1   0   0   1   0   0   0   0   0   0\n",
      "    1   0   0   0   0   0   0   2]\n",
      " [  0   3   0   1   1 118   0   0   0   1   0   1   0   0   0   8   0   1\n",
      "    4   0   0   0   0   0   6   0]\n",
      " [  0   1   8   3   1   2 129   0   0   0   0   1   0   0   2   0   5   1\n",
      "    1   0   0   0   0   0   0   0]\n",
      " [  0   5   1   6   0   3   3 106   0   2   4   3   0   0   1   0   1   8\n",
      "    2   0   1   0   0   0   0   0]\n",
      " [  0   1   0   1   1   1   1   0 129   1   0   1   0   0   0   0   0   0\n",
      "    0   0   0   0   0   1   0   1]\n",
      " [  1   0   0   2   1   2   0   0  10 119   0   0   0   0   3   0   0   0\n",
      "    1   1   0   0   0   1   0   0]\n",
      " [  1   1   0   2   3   1   0   6   1   4 108   1   0   0   0   0   0   5\n",
      "    0   1   0   0   0   3   0   0]\n",
      " [  1   0   0   0   3   0   1   1   4   0   1 124   0   0   2   0   1   0\n",
      "    1   0   0   0   0   0   0   0]\n",
      " [  3   1   1   0   0   2   0   1   0   0   0   0 130   3   1   0   1   1\n",
      "    0   0   1   0   0   0   0   0]\n",
      " [  1   0   0   9   0   2   0   4   0   1   1   0   0 128   1   0   0   7\n",
      "    0   0   2   2   3   0   0   0]\n",
      " [  0   3   3   9   4   1   1   4   0   1   1   0   0   0 135   1   3   4\n",
      "    0   0   2   0   1   0   0   0]\n",
      " [  0   2   1   2   0  15   2   1   1   1   0   0   0   1   0 146   0   1\n",
      "    1   0   0   0   0   0   0   0]\n",
      " [  1   0   2   0   4   0   2   3   2   0   0   0   0   1   2   1 138   1\n",
      "    0   2   0   0   0   0   0   0]\n",
      " [  0  12   0   2   2   0   1   5   1   1   4   1   1   5   1   2   1 116\n",
      "    0   0   0   1   1   0   0   0]\n",
      " [  1   4   0   4   3   1   2   2   2   0   0   2   0   0   2   1   2   1\n",
      "  141   1   0   0   0   0   0   1]\n",
      " [  0   1   0   0   3   5   0   0   1   0   5   0   0   0   0   3   0   0\n",
      "    1 158   0   0   0   1   3   0]\n",
      " [  0   2   0   2   1   0   1   3   0   1   1   0   1   2   4   0   0   0\n",
      "    0   0 143   0   0   0   0   0]\n",
      " [  0   5   0   0   0   0   3   0   0   0   0   0   0   1   0   0   0   1\n",
      "    1   1   1 124   2   0   3   0]\n",
      " [  0   0   0   0   0   0   0   0   0   1   1   0   2   1   0   1   1   1\n",
      "    0   0   0   2 141   0   0   0]\n",
      " [  2   0   0   2   5   1   0   1   1   0   2   0   0   1   0   0   0   3\n",
      "    0   0   0   0   0 135   1   0]\n",
      " [  2   2   0   0   0   1   2   0   1   0   0   0   0   0   0   0   0   0\n",
      "    1   2   0   1   1   1 148   0]\n",
      " [  1   1   0   0   7   2   1   0   1   1   1   1   0   0   0   0   1   1\n",
      "    4   0   0   0   0   0   0 136]]\n"
     ]
    }
   ],
   "source": [
    "y_pred1 = modelfinal.predict(X_test)\n",
    "from sklearn.metrics import classification_report\n",
    "from sklearn.metrics import confusion_matrix\n",
    "cm1 = confusion_matrix(Y_test,y_pred1)\n",
    "print(cm1)"
   ]
  },
  {
   "cell_type": "code",
   "execution_count": 48,
   "id": "bb3a4132",
   "metadata": {},
   "outputs": [
    {
     "data": {
      "text/plain": [
       "Text(51.0, 0.5, 'Truth')"
      ]
     },
     "execution_count": 48,
     "metadata": {},
     "output_type": "execute_result"
    },
    {
     "data": {
      "image/png": "[encoded data removed]",
      "text/plain": [
       "<Figure size 576x432 with 2 Axes>"
      ]
     },
     "metadata": {
      "needs_background": "light"
     },
     "output_type": "display_data"
    }
   ],
   "source": [
    "%matplotlib inline\n",
    "plt.figure(figsize=(8,6))\n",
    "sns.heatmap(cm1,annot = True)\n",
    "plt.xlabel('Predicted')\n",
    "plt.ylabel('Truth')"
   ]
  },
  {
   "cell_type": "code",
   "execution_count": 49,
   "id": "508054a8",
   "metadata": {
    "scrolled": true
   },
   "outputs": [
    {
     "name": "stdout",
     "output_type": "stream",
     "text": [
      "              precision    recall  f1-score   support\n",
      "\n",
      "           A       0.92      0.95      0.93       162\n",
      "           B       0.72      0.83      0.77       152\n",
      "           C       0.86      0.90      0.88       144\n",
      "           D       0.75      0.89      0.81       156\n",
      "           E       0.73      0.89      0.80       139\n",
      "           F       0.72      0.82      0.76       144\n",
      "           G       0.83      0.84      0.83       154\n",
      "           H       0.76      0.73      0.74       146\n",
      "           I       0.82      0.93      0.87       138\n",
      "           J       0.86      0.84      0.85       141\n",
      "           K       0.83      0.79      0.81       137\n",
      "           L       0.90      0.89      0.90       139\n",
      "           M       0.96      0.90      0.93       145\n",
      "           N       0.89      0.80      0.84       161\n",
      "           O       0.87      0.78      0.82       173\n",
      "           P       0.90      0.84      0.87       174\n",
      "           Q       0.89      0.87      0.88       159\n",
      "           R       0.72      0.74      0.73       157\n",
      "           S       0.85      0.83      0.84       170\n",
      "           T       0.95      0.87      0.91       181\n",
      "           U       0.95      0.89      0.92       161\n",
      "           V       0.95      0.87      0.91       142\n",
      "           W       0.93      0.93      0.93       151\n",
      "           X       0.92      0.88      0.90       154\n",
      "           Y       0.92      0.91      0.92       162\n",
      "           Z       0.97      0.86      0.91       158\n",
      "\n",
      "    accuracy                           0.86      4000\n",
      "   macro avg       0.86      0.86      0.86      4000\n",
      "weighted avg       0.86      0.86      0.86      4000\n",
      "\n"
     ]
    }
   ],
   "source": [
    "clf1 = classification_report(Y_test, y_pred1)\n",
    "print(clf1)"
   ]
  },
  {
   "cell_type": "code",
   "execution_count": 50,
   "id": "767677dc",
   "metadata": {},
   "outputs": [
    {
     "data": {
      "image/png": "[encoded data removed]",
      "text/plain": [
       "<Figure size 432x288 with 2 Axes>"
      ]
     },
     "metadata": {
      "needs_background": "light"
     },
     "output_type": "display_data"
    }
   ],
   "source": [
    "from sklearn.metrics import plot_confusion_matrix\n",
    "plot_confusion_matrix(modelfinal, X_test, Y_test)  \n",
    "plt.show()"
   ]
  },
  {
   "cell_type": "code",
   "execution_count": 2,
   "id": "70191cd4",
   "metadata": {},
   "outputs": [],
   "source": [
    "from sklearn.dummy import DummyClassifier\n",
    "classifier=DummyClassifier(strategy='uniform')"
   ]
  },
  {
   "cell_type": "code",
   "execution_count": 19,
   "id": "86122dca",
   "metadata": {},
   "outputs": [
    {
     "data": {
      "text/plain": [
       "0.0365"
      ]
     },
     "execution_count": 19,
     "metadata": {},
     "output_type": "execute_result"
    }
   ],
   "source": [
    "classifier.fit(X_train , Y_train)\n",
    "prediction=classifier.predict(Y_test)\n",
    "classifier.score(X_train,Y_train)"
   ]
  },
  {
   "cell_type": "code",
   "execution_count": 58,
   "id": "cee483cf",
   "metadata": {},
   "outputs": [
    {
     "data": {
      "image/png": "[encoded data removed]",
      "text/plain": [
       "<Figure size 432x288 with 2 Axes>"
      ]
     },
     "metadata": {
      "needs_background": "light"
     },
     "output_type": "display_data"
    }
   ],
   "source": [
    "from sklearn.metrics import plot_confusion_matrix\n",
    "plot_confusion_matrix(classifier, X_test, Y_test)  \n",
    "plt.show()"
   ]
  },
  {
   "cell_type": "code",
   "execution_count": 59,
   "id": "0bcb9878",
   "metadata": {},
   "outputs": [
    {
     "name": "stdout",
     "output_type": "stream",
     "text": [
      "              precision    recall  f1-score   support\n",
      "\n",
      "           A       0.01      0.01      0.01       162\n",
      "           B       0.04      0.04      0.04       152\n",
      "           C       0.01      0.01      0.01       144\n",
      "           D       0.04      0.04      0.04       156\n",
      "           E       0.04      0.05      0.05       139\n",
      "           F       0.04      0.04      0.04       144\n",
      "           G       0.01      0.01      0.01       154\n",
      "           H       0.02      0.02      0.02       146\n",
      "           I       0.05      0.06      0.05       138\n",
      "           J       0.03      0.03      0.03       141\n",
      "           K       0.04      0.05      0.05       137\n",
      "           L       0.02      0.02      0.02       139\n",
      "           M       0.02      0.02      0.02       145\n",
      "           N       0.03      0.02      0.02       161\n",
      "           O       0.03      0.02      0.02       173\n",
      "           P       0.01      0.01      0.01       174\n",
      "           Q       0.04      0.04      0.04       159\n",
      "           R       0.03      0.03      0.03       157\n",
      "           S       0.01      0.01      0.01       170\n",
      "           T       0.05      0.04      0.05       181\n",
      "           U       0.02      0.02      0.02       161\n",
      "           V       0.05      0.04      0.04       142\n",
      "           W       0.04      0.04      0.04       151\n",
      "           X       0.06      0.06      0.06       154\n",
      "           Y       0.02      0.02      0.02       162\n",
      "           Z       0.02      0.02      0.02       158\n",
      "\n",
      "    accuracy                           0.03      4000\n",
      "   macro avg       0.03      0.03      0.03      4000\n",
      "weighted avg       0.03      0.03      0.03      4000\n",
      "\n"
     ]
    }
   ],
   "source": [
    "clf2 = classification_report(Y_test, prediction)\n",
    "print(clf2)"
   ]
  },
  {
   "cell_type": "code",
   "execution_count": 60,
   "id": "bf4588d0",
   "metadata": {},
   "outputs": [
    {
     "data": {
      "text/plain": [
       "Text(51.0, 0.5, 'Truth')"
      ]
     },
     "execution_count": 60,
     "metadata": {},
     "output_type": "execute_result"
    },
    {
     "data": {
      "image/png": "[encoded data removed]",
      "text/plain": [
       "<Figure size 576x432 with 2 Axes>"
      ]
     },
     "metadata": {
      "needs_background": "light"
     },
     "output_type": "display_data"
    }
   ],
   "source": [
    "from sklearn.metrics import classification_report\n",
    "from sklearn.metrics import confusion_matrix\n",
    "cm1 = confusion_matrix(Y_test,prediction)\n",
    "%matplotlib inline\n",
    "plt.figure(figsize=(8,6))\n",
    "sns.heatmap(cm1,annot = True)\n",
    "plt.xlabel('Predicted')\n",
    "plt.ylabel('Truth')"
   ]
  }
 ],
 "metadata": {
  "kernelspec": {
   "display_name": "Python 3 (ipykernel)",
   "language": "python",
   "name": "python3"
  },
  "language_info": {
   "codemirror_mode": {
    "name": "ipython",
    "version": 3
   },
   "file_extension": ".py",
   "mimetype": "text/x-python",
   "name": "python",
   "nbconvert_exporter": "python",
   "pygments_lexer": "ipython3",
   "version": "3.9.13"
  }
 },
 "nbformat": 4,
 "nbformat_minor": 5
}
