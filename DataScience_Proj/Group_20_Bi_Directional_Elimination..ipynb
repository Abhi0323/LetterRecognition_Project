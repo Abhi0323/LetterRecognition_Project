{
 "cells": [
  {
   "cell_type": "code",
   "execution_count": 1,
   "metadata": {
    "id": "6y3l3qTrPD2e"
   },
   "outputs": [],
   "source": [
    "import pandas as pd\n",
    "import numpy as np\n",
    "import warnings\n",
    "warnings.simplefilter(\"ignore\")\n",
    "\n",
    "df = pd.read_csv('Group_20_data_cleaned.csv')\n",
    "df.drop('Unnamed: 0', axis = 1 , inplace = True)\n",
    "df[\"Letter\"] = pd.factorize(df['Letter'])[0]"
   ]
  },
  {
   "cell_type": "code",
   "execution_count": 2,
   "metadata": {
    "id": "q9aqMXcPOPjG"
   },
   "outputs": [],
   "source": [
    "import joblib\n",
    "import sys\n",
    "\n",
    "sys.modules['sklearn.externals.joblib'] = joblib"
   ]
  },
  {
   "cell_type": "code",
   "execution_count": 3,
   "metadata": {
    "id": "LR16FJW3LOET"
   },
   "outputs": [],
   "source": [
    "from mlxtend.feature_selection import SequentialFeatureSelector as SFS\n",
    "import statsmodels.api as sm\n",
    "from sklearn.linear_model import LinearRegression\n",
    "\n",
    "import pandas as pd\n"
   ]
  },
  {
   "cell_type": "code",
   "execution_count": 4,
   "metadata": {
    "id": "a9rNj1qONWOw"
   },
   "outputs": [],
   "source": [
    "def stepwise_selection(data, target, SL_in=0.05, SL_out = 0.05):\n",
    "    initial_features = data.columns.tolist()\n",
    "    best_features = []\n",
    "\n",
    "    while (len(initial_features)>0):\n",
    "        remaining_features = list(set(initial_features)-set(best_features))\n",
    "        new_pval = pd.Series(index=remaining_features)\n",
    "\n",
    "        for new_column in remaining_features:\n",
    "            model = sm.OLS(target, sm.add_constant(data[best_features+[new_column]])).fit()\n",
    "            new_pval[new_column] = model.pvalues[new_column]\n",
    "        min_p_value = new_pval.min()\n",
    "\n",
    "        if(min_p_value<SL_in):\n",
    "            best_features.append(new_pval.idxmin())\n",
    "\n",
    "            while(len(best_features)>0):\n",
    "                best_features_with_constant = sm.add_constant(data[best_features])\n",
    "                p_values = sm.OLS(target, best_features_with_constant).fit().pvalues[1:]\n",
    "                max_p_value = p_values.max()\n",
    "\n",
    "                if(max_p_value >= SL_out):\n",
    "                    excluded_feature = p_values.idxmax()\n",
    "                    best_features.remove(excluded_feature)\n",
    "\n",
    "                else:\n",
    "                    break \n",
    "\n",
    "        else:\n",
    "            break\n",
    "\n",
    "    return best_features"
   ]
  },
  {
   "cell_type": "code",
   "execution_count": 5,
   "metadata": {
    "id": "ya8GP3m-Osnk"
   },
   "outputs": [],
   "source": [
    "import pandas as pd\n",
    "\n",
    "X = df.drop(\"Letter\", 1)       # feature matrix\n",
    "y = df['Letter']               # target feature"
   ]
  },
  {
   "cell_type": "code",
   "execution_count": 6,
   "metadata": {
    "colab": {
     "base_uri": "https://localhost:8080/"
    },
    "id": "wTzziHHbol0b",
    "outputId": "716eb915-fb8e-46f4-f66e-997512660c73"
   },
   "outputs": [
    {
     "name": "stdout",
     "output_type": "stream",
     "text": [
      "['x-box', 'y-box', 'width', 'high', 'onpix', 'x-bar', 'y-bar', 'x2bar', 'y2bar', 'xybar', 'x2ybr', 'xy2br', 'x-ege', 'xegvy', 'y_ege', 'yegvx']\n"
     ]
    }
   ],
   "source": [
    "features = list(X.columns)\n",
    "print(features)"
   ]
  },
  {
   "cell_type": "code",
   "execution_count": 7,
   "metadata": {
    "colab": {
     "base_uri": "https://localhost:8080/"
    },
    "id": "W_ebqEYENZRY",
    "outputId": "da22f486-8cd7-4ff4-facb-ff02605484c3"
   },
   "outputs": [
    {
     "name": "stdout",
     "output_type": "stream",
     "text": [
      "['x2ybr', 'xy2br', 'x-bar', 'xegvy', 'y-bar', 'y_ege', 'yegvx', 'width', 'y-box', 'x-ege', 'y2bar', 'onpix', 'high', 'x2bar']\n"
     ]
    }
   ],
   "source": [
    "import warnings\n",
    "warnings.simplefilter(action='ignore', category=FutureWarning)\n",
    "warnings.filterwarnings(\"ignore\", category=DeprecationWarning) \n",
    "\n",
    "bde_features = stepwise_selection(X,y)\n",
    "print(bde_features)"
   ]
  },
  {
   "cell_type": "markdown",
   "metadata": {
    "id": "oRWfqnGEwoBG"
   },
   "source": [
    "## Feature selection"
   ]
  },
  {
   "cell_type": "code",
   "execution_count": 8,
   "metadata": {
    "id": "dMjwx1gawnxK"
   },
   "outputs": [],
   "source": [
    "from sklearn.model_selection import train_test_split\n",
    "\n",
    "X, y = df.iloc[:,1:].to_numpy(), df.Letter.to_numpy()\n",
    "bde_X, y = df.loc[:, bde_features].to_numpy(), df.Letter.to_numpy()\n",
    "\n",
    "X_train, X_test, y_train, y_test = train_test_split(X, y, test_size=0.2, random_state=42)\n",
    "X_train, X_val, y_train, y_val = train_test_split(X_train, y_train, test_size=0.2, random_state=42)\n",
    "\n",
    "bde_X_train, bde_X_test, y_train, y_test = train_test_split(bde_X, y, test_size=0.20, random_state=42)\n",
    "bde_X_train, bde_X_val, y_train, y_val = train_test_split(bde_X_train, y_train, test_size=0.20, random_state=42)"
   ]
  },
  {
   "cell_type": "code",
   "execution_count": 9,
   "metadata": {
    "colab": {
     "base_uri": "https://localhost:8080/"
    },
    "id": "Skes0sJ1WwTK",
    "outputId": "ab22d5cf-0518-4c6c-f616-de254452142e"
   },
   "outputs": [
    {
     "name": "stdout",
     "output_type": "stream",
     "text": [
      "Accuracy : 94.38%\n"
     ]
    }
   ],
   "source": [
    "from sklearn.neighbors import KNeighborsClassifier\n",
    "\n",
    "simple_knn_model = KNeighborsClassifier(n_neighbors=10,\n",
    "                             weights=\"distance\",\n",
    "                             algorithm=\"auto\")\n",
    "\n",
    "simple_knn_model.fit(X_train, y_train)\n",
    "print(\"Accuracy : {:.2f}%\".format(simple_knn_model.score(X_val, y_val)*100))"
   ]
  },
  {
   "cell_type": "code",
   "execution_count": 10,
   "metadata": {
    "colab": {
     "base_uri": "https://localhost:8080/"
    },
    "id": "g5OeLe5-Xha-",
    "outputId": "f98a4e6f-e01d-4316-83bc-dde3aae0d4c9"
   },
   "outputs": [
    {
     "name": "stdout",
     "output_type": "stream",
     "text": [
      "Accuracy : 93.47%\n"
     ]
    }
   ],
   "source": [
    "from sklearn.neighbors import KNeighborsClassifier\n",
    "\n",
    "bde_knn_model = KNeighborsClassifier(n_neighbors=10,\n",
    "                             weights=\"distance\",\n",
    "                             algorithm=\"auto\")\n",
    "\n",
    "bde_knn_model.fit(bde_X_train, y_train)\n",
    "print(\"Accuracy : {:.2f}%\".format(bde_knn_model.score(bde_X_val, y_val)*100))"
   ]
  },
  {
   "cell_type": "code",
   "execution_count": 11,
   "metadata": {
    "colab": {
     "base_uri": "https://localhost:8080/",
     "height": 522
    },
    "id": "PvmrroPnxlu2",
    "outputId": "e30aea06-b875-4df1-d469-b37925134506"
   },
   "outputs": [
    {
     "data": {
      "image/png": "[encoded data removed]",
      "text/plain": [
       "<Figure size 800x800 with 1 Axes>"
      ]
     },
     "metadata": {},
     "output_type": "display_data"
    }
   ],
   "source": [
    "# Importing libraries for dataframe creation\n",
    "# and graph plotting\n",
    "import numpy as np\n",
    "import pandas as pd\n",
    "import seaborn as sns\n",
    "import matplotlib.pyplot as plt\n",
    "\n",
    "accuracy_results = {\"Model Names\" : [\"KNN Base Model\",\n",
    "                                      \"KNN after Bi-directional Elemination\",],\n",
    "        \"Accuracy\": [simple_knn_model.score(X_val, y_val)*100,\n",
    "                    bde_knn_model.score(bde_X_val, y_val)*100,]}\n",
    "accuracy_results = pd.DataFrame(accuracy_results, columns=['Model Names', 'Accuracy'])\n",
    "\n",
    "plt.figure(figsize=(8, 8))\n",
    "plots = sns.barplot(x=\"Model Names\", y=\"Accuracy\", data=accuracy_results)\n",
    "\n",
    "for bar in plots.patches:\n",
    "  plots.annotate(format(bar.get_height(), '.2f'),\n",
    "                   (bar.get_x() + bar.get_width() / 2,\n",
    "                    bar.get_height()), ha='center', va='center',\n",
    "                   size=12, xytext=(0, 8),\n",
    "                   textcoords='offset points')\n",
    "\n",
    "plt.title(\"Bi-directional Elimination Method\", size=20)\n",
    "plt.xlabel(\"Models\", size=14, )\n",
    "# plt.xticks(rotation = 25) \n",
    "plt.ylabel(\"Performance of the Model\", size=14)\n",
    "plt.show()"
   ]
  },
  {
   "cell_type": "code",
   "execution_count": 12,
   "metadata": {
    "colab": {
     "base_uri": "https://localhost:8080/",
     "height": 521
    },
    "id": "kbgxYASHW3NF",
    "outputId": "29efd366-6c0e-463e-e4ed-07f2e95a28bb"
   },
   "outputs": [
    {
     "data": {
      "image/png": "[encoded data removed]",
      "text/plain": [
       "<Figure size 800x800 with 1 Axes>"
      ]
     },
     "metadata": {},
     "output_type": "display_data"
    }
   ],
   "source": [
    "# Importing libraries for dataframe creation\n",
    "# and graph plotting\n",
    "import numpy as np\n",
    "import pandas as pd\n",
    "import seaborn as sns\n",
    "import matplotlib.pyplot as plt\n",
    "\n",
    "accuracy_results = {\"Model Names\" : ['All Features', 'Bidirectional Elimination Features'],\n",
    "        \"Accuracy\": [len(features), \n",
    "                     len(bde_features)]}\n",
    "accuracy_results = pd.DataFrame(accuracy_results, columns=['Model Names', 'Accuracy'])\n",
    "plt.figure(figsize=(8, 8))\n",
    "plots = sns.barplot(x=\"Model Names\", y=\"Accuracy\", data=accuracy_results)\n",
    " \n",
    "for bar in plots.patches:\n",
    "     plots.annotate(format(bar.get_height(), '.2f'),\n",
    "                   (bar.get_x() + bar.get_width() / 2,\n",
    "                    bar.get_height()), ha='center', va='center',\n",
    "                   size=12, xytext=(0, 8),\n",
    "                   textcoords='offset points')\n",
    "\n",
    "plt.xlabel(\"Feature Selection Methods\", size=14)\n",
    "plt.ylabel(\"No. of features\", size=14)\n",
    "plt.title(\"Bidirectional Elimination Feature\", size=18)\n",
    "plt.show()\n"
   ]
  },
  {
   "cell_type": "code",
   "execution_count": 13,
   "metadata": {
    "colab": {
     "base_uri": "https://localhost:8080/"
    },
    "id": "fDN9SRo8pySR",
    "outputId": "d39478df-1767-489d-a5e4-5545c2ed9ced"
   },
   "outputs": [
    {
     "name": "stdout",
     "output_type": "stream",
     "text": [
      "['x-box', 'y-box', 'width', 'high', 'onpix', 'x-bar', 'y-bar', 'x2bar', 'y2bar', 'xybar', 'x2ybr', 'xy2br', 'x-ege', 'xegvy', 'y_ege', 'yegvx']\n",
      "['x2ybr', 'xy2br', 'x-bar', 'xegvy', 'y-bar', 'y_ege', 'yegvx', 'width', 'y-box', 'x-ege', 'y2bar', 'onpix', 'high', 'x2bar']\n"
     ]
    }
   ],
   "source": [
    "print(features)\n",
    "print(bde_features)"
   ]
  },
  {
   "cell_type": "code",
   "execution_count": 14,
   "metadata": {
    "colab": {
     "base_uri": "https://localhost:8080/"
    },
    "id": "VVpCPU7pq9ya",
    "outputId": "aacc00c2-5077-49c8-acca-57b4acf2e4f3"
   },
   "outputs": [
    {
     "data": {
      "text/plain": [
       "{'x-box', 'xybar'}"
      ]
     },
     "execution_count": 14,
     "metadata": {},
     "output_type": "execute_result"
    }
   ],
   "source": [
    "set(features)-set(bde_features)"
   ]
  },
  {
   "cell_type": "code",
   "execution_count": null,
   "metadata": {
    "id": "FSa3UBrVrA6t"
   },
   "outputs": [],
   "source": []
  }
 ],
 "metadata": {
  "colab": {
   "provenance": []
  },
  "kernelspec": {
   "display_name": "Python 3 (ipykernel)",
   "language": "python",
   "name": "python3"
  },
  "language_info": {
   "codemirror_mode": {
    "name": "ipython",
    "version": 3
   },
   "file_extension": ".py",
   "mimetype": "text/x-python",
   "name": "python",
   "nbconvert_exporter": "python",
   "pygments_lexer": "ipython3",
   "version": "3.9.13"
  }
 },
 "nbformat": 4,
 "nbformat_minor": 1
}
