{
 "cells": [
  {
   "cell_type": "code",
   "execution_count": null,
   "metadata": {
    "id": "J2K5ofcxeb9j"
   },
   "outputs": [],
   "source": [
    "import pandas as pd\n",
    "import numpy as np\n",
    "import warnings\n",
    "warnings.simplefilter(\"ignore\")\n",
    "\n",
    "df = pd.read_csv('Group_20_data_cleaned.csv')\n",
    "df.drop('Unnamed: 0', axis = 1 , inplace = True)\n",
    "df[\"Letter\"] = pd.factorize(df['Letter'])[0]"
   ]
  },
  {
   "cell_type": "code",
   "execution_count": null,
   "metadata": {
    "colab": {
     "base_uri": "https://localhost:8080/"
    },
    "id": "eI4EQwiTfADV",
    "outputId": "671914ab-f002-4128-ae18-b49992f118e5"
   },
   "outputs": [
    {
     "name": "stdout",
     "output_type": "stream",
     "text": [
      "(12800, 16) (4000, 16) (3200, 16)\n",
      "(12800,) (4000,) (3200,)\n"
     ]
    }
   ],
   "source": [
    "import numpy as np\n",
    "from sklearn.model_selection import train_test_split\n",
    "\n",
    "X, y = df.iloc[:,1:].to_numpy(), df.Letter.to_numpy()\n",
    "\n",
    "X_train, X_test, y_train, y_test = train_test_split(X, y, test_size=0.20, random_state=42)\n",
    "X_train, X_val, y_train, y_val = train_test_split(X_train, y_train, test_size=0.20, random_state=42)\n",
    "\n",
    "print(X_train.shape, X_test.shape, X_val.shape)\n",
    "print(y_train.shape, y_test.shape, y_val.shape)"
   ]
  },
  {
   "cell_type": "markdown",
   "metadata": {
    "id": "BLjUd3BFip-9"
   },
   "source": [
    "## XGBoost"
   ]
  },
  {
   "cell_type": "code",
   "execution_count": null,
   "metadata": {
    "colab": {
     "base_uri": "https://localhost:8080/"
    },
    "id": "z4j_bAFH0PcF",
    "outputId": "81b8428b-983f-4981-8e33-b5de06bbc6a8"
   },
   "outputs": [
    {
     "name": "stdout",
     "output_type": "stream",
     "text": [
      "Accuracy: 87.84%\n"
     ]
    }
   ],
   "source": [
    "# from numpy import loadtxt\n",
    "# from xgboost import XGBClassifier\n",
    "# from sklearn.model_selection import train_test_split\n",
    "# from sklearn.metrics import accuracy_score\n",
    "\n",
    "# # fit model no training data\n",
    "# model = XGBClassifier()\n",
    "# model.fit(X_train, y_train)\n",
    "# # make predictions for test data\n",
    "# y_pred = model.predict(X_test)\n",
    "# predictions = [round(value) for value in y_pred]\n",
    "# # evaluate predictions\n",
    "# accuracy = accuracy_score(y_test, predictions)\n",
    "# print(\"Accuracy: %.2f%%\" % (accuracy * 100.0))"
   ]
  },
  {
   "cell_type": "markdown",
   "metadata": {
    "id": "B0KKRDTGim2r"
   },
   "source": [
    "## SK learn Bagging classifier"
   ]
  },
  {
   "cell_type": "code",
   "execution_count": null,
   "metadata": {
    "id": "Ms-6ccP_ilFY"
   },
   "outputs": [],
   "source": [
    "# from sklearn.svm import SVC\n",
    "# from sklearn.ensemble import BaggingClassifier\n",
    "# from sklearn.datasets import make_classification\n",
    "# # X, y = make_classification(n_samples=100, n_features=4, n_informative=2, n_redundant=0, random_state=0, shuffle=False)\n",
    "# clf = BaggingClassifier(base_estimator=SVC(), n_estimators=10, random_state=0).fit(X_train, y_train)\n",
    "# clf.predict(X_val)\n",
    "# # array([1])"
   ]
  },
  {
   "cell_type": "markdown",
   "metadata": {
    "id": "YfrIAIK2i0T-"
   },
   "source": [
    "## Voting Classifier"
   ]
  },
  {
   "cell_type": "code",
   "execution_count": null,
   "metadata": {
    "id": "AcNZZQyffB7I"
   },
   "outputs": [],
   "source": [
    "# # Reference Code\n",
    "\n",
    "# import numpy as np\n",
    "# from sklearn.linear_model import LogisticRegression\n",
    "# from sklearn.naive_bayes import GaussianNB\n",
    "# from sklearn.ensemble import RandomForestClassifier, VotingClassifier\n",
    "\n",
    "# clf1 = LogisticRegression(multi_class='multinomial', random_state=1)\n",
    "# clf2 = RandomForestClassifier(n_estimators=50, random_state=1)\n",
    "# clf = KNeighborsClassifier\n",
    "# clf3 = GaussianNB()\n",
    "\n",
    "# eclf1 = VotingClassifier(estimators=[('lr', clf1), ('rf', clf2), ('gnb', clf3)], voting='hard')\n",
    "# eclf1 = eclf1.fit(X_train, y_train)\n",
    "\n",
    "# print(eclf1.predict(X_val))\n",
    "\n",
    "# np.array_equal(eclf1.named_estimators_.lr.predict(X),eclf1.named_estimators_['lr'].predict(X_val))\n",
    "\n",
    "# eclf2 = VotingClassifier(estimators=[('lr', clf1), ('rf', clf2), ('gnb', clf3)],voting='soft')\n",
    "# eclf2 = eclf2.fit(X_train, y_train)\n",
    "# print(eclf2.predict(X_val))\n"
   ]
  },
  {
   "cell_type": "code",
   "execution_count": null,
   "metadata": {
    "colab": {
     "base_uri": "https://localhost:8080/"
    },
    "id": "CJeWk7oh4yXe",
    "outputId": "0c53e4ae-9be5-4568-ea41-ba1caa40768d"
   },
   "outputs": [
    {
     "name": "stderr",
     "output_type": "stream",
     "text": [
      "/usr/local/lib/python3.8/dist-packages/sklearn/linear_model/_logistic.py:814: ConvergenceWarning: lbfgs failed to converge (status=1):\n",
      "STOP: TOTAL NO. of ITERATIONS REACHED LIMIT.\n",
      "\n",
      "Increase the number of iterations (max_iter) or scale the data as shown in:\n",
      "    https://scikit-learn.org/stable/modules/preprocessing.html\n",
      "Please also refer to the documentation for alternative solver options:\n",
      "    https://scikit-learn.org/stable/modules/linear_model.html#logistic-regression\n",
      "  n_iter_i = _check_optimize_result(\n",
      "/usr/local/lib/python3.8/dist-packages/sklearn/linear_model/_sag.py:352: ConvergenceWarning: The max_iter was reached which means the coef_ did not converge\n",
      "  warnings.warn(\n"
     ]
    }
   ],
   "source": [
    "import numpy as np\n",
    "from sklearn.linear_model import LogisticRegression\n",
    "from sklearn.neighbors import KNeighborsClassifier\n",
    "from sklearn.linear_model import RidgeClassifierCV, RidgeClassifier\n",
    "from sklearn.ensemble import RandomForestClassifier, VotingClassifier\n",
    "\n",
    "\n",
    "clf1 = LogisticRegression(penalty='l2',)\n",
    "clf2 = LogisticRegression(penalty='l2', solver='saga')\n",
    "clf3 = LogisticRegression(penalty='l1', solver='liblinear')\n",
    "clf4 = LogisticRegression(penalty='l1', solver='liblinear')\n",
    "clf5 = RandomForestClassifier(n_estimators=15, \n",
    "                              max_depth=10,\n",
    "                              random_state=1)\n",
    "clf6 = RandomForestClassifier(n_estimators=20, \n",
    "                              max_depth=20,\n",
    "                              random_state=1)\n",
    "clf7 = RandomForestClassifier(n_estimators=25, \n",
    "                              max_depth=30,\n",
    "                              random_state=1)\n",
    "clf8 = RandomForestClassifier(n_estimators=15, \n",
    "                              max_depth=10,\n",
    "                              random_state=1)\n",
    "clf9 = RandomForestClassifier(n_estimators=20, \n",
    "                              max_depth=20,\n",
    "                              random_state=1)\n",
    "clf10 = RandomForestClassifier(n_estimators=25, \n",
    "                              max_depth=30,\n",
    "                              random_state=1)\n",
    "clf11 = RandomForestClassifier(n_estimators=15, \n",
    "                              max_depth=10,\n",
    "                              random_state=1)\n",
    "clf12 = RandomForestClassifier(n_estimators=20, \n",
    "                              max_depth=10,\n",
    "                              random_state=1)\n",
    "clf13 = KNeighborsClassifier(n_neighbors=5,\n",
    "                            weights='uniform', \n",
    "                            algorithm='auto', \n",
    "                            metric='euclidean')\n",
    "clf14 = KNeighborsClassifier(n_neighbors=7, \n",
    "                            weights='uniform', \n",
    "                            algorithm='ball_tree', \n",
    "                            metric='euclidean')\n",
    "clf15 = KNeighborsClassifier(n_neighbors=9, \n",
    "                            weights='uniform', \n",
    "                            algorithm='brute', \n",
    "                            metric='minkowski')\n",
    "clf16 = KNeighborsClassifier(n_neighbors=5, \n",
    "                            weights='distance', \n",
    "                            algorithm='ball_tree', \n",
    "                            metric='manhattan')\n",
    "clf17 = KNeighborsClassifier(n_neighbors=7, \n",
    "                            weights='distance', \n",
    "                            algorithm='auto', \n",
    "                            metric='minkowski')\n",
    "clf18 = KNeighborsClassifier(n_neighbors=3, \n",
    "                            weights='distance', \n",
    "                            algorithm='auto', \n",
    "                            metric='manhattan')\n",
    "clf19 = RidgeClassifierCV(alphas=(0.1, 1.0), \n",
    "\t\t\t\t\t\tfit_intercept=True)\n",
    "clf20 = RidgeClassifierCV(alphas=(0.1, 1.0), \n",
    "\t\t\t\t\t\tfit_intercept=True)\n",
    "clf21 = RidgeClassifier(alpha=1.0,\n",
    "\t\t\t\t\t\tfit_intercept=True)\n",
    "clf22 = RidgeClassifier(alpha=0.1,\n",
    "\t\t\t\t\t\tfit_intercept=True)\n",
    "\n",
    "\n",
    "ensemble = VotingClassifier(estimators=[('LogisticRegression1', clf1), \n",
    "                                     ('LogisticRegression2', clf2), \n",
    "                                     ('LogisticRegression3', clf3), \n",
    "                                     ('LogisticRegression4', clf4), \n",
    "                                     ('RandomForestClassifier1', clf5), \n",
    "                                     ('RandomForestClassifier2', clf6), \n",
    "                                     ('RandomForestClassifier3', clf7), \n",
    "                                     ('RandomForestClassifier4', clf8), \n",
    "                                     ('RandomForestClassifier5', clf9), \n",
    "                                     ('RandomForestClassifier6', clf10), \n",
    "                                     ('RandomForestClassifier7', clf11), \n",
    "                                     ('RandomForestClassifier8', clf12), \n",
    "                                     ('KNeighborsClassifier1', clf13), \n",
    "                                     ('KNeighborsClassifier2', clf14), \n",
    "                                     ('KNeighborsClassifier3', clf15), \n",
    "                                     ('KNeighborsClassifier4', clf16), \n",
    "                                     ('KNeighborsClassifier5', clf17), \n",
    "                                     ('KNeighborsClassifier6', clf18), \n",
    "                                     ('RidgeClassifierCV1', clf19), \n",
    "                                     ('RidgeClassifierCV2', clf20), \n",
    "                                     ('RidgeClassifier1', clf21), \n",
    "                                     ('RidgeClassifier2', clf22)\n",
    "                                    ], \n",
    "                         voting='hard')\n",
    "ensemble = ensemble.fit(X_train, y_train)\n"
   ]
  },
  {
   "cell_type": "code",
   "execution_count": null,
   "metadata": {
    "colab": {
     "base_uri": "https://localhost:8080/"
    },
    "id": "x4k1bYGC5rHW",
    "outputId": "b74b9aed-c04c-41d2-f55c-c593cce68b54"
   },
   "outputs": [
    {
     "name": "stdout",
     "output_type": "stream",
     "text": [
      "              precision    recall  f1-score   support\n",
      "\n",
      "           0       0.97      0.98      0.97       119\n",
      "           1       0.94      0.94      0.94       136\n",
      "           2       0.93      0.95      0.94       148\n",
      "           3       0.91      0.94      0.92       114\n",
      "           4       0.93      0.91      0.92       137\n",
      "           5       0.95      0.90      0.92       115\n",
      "           6       0.86      0.97      0.91       128\n",
      "           7       0.93      1.00      0.96       131\n",
      "           8       0.98      0.89      0.93        98\n",
      "           9       0.93      0.97      0.95       142\n",
      "          10       0.95      0.98      0.97       126\n",
      "          11       0.89      0.98      0.93       136\n",
      "          12       0.90      0.93      0.92       123\n",
      "          13       0.92      0.95      0.93       131\n",
      "          14       0.96      0.96      0.96       112\n",
      "          15       0.91      0.86      0.88       119\n",
      "          16       0.95      0.94      0.95       132\n",
      "          17       1.00      0.97      0.99       104\n",
      "          18       0.98      0.93      0.95       135\n",
      "          19       0.94      0.89      0.92       122\n",
      "          20       0.98      0.95      0.96       111\n",
      "          21       1.00      0.95      0.98       127\n",
      "          22       0.92      0.95      0.93       129\n",
      "          23       0.97      0.88      0.92       108\n",
      "          24       0.95      0.86      0.90       105\n",
      "          25       0.95      0.96      0.96       112\n",
      "\n",
      "    accuracy                           0.94      3200\n",
      "   macro avg       0.94      0.94      0.94      3200\n",
      "weighted avg       0.94      0.94      0.94      3200\n",
      " \n",
      "\n",
      "\n",
      "Confusion matrix: \n",
      " [[117   0   0   0   1   0   0   0   0   0   1   0   0   0   0   0   0   0\n",
      "    0   0   0   0   0   0   0   0]\n",
      " [  0 128   1   0   0   0   1   0   2   0   0   0   0   0   1   0   0   0\n",
      "    1   0   0   0   2   0   0   0]\n",
      " [  0   0 140   2   0   0   1   0   0   0   0   1   0   0   0   4   0   0\n",
      "    0   0   0   0   0   0   0   0]\n",
      " [  1   0   4 107   0   0   0   0   0   0   0   2   0   0   0   0   0   0\n",
      "    0   0   0   0   0   0   0   0]\n",
      " [  0   0   0   0 125   0   0   2   0   0   0   2   0   0   3   1   2   0\n",
      "    0   0   0   0   1   0   1   0]\n",
      " [  0   0   0   0   0 103   5   0   0   0   0   0   1   2   0   0   0   0\n",
      "    0   1   0   0   1   0   0   2]\n",
      " [  0   0   0   1   0   0 124   0   0   0   1   0   2   0   0   0   0   0\n",
      "    0   0   0   0   0   0   0   0]\n",
      " [  0   0   0   0   0   0   0 131   0   0   0   0   0   0   0   0   0   0\n",
      "    0   0   0   0   0   0   0   0]\n",
      " [  0   8   0   1   0   0   0   0  87   0   1   1   0   0   0   0   0   0\n",
      "    0   0   0   0   0   0   0   0]\n",
      " [  0   0   0   2   0   0   0   0   0 138   0   0   0   0   0   0   1   0\n",
      "    0   0   1   0   0   0   0   0]\n",
      " [  0   0   0   0   0   0   0   0   0   0 124   0   0   0   0   0   0   0\n",
      "    0   2   0   0   0   0   0   0]\n",
      " [  0   0   1   0   0   0   1   1   0   0   0 133   0   0   0   0   0   0\n",
      "    0   0   0   0   0   0   0   0]\n",
      " [  1   0   1   1   0   0   4   0   0   0   0   0 115   0   0   0   0   0\n",
      "    0   0   0   0   1   0   0   0]\n",
      " [  0   0   0   1   1   3   1   0   0   0   0   0   0 124   0   0   0   0\n",
      "    1   0   0   0   0   0   0   0]\n",
      " [  0   0   0   0   0   0   0   0   0   0   0   2   0   1 108   0   0   0\n",
      "    0   1   0   0   0   0   0   0]\n",
      " [  0   0   2   0   2   0   4   0   0   0   0   2   1   0   0 102   0   0\n",
      "    0   0   0   0   1   2   3   0]\n",
      " [  0   0   0   2   0   0   0   0   0   4   0   1   0   0   0   0 124   0\n",
      "    0   0   0   0   0   1   0   0]\n",
      " [  0   0   0   0   2   0   0   0   0   0   0   0   1   0   0   0   0 101\n",
      "    0   0   0   0   0   0   0   0]\n",
      " [  0   0   0   0   1   0   1   0   0   0   0   2   0   5   0   0   0   0\n",
      "  125   1   0   0   0   0   0   0]\n",
      " [  0   0   0   0   1   1   1   0   0   0   1   0   2   0   1   0   0   0\n",
      "    0 109   0   0   2   0   1   3]\n",
      " [  1   0   0   0   0   0   1   0   0   0   0   0   0   1   0   0   3   0\n",
      "    0   0 105   0   0   0   0   0]\n",
      " [  1   0   0   0   0   0   0   1   0   0   0   0   0   1   0   0   0   0\n",
      "    0   0   1 121   2   0   0   0]\n",
      " [  0   0   0   0   1   0   0   2   0   0   0   3   0   0   0   0   0   0\n",
      "    0   0   0   0 122   0   0   1]\n",
      " [  0   0   0   1   0   0   0   4   0   5   0   0   0   0   0   3   0   0\n",
      "    0   0   0   0   0  95   0   0]\n",
      " [  0   0   1   0   0   0   1   0   0   2   2   0   6   0   0   2   0   0\n",
      "    0   1   0   0   0   0  90   0]\n",
      " [  0   0   0   0   0   1   0   0   0   0   0   0   0   1   0   0   0   0\n",
      "    0   1   0   0   1   0   0 108]]\n"
     ]
    }
   ],
   "source": [
    "from sklearn.metrics import classification_report, confusion_matrix, accuracy_score\n",
    "\n",
    "ensemble_predictions = ensemble.predict(X_val)\n",
    "\n",
    "print(classification_report(y_val, ensemble_predictions),'\\n\\n')\n",
    "print(\"Confusion matrix: \\n\",confusion_matrix(y_val, ensemble_predictions))"
   ]
  },
  {
   "cell_type": "code",
   "execution_count": null,
   "metadata": {
    "colab": {
     "base_uri": "https://localhost:8080/",
     "height": 355
    },
    "id": "e6Ua7TKS9Xa1",
    "outputId": "35ea0360-c1db-455d-adc8-872ac23d276a"
   },
   "outputs": [
    {
     "name": "stderr",
     "output_type": "stream",
     "text": [
      "/usr/local/lib/python3.8/dist-packages/sklearn/utils/deprecation.py:87: FutureWarning: Function plot_confusion_matrix is deprecated; Function `plot_confusion_matrix` is deprecated in 1.0 and will be removed in 1.2. Use one of the class methods: ConfusionMatrixDisplay.from_predictions or ConfusionMatrixDisplay.from_estimator.\n",
      "  warnings.warn(msg, category=FutureWarning)\n"
     ]
    },
    {
     "data": {
      "text/plain": [
       "<sklearn.metrics._plot.confusion_matrix.ConfusionMatrixDisplay at 0x7f499923c5b0>"
      ]
     },
     "execution_count": 6,
     "metadata": {},
     "output_type": "execute_result"
    },
    {
     "data": {
      "image/png": "[encoded data removed]",
      "text/plain": [
       "<Figure size 432x288 with 2 Axes>"
      ]
     },
     "metadata": {
      "needs_background": "light"
     },
     "output_type": "display_data"
    }
   ],
   "source": [
    "from sklearn.metrics import plot_confusion_matrix\n",
    "\n",
    "plot_confusion_matrix(ensemble, X_val, y_val, display_labels=['non-commercial','commercial'])"
   ]
  },
  {
   "cell_type": "markdown",
   "metadata": {
    "id": "zzjK1ZGv_eyK"
   },
   "source": [
    "# Comparing single models with Ensemble"
   ]
  },
  {
   "cell_type": "markdown",
   "metadata": {
    "id": "mK5wh4kb_qh1"
   },
   "source": [
    "# Ensemble model"
   ]
  },
  {
   "cell_type": "code",
   "execution_count": null,
   "metadata": {
    "colab": {
     "base_uri": "https://localhost:8080/",
     "height": 521
    },
    "id": "fVlfJZLv9swW",
    "outputId": "52822c7b-912b-4be9-a050-1be4fb0b6e09"
   },
   "outputs": [
    {
     "data": {
      "image/png": "[encoded data removed]",
      "text/plain": [
       "<Figure size 576x576 with 1 Axes>"
      ]
     },
     "metadata": {
      "needs_background": "light"
     },
     "output_type": "display_data"
    }
   ],
   "source": [
    "# Importing libraries for dataframe creation\n",
    "# and graph plotting\n",
    "import numpy as np\n",
    "import pandas as pd\n",
    "import seaborn as sns\n",
    "import matplotlib.pyplot as plt\n",
    "\n",
    "accuracy_results = {\"Model Names\" : ['ensemble'],\n",
    "        \"Accuracy\": [accuracy_score(ensemble_predictions, y_val)*100]}\n",
    "accuracy_results = pd.DataFrame(accuracy_results, columns=['Model Names', 'Accuracy'])\n",
    "plt.figure(figsize=(8, 8))\n",
    "plots = sns.barplot(x=\"Model Names\", y=\"Accuracy\", data=accuracy_results)\n",
    "\n",
    "for bar in plots.patches:\n",
    "  plots.annotate(format(bar.get_height(), '.2f'),\n",
    "                   (bar.get_x() + bar.get_width() / 2,\n",
    "                    bar.get_height()), ha='center', va='center',\n",
    "                   size=12, xytext=(0, 8),\n",
    "                   textcoords='offset points')\n",
    "\n",
    "plt.xlabel(\"Models\", size=18)\n",
    "plt.ylabel(\"Performance of the Model\", size=14)\n",
    "plt.title(\"Model performance comparison\")\n",
    "plt.show()"
   ]
  },
  {
   "cell_type": "markdown",
   "metadata": {
    "id": "qWY0uMDa_j0o"
   },
   "source": [
    "## Single models"
   ]
  },
  {
   "cell_type": "markdown",
   "metadata": {
    "id": "N-E0yIYN_Axn"
   },
   "source": [
    "![image.png](data:image/png;base64,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)"
   ]
  },
  {
   "cell_type": "code",
   "execution_count": null,
   "metadata": {
    "id": "mzLpErqfABSh"
   },
   "outputs": [],
   "source": []
  }
 ],
 "metadata": {
  "colab": {
   "provenance": []
  },
  "kernelspec": {
   "display_name": "Python 3 (ipykernel)",
   "language": "python",
   "name": "python3"
  },
  "language_info": {
   "codemirror_mode": {
    "name": "ipython",
    "version": 3
   },
   "file_extension": ".py",
   "mimetype": "text/x-python",
   "name": "python",
   "nbconvert_exporter": "python",
   "pygments_lexer": "ipython3",
   "version": "3.9.13"
  }
 },
 "nbformat": 4,
 "nbformat_minor": 1
}
